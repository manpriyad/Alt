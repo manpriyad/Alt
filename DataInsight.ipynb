{
  "nbformat": 4,
  "nbformat_minor": 0,
  "metadata": {
    "colab": {
      "name": "DataInsight.ipynb",
      "provenance": [],
      "collapsed_sections": [],
      "authorship_tag": "ABX9TyNn297qrWk3eUXr8n9gwXBh",
      "include_colab_link": true
    },
    "kernelspec": {
      "name": "python3",
      "display_name": "Python 3"
    }
  },
  "cells": [
    {
      "cell_type": "markdown",
      "metadata": {
        "id": "view-in-github",
        "colab_type": "text"
      },
      "source": [
        "<a href=\"https://colab.research.google.com/github/manpriyad/Alt/blob/master/DataInsight.ipynb\" target=\"_parent\"><img src=\"https://colab.research.google.com/assets/colab-badge.svg\" alt=\"Open In Colab\"/></a>"
      ]
    },
    {
      "cell_type": "code",
      "metadata": {
        "id": "_hhubKC9JpRU"
      },
      "source": [
        "import pandas as pd\n",
        "import numpy as np\n",
        "import matplotlib.pyplot as plt\n",
        "import seaborn as sns\n",
        "%matplotlib inline"
      ],
      "execution_count": 3,
      "outputs": []
    },
    {
      "cell_type": "code",
      "metadata": {
        "id": "vrsH84bjKPfr"
      },
      "source": [
        "superstore=pd.read_excel('US Superstore data.xls')"
      ],
      "execution_count": 4,
      "outputs": []
    },
    {
      "cell_type": "code",
      "metadata": {
        "id": "Vcdg3JrTKga5",
        "outputId": "f3a42590-7758-4b1a-b520-db947114df2a",
        "colab": {
          "base_uri": "https://localhost:8080/",
          "height": 269
        }
      },
      "source": [
        "superstore.head(2)"
      ],
      "execution_count": 5,
      "outputs": [
        {
          "output_type": "execute_result",
          "data": {
            "text/html": [
              "<div>\n",
              "<style scoped>\n",
              "    .dataframe tbody tr th:only-of-type {\n",
              "        vertical-align: middle;\n",
              "    }\n",
              "\n",
              "    .dataframe tbody tr th {\n",
              "        vertical-align: top;\n",
              "    }\n",
              "\n",
              "    .dataframe thead th {\n",
              "        text-align: right;\n",
              "    }\n",
              "</style>\n",
              "<table border=\"1\" class=\"dataframe\">\n",
              "  <thead>\n",
              "    <tr style=\"text-align: right;\">\n",
              "      <th></th>\n",
              "      <th>Row ID</th>\n",
              "      <th>Order ID</th>\n",
              "      <th>Order Date</th>\n",
              "      <th>Ship Date</th>\n",
              "      <th>Ship Mode</th>\n",
              "      <th>Customer ID</th>\n",
              "      <th>Customer Name</th>\n",
              "      <th>Segment</th>\n",
              "      <th>Country</th>\n",
              "      <th>City</th>\n",
              "      <th>State</th>\n",
              "      <th>Postal Code</th>\n",
              "      <th>Region</th>\n",
              "      <th>Product ID</th>\n",
              "      <th>Category</th>\n",
              "      <th>Sub-Category</th>\n",
              "      <th>Product Name</th>\n",
              "      <th>Sales</th>\n",
              "      <th>Quantity</th>\n",
              "      <th>Discount</th>\n",
              "      <th>Profit</th>\n",
              "    </tr>\n",
              "  </thead>\n",
              "  <tbody>\n",
              "    <tr>\n",
              "      <th>0</th>\n",
              "      <td>1</td>\n",
              "      <td>CA-2016-152156</td>\n",
              "      <td>2016-11-08</td>\n",
              "      <td>2016-11-11</td>\n",
              "      <td>Second Class</td>\n",
              "      <td>CG-12520</td>\n",
              "      <td>Claire Gute</td>\n",
              "      <td>Consumer</td>\n",
              "      <td>United States</td>\n",
              "      <td>Henderson</td>\n",
              "      <td>Kentucky</td>\n",
              "      <td>42420</td>\n",
              "      <td>South</td>\n",
              "      <td>FUR-BO-10001798</td>\n",
              "      <td>Furniture</td>\n",
              "      <td>Bookcases</td>\n",
              "      <td>Bush Somerset Collection Bookcase</td>\n",
              "      <td>261.96</td>\n",
              "      <td>2</td>\n",
              "      <td>0.0</td>\n",
              "      <td>41.9136</td>\n",
              "    </tr>\n",
              "    <tr>\n",
              "      <th>1</th>\n",
              "      <td>2</td>\n",
              "      <td>CA-2016-152156</td>\n",
              "      <td>2016-11-08</td>\n",
              "      <td>2016-11-11</td>\n",
              "      <td>Second Class</td>\n",
              "      <td>CG-12520</td>\n",
              "      <td>Claire Gute</td>\n",
              "      <td>Consumer</td>\n",
              "      <td>United States</td>\n",
              "      <td>Henderson</td>\n",
              "      <td>Kentucky</td>\n",
              "      <td>42420</td>\n",
              "      <td>South</td>\n",
              "      <td>FUR-CH-10000454</td>\n",
              "      <td>Furniture</td>\n",
              "      <td>Chairs</td>\n",
              "      <td>Hon Deluxe Fabric Upholstered Stacking Chairs,...</td>\n",
              "      <td>731.94</td>\n",
              "      <td>3</td>\n",
              "      <td>0.0</td>\n",
              "      <td>219.5820</td>\n",
              "    </tr>\n",
              "  </tbody>\n",
              "</table>\n",
              "</div>"
            ],
            "text/plain": [
              "   Row ID        Order ID Order Date  ... Quantity Discount    Profit\n",
              "0       1  CA-2016-152156 2016-11-08  ...        2      0.0   41.9136\n",
              "1       2  CA-2016-152156 2016-11-08  ...        3      0.0  219.5820\n",
              "\n",
              "[2 rows x 21 columns]"
            ]
          },
          "metadata": {
            "tags": []
          },
          "execution_count": 5
        }
      ]
    },
    {
      "cell_type": "code",
      "metadata": {
        "id": "obrzFWHXMRnD",
        "outputId": "bf7f4ec7-7c25-4982-909a-4e1ce5ca0b86",
        "colab": {
          "base_uri": "https://localhost:8080/",
          "height": 427
        }
      },
      "source": [
        " plt.title('\\n\\n Graph to identify the counts of items under Segments\\n\\n')\n",
        " sns.countplot(superstore['Segment'],hue=superstore['Category'])"
      ],
      "execution_count": 6,
      "outputs": [
        {
          "output_type": "stream",
          "text": [
            "/usr/local/lib/python3.6/dist-packages/seaborn/_decorators.py:43: FutureWarning: Pass the following variable as a keyword arg: x. From version 0.12, the only valid positional argument will be `data`, and passing other arguments without an explicit keyword will result in an error or misinterpretation.\n",
            "  FutureWarning\n"
          ],
          "name": "stderr"
        },
        {
          "output_type": "execute_result",
          "data": {
            "text/plain": [
              "<matplotlib.axes._subplots.AxesSubplot at 0x7f4a58e726d8>"
            ]
          },
          "metadata": {
            "tags": []
          },
          "execution_count": 6
        },
        {
          "output_type": "display_data",
          "data": {
            "image/png": "[encoded data removed]",
            "text/plain": [
              "<Figure size 432x288 with 1 Axes>"
            ]
          },
          "metadata": {
            "tags": [],
            "needs_background": "light"
          }
        }
      ]
    },
    {
      "cell_type": "markdown",
      "metadata": {
        "id": "Yxsro4D0lILR"
      },
      "source": [
        "We noticed Office Supplies contribute to maximum count in each segment . So lets see how much profit its making"
      ]
    },
    {
      "cell_type": "code",
      "metadata": {
        "id": "6acBmjHo9G6-"
      },
      "source": [
        "superstore['Profit%age']=(superstore['Profit']/superstore['Sales'])*100"
      ],
      "execution_count": 7,
      "outputs": []
    },
    {
      "cell_type": "code",
      "metadata": {
        "id": "oei0HKRS9Shg"
      },
      "source": [
        "superstore_consumer=superstore[superstore['Segment']=='Consumer']\n",
        "superstore_corporater=superstore[superstore['Segment']=='Corporate']\n",
        "superstore_home_office=superstore[superstore['Segment']=='Home Office']"
      ],
      "execution_count": 8,
      "outputs": []
    },
    {
      "cell_type": "markdown",
      "metadata": {
        "id": "xpZ0RF_vEG_S"
      },
      "source": [
        "Lets Find out most profitable Segment"
      ]
    },
    {
      "cell_type": "code",
      "metadata": {
        "id": "Sv8aQJo99Sk-",
        "outputId": "d476ca6d-0b3c-43b4-987e-c162a9695613",
        "colab": {
          "base_uri": "https://localhost:8080/",
          "height": 35
        }
      },
      "source": [
        "avg_profit_segment=superstore.groupby('Segment')['Profit%age'].mean()\n",
        "df_avg_profit_by_Segment=pd.DataFrame(avg_profit_segment)\n",
        "df_avg_profit_by_Segment=df_avg_profit_by_Segment.reset_index()\n",
        "df_avg_profit_by_Segment.columns\n"
      ],
      "execution_count": 9,
      "outputs": [
        {
          "output_type": "execute_result",
          "data": {
            "text/plain": [
              "Index(['Segment', 'Profit%age'], dtype='object')"
            ]
          },
          "metadata": {
            "tags": []
          },
          "execution_count": 9
        }
      ]
    },
    {
      "cell_type": "code",
      "metadata": {
        "id": "SqqAQ6KHMo-S",
        "outputId": "3101bc68-f380-4395-e917-9a49ae9e1ca5",
        "colab": {
          "base_uri": "https://localhost:8080/",
          "height": 373
        }
      },
      "source": [
        "plt.title('\\n\\nGraph to identify Profit Percentage by Segment\\n\\n')\n",
        "sns.barplot(data=df_avg_profit_by_Segment,y=df_avg_profit_by_Segment['Profit%age'],x=df_avg_profit_by_Segment['Segment'])"
      ],
      "execution_count": 10,
      "outputs": [
        {
          "output_type": "execute_result",
          "data": {
            "text/plain": [
              "<matplotlib.axes._subplots.AxesSubplot at 0x7f4a59448668>"
            ]
          },
          "metadata": {
            "tags": []
          },
          "execution_count": 10
        },
        {
          "output_type": "display_data",
          "data": {
            "image/png": "[encoded data removed]",
            "text/plain": [
              "<Figure size 432x288 with 1 Axes>"
            ]
          },
          "metadata": {
            "tags": [],
            "needs_background": "light"
          }
        }
      ]
    },
    {
      "cell_type": "markdown",
      "metadata": {
        "id": "o-oW1oEVENVs"
      },
      "source": [
        "Lets Find out most profitable Category in most profitable segment"
      ]
    },
    {
      "cell_type": "code",
      "metadata": {
        "id": "CrAboTpADJng",
        "outputId": "8df424e0-3229-4b3f-9c57-60f3f83d31ba",
        "colab": {
          "base_uri": "https://localhost:8080/",
          "height": 87
        }
      },
      "source": [
        "avg_profit_c_ho=superstore_home_office.groupby('Category')['Profit%age'].mean()\n",
        "df_avg_profit_c_ho=pd.DataFrame(avg_profit_c_ho)\n",
        "df_avg_profit_c_ho=df_avg_profit_c_ho.reset_index()\n",
        "print(df_avg_profit_c_ho)"
      ],
      "execution_count": 11,
      "outputs": [
        {
          "output_type": "stream",
          "text": [
            "          Category  Profit%age\n",
            "0        Furniture    5.211074\n",
            "1  Office Supplies   16.570590\n",
            "2       Technology   16.688805\n"
          ],
          "name": "stdout"
        }
      ]
    },
    {
      "cell_type": "code",
      "metadata": {
        "id": "igV1T7_HOLme",
        "outputId": "392a5b30-7368-458e-aaec-22339ffb043f",
        "colab": {
          "base_uri": "https://localhost:8080/",
          "height": 373
        }
      },
      "source": [
        "plt.title('\\n\\nGraph to identify Profit Percentage under Home Office by Category \\n\\n')\n",
        "sns.barplot(data=df_avg_profit_c_ho,y=df_avg_profit_c_ho['Profit%age'],x=df_avg_profit_c_ho['Category'])"
      ],
      "execution_count": 12,
      "outputs": [
        {
          "output_type": "execute_result",
          "data": {
            "text/plain": [
              "<matplotlib.axes._subplots.AxesSubplot at 0x7f4a58b22550>"
            ]
          },
          "metadata": {
            "tags": []
          },
          "execution_count": 12
        },
        {
          "output_type": "display_data",
          "data": {
            "image/png": "[encoded data removed]",
            "text/plain": [
              "<Figure size 432x288 with 1 Axes>"
            ]
          },
          "metadata": {
            "tags": [],
            "needs_background": "light"
          }
        }
      ]
    },
    {
      "cell_type": "markdown",
      "metadata": {
        "id": "Cb5vzNDSGaP6"
      },
      "source": [
        "Lets dig further deeper from Categories to Sub-Categories"
      ]
    },
    {
      "cell_type": "code",
      "metadata": {
        "id": "UCD_wUDMGlhV",
        "outputId": "6acbc432-beac-4ff8-c539-41c46b5c0c3a",
        "colab": {
          "base_uri": "https://localhost:8080/",
          "height": 121
        }
      },
      "source": [
        "superstore_home_office_tech=superstore[(superstore['Segment']=='Home Office') & (superstore['Category']=='Technology')]\n",
        "avg_profit_ho_tech_category=superstore_home_office_tech.groupby('Sub-Category')['Profit%age'].mean()\n",
        "df_avg_profit_ho__tech_category=pd.DataFrame(avg_profit_ho_tech_category)\n",
        "print(df_avg_profit_ho__tech_category)"
      ],
      "execution_count": 13,
      "outputs": [
        {
          "output_type": "stream",
          "text": [
            "              Profit%age\n",
            "Sub-Category            \n",
            "Accessories    23.178571\n",
            "Copiers        38.019231\n",
            "Machines        5.818323\n",
            "Phones         11.051205\n"
          ],
          "name": "stdout"
        }
      ]
    },
    {
      "cell_type": "code",
      "metadata": {
        "id": "yOZNeUJJKeQ8",
        "outputId": "4203caa4-cb98-490c-ed10-ca37bf9973a5",
        "colab": {
          "base_uri": "https://localhost:8080/",
          "height": 171
        }
      },
      "source": [
        "df_avg_profit_ho__tech_category=df_avg_profit_ho__tech_category.reset_index()\n",
        "df_avg_profit_ho__tech_category"
      ],
      "execution_count": 14,
      "outputs": [
        {
          "output_type": "execute_result",
          "data": {
            "text/html": [
              "<div>\n",
              "<style scoped>\n",
              "    .dataframe tbody tr th:only-of-type {\n",
              "        vertical-align: middle;\n",
              "    }\n",
              "\n",
              "    .dataframe tbody tr th {\n",
              "        vertical-align: top;\n",
              "    }\n",
              "\n",
              "    .dataframe thead th {\n",
              "        text-align: right;\n",
              "    }\n",
              "</style>\n",
              "<table border=\"1\" class=\"dataframe\">\n",
              "  <thead>\n",
              "    <tr style=\"text-align: right;\">\n",
              "      <th></th>\n",
              "      <th>Sub-Category</th>\n",
              "      <th>Profit%age</th>\n",
              "    </tr>\n",
              "  </thead>\n",
              "  <tbody>\n",
              "    <tr>\n",
              "      <th>0</th>\n",
              "      <td>Accessories</td>\n",
              "      <td>23.178571</td>\n",
              "    </tr>\n",
              "    <tr>\n",
              "      <th>1</th>\n",
              "      <td>Copiers</td>\n",
              "      <td>38.019231</td>\n",
              "    </tr>\n",
              "    <tr>\n",
              "      <th>2</th>\n",
              "      <td>Machines</td>\n",
              "      <td>5.818323</td>\n",
              "    </tr>\n",
              "    <tr>\n",
              "      <th>3</th>\n",
              "      <td>Phones</td>\n",
              "      <td>11.051205</td>\n",
              "    </tr>\n",
              "  </tbody>\n",
              "</table>\n",
              "</div>"
            ],
            "text/plain": [
              "  Sub-Category  Profit%age\n",
              "0  Accessories   23.178571\n",
              "1      Copiers   38.019231\n",
              "2     Machines    5.818323\n",
              "3       Phones   11.051205"
            ]
          },
          "metadata": {
            "tags": []
          },
          "execution_count": 14
        }
      ]
    },
    {
      "cell_type": "code",
      "metadata": {
        "id": "ojyaIY2tJkKj",
        "outputId": "55b7019c-bea6-4de4-fa86-5231edb23080",
        "colab": {
          "base_uri": "https://localhost:8080/",
          "height": 373
        }
      },
      "source": [
        "plt.title('\\n\\nGraph to identify Profit Percentage by Sub category under Home Office Supplies(Technology)\\n\\n')\n",
        "sns.barplot(data=df_avg_profit_ho__tech_category,y=df_avg_profit_ho__tech_category['Profit%age'],x=df_avg_profit_ho__tech_category['Sub-Category'])"
      ],
      "execution_count": 15,
      "outputs": [
        {
          "output_type": "execute_result",
          "data": {
            "text/plain": [
              "<matplotlib.axes._subplots.AxesSubplot at 0x7f4a5943b518>"
            ]
          },
          "metadata": {
            "tags": []
          },
          "execution_count": 15
        },
        {
          "output_type": "display_data",
          "data": {
            "image/png": "[encoded data removed]",
            "text/plain": [
              "<Figure size 432x288 with 1 Axes>"
            ]
          },
          "metadata": {
            "tags": [],
            "needs_background": "light"
          }
        }
      ]
    },
    {
      "cell_type": "code",
      "metadata": {
        "id": "LwgiI0UOCU-Q",
        "outputId": "f02386ac-a2d7-477e-d98a-b650f5f02951",
        "colab": {
          "base_uri": "https://localhost:8080/",
          "height": 355
        }
      },
      "source": [
        "# superstore.columns\n",
        "superstore_copier=superstore[superstore['Sub-Category']=='Copiers'][['Product Name','Discount','Profit%age']]\n",
        "# superstore_copier['CompanyName']=superstore_copier[]\n",
        "\n",
        "\n",
        "# new data frame with split value columns \n",
        "new = superstore_copier[\"Product Name\"].str.split(\" \", n = 1, expand = True) \n",
        "  \n",
        "# making separate first name column from new data frame \n",
        "superstore_copier[\"Company Name\"]= new[0] \n",
        "  \n",
        "# making separate last name column from new data frame \n",
        "superstore_copier[\"Product_Name\"]= new[1] \n",
        "  \n",
        "# Dropping old Name columns \n",
        "superstore_copier.drop(columns =[\"Product Name\"], inplace = True) \n",
        "  \n",
        "# df display \n",
        "superstore_copier.sort_values(by='Profit%age',ascending=False).head(10)\n",
        "\n",
        "# superstore_copier.sort_values(by='Profit%age',ascending=False)"
      ],
      "execution_count": 17,
      "outputs": [
        {
          "output_type": "execute_result",
          "data": {
            "text/html": [
              "<div>\n",
              "<style scoped>\n",
              "    .dataframe tbody tr th:only-of-type {\n",
              "        vertical-align: middle;\n",
              "    }\n",
              "\n",
              "    .dataframe tbody tr th {\n",
              "        vertical-align: top;\n",
              "    }\n",
              "\n",
              "    .dataframe thead th {\n",
              "        text-align: right;\n",
              "    }\n",
              "</style>\n",
              "<table border=\"1\" class=\"dataframe\">\n",
              "  <thead>\n",
              "    <tr style=\"text-align: right;\">\n",
              "      <th></th>\n",
              "      <th>Discount</th>\n",
              "      <th>Profit%age</th>\n",
              "      <th>Company Name</th>\n",
              "      <th>Product_Name</th>\n",
              "    </tr>\n",
              "  </thead>\n",
              "  <tbody>\n",
              "    <tr>\n",
              "      <th>5068</th>\n",
              "      <td>0.0</td>\n",
              "      <td>50.0</td>\n",
              "      <td>Sharp</td>\n",
              "      <td>1540cs Digital Laser Copier</td>\n",
              "    </tr>\n",
              "    <tr>\n",
              "      <th>5850</th>\n",
              "      <td>0.0</td>\n",
              "      <td>50.0</td>\n",
              "      <td>Sharp</td>\n",
              "      <td>1540cs Digital Laser Copier</td>\n",
              "    </tr>\n",
              "    <tr>\n",
              "      <th>5562</th>\n",
              "      <td>0.0</td>\n",
              "      <td>48.0</td>\n",
              "      <td>Hewlett</td>\n",
              "      <td>Packard LaserJet 3310 Copier</td>\n",
              "    </tr>\n",
              "    <tr>\n",
              "      <th>4190</th>\n",
              "      <td>0.0</td>\n",
              "      <td>48.0</td>\n",
              "      <td>Canon</td>\n",
              "      <td>imageCLASS 2200 Advanced Copier</td>\n",
              "    </tr>\n",
              "    <tr>\n",
              "      <th>6826</th>\n",
              "      <td>0.0</td>\n",
              "      <td>48.0</td>\n",
              "      <td>Canon</td>\n",
              "      <td>imageCLASS 2200 Advanced Copier</td>\n",
              "    </tr>\n",
              "    <tr>\n",
              "      <th>8153</th>\n",
              "      <td>0.0</td>\n",
              "      <td>48.0</td>\n",
              "      <td>Canon</td>\n",
              "      <td>imageCLASS 2200 Advanced Copier</td>\n",
              "    </tr>\n",
              "    <tr>\n",
              "      <th>7666</th>\n",
              "      <td>0.0</td>\n",
              "      <td>48.0</td>\n",
              "      <td>Hewlett</td>\n",
              "      <td>Packard LaserJet 3310 Copier</td>\n",
              "    </tr>\n",
              "    <tr>\n",
              "      <th>4639</th>\n",
              "      <td>0.0</td>\n",
              "      <td>47.0</td>\n",
              "      <td>Canon</td>\n",
              "      <td>PC-428 Personal Copier</td>\n",
              "    </tr>\n",
              "    <tr>\n",
              "      <th>1644</th>\n",
              "      <td>0.0</td>\n",
              "      <td>47.0</td>\n",
              "      <td>Canon</td>\n",
              "      <td>PC940 Copier</td>\n",
              "    </tr>\n",
              "    <tr>\n",
              "      <th>8990</th>\n",
              "      <td>0.0</td>\n",
              "      <td>47.0</td>\n",
              "      <td>Canon</td>\n",
              "      <td>PC1060 Personal Laser Copier</td>\n",
              "    </tr>\n",
              "  </tbody>\n",
              "</table>\n",
              "</div>"
            ],
            "text/plain": [
              "      Discount  Profit%age Company Name                     Product_Name\n",
              "5068       0.0        50.0        Sharp      1540cs Digital Laser Copier\n",
              "5850       0.0        50.0        Sharp      1540cs Digital Laser Copier\n",
              "5562       0.0        48.0      Hewlett     Packard LaserJet 3310 Copier\n",
              "4190       0.0        48.0        Canon  imageCLASS 2200 Advanced Copier\n",
              "6826       0.0        48.0        Canon  imageCLASS 2200 Advanced Copier\n",
              "8153       0.0        48.0        Canon  imageCLASS 2200 Advanced Copier\n",
              "7666       0.0        48.0      Hewlett     Packard LaserJet 3310 Copier\n",
              "4639       0.0        47.0        Canon           PC-428 Personal Copier\n",
              "1644       0.0        47.0        Canon                     PC940 Copier\n",
              "8990       0.0        47.0        Canon     PC1060 Personal Laser Copier"
            ]
          },
          "metadata": {
            "tags": []
          },
          "execution_count": 17
        }
      ]
    },
    {
      "cell_type": "code",
      "metadata": {
        "id": "3nZPk4LdFdGp",
        "outputId": "d05a5d23-cd62-4b5b-9e95-cf41df27fb48",
        "colab": {
          "base_uri": "https://localhost:8080/",
          "height": 202
        }
      },
      "source": [
        "superstore_copier.groupby(by='Company Name').mean().sort_values('Profit%age',ascending=False)"
      ],
      "execution_count": 19,
      "outputs": [
        {
          "output_type": "execute_result",
          "data": {
            "text/html": [
              "<div>\n",
              "<style scoped>\n",
              "    .dataframe tbody tr th:only-of-type {\n",
              "        vertical-align: middle;\n",
              "    }\n",
              "\n",
              "    .dataframe tbody tr th {\n",
              "        vertical-align: top;\n",
              "    }\n",
              "\n",
              "    .dataframe thead th {\n",
              "        text-align: right;\n",
              "    }\n",
              "</style>\n",
              "<table border=\"1\" class=\"dataframe\">\n",
              "  <thead>\n",
              "    <tr style=\"text-align: right;\">\n",
              "      <th></th>\n",
              "      <th>Discount</th>\n",
              "      <th>Profit%age</th>\n",
              "    </tr>\n",
              "    <tr>\n",
              "      <th>Company Name</th>\n",
              "      <th></th>\n",
              "      <th></th>\n",
              "    </tr>\n",
              "  </thead>\n",
              "  <tbody>\n",
              "    <tr>\n",
              "      <th>Sharp</th>\n",
              "      <td>0.200000</td>\n",
              "      <td>35.492424</td>\n",
              "    </tr>\n",
              "    <tr>\n",
              "      <th>Canon</th>\n",
              "      <td>0.151724</td>\n",
              "      <td>34.241379</td>\n",
              "    </tr>\n",
              "    <tr>\n",
              "      <th>Hewlett</th>\n",
              "      <td>0.161905</td>\n",
              "      <td>29.035714</td>\n",
              "    </tr>\n",
              "    <tr>\n",
              "      <th>Brother</th>\n",
              "      <td>0.142857</td>\n",
              "      <td>23.392857</td>\n",
              "    </tr>\n",
              "  </tbody>\n",
              "</table>\n",
              "</div>"
            ],
            "text/plain": [
              "              Discount  Profit%age\n",
              "Company Name                      \n",
              "Sharp         0.200000   35.492424\n",
              "Canon         0.151724   34.241379\n",
              "Hewlett       0.161905   29.035714\n",
              "Brother       0.142857   23.392857"
            ]
          },
          "metadata": {
            "tags": []
          },
          "execution_count": 19
        }
      ]
    },
    {
      "cell_type": "code",
      "metadata": {
        "id": "xT593CEXO6Kw"
      },
      "source": [
        "superstore_home_office_office_suplies=superstore[(superstore['Segment']=='Home Office') & (superstore['Category']=='Office Supplies')]\n",
        "avg_superstore_home_office_office_suplies=superstore_home_office_office_suplies.groupby('Sub-Category')['Profit%age'].mean()\n",
        "df_avg_superstore_home_office_office_suplies=pd.DataFrame(avg_superstore_home_office_office_suplies)\n"
      ],
      "execution_count": 20,
      "outputs": []
    },
    {
      "cell_type": "code",
      "metadata": {
        "id": "mdxp4PwIQYD5",
        "outputId": "dbaa20e6-456b-47df-c2cb-e8edb4bc9caa",
        "colab": {
          "base_uri": "https://localhost:8080/",
          "height": 35
        }
      },
      "source": [
        "df_avg_superstore_home_office_office_suplies=df_avg_superstore_home_office_office_suplies.reset_index()\n",
        "df_avg_superstore_home_office_office_suplies.columns"
      ],
      "execution_count": 21,
      "outputs": [
        {
          "output_type": "execute_result",
          "data": {
            "text/plain": [
              "Index(['Sub-Category', 'Profit%age'], dtype='object')"
            ]
          },
          "metadata": {
            "tags": []
          },
          "execution_count": 21
        }
      ]
    },
    {
      "cell_type": "code",
      "metadata": {
        "id": "EhUcHubtOw1M",
        "outputId": "104bb342-8e56-4af3-8f20-1b0f6dd61888",
        "colab": {
          "base_uri": "https://localhost:8080/",
          "height": 446
        }
      },
      "source": [
        "plt.title('\\n\\nGraph to identify Profit Percentage by Sub category under Home-Office Supplies(Office Supplies)\\n\\n')\n",
        "sns.barplot(data=df_avg_superstore_home_office_office_suplies,y=df_avg_superstore_home_office_office_suplies['Profit%age'],x=df_avg_superstore_home_office_office_suplies['Sub-Category'])\n",
        "# import matplotlib.pyplot as plt\n",
        "# plt.figure(figsize=(10,5))\n",
        "\n",
        "plt.xticks(\n",
        "    rotation=45, \n",
        "    horizontalalignment='right',\n",
        "    fontweight='light',\n",
        "    fontsize='x-large'  \n",
        ")"
      ],
      "execution_count": 22,
      "outputs": [
        {
          "output_type": "execute_result",
          "data": {
            "text/plain": [
              "(array([0, 1, 2, 3, 4, 5, 6, 7, 8]),\n",
              " <a list of 9 Text major ticklabel objects>)"
            ]
          },
          "metadata": {
            "tags": []
          },
          "execution_count": 22
        },
        {
          "output_type": "display_data",
          "data": {
            "image/png": "[encoded data removed]",
            "text/plain": [
              "<Figure size 432x288 with 1 Axes>"
            ]
          },
          "metadata": {
            "tags": [],
            "needs_background": "light"
          }
        }
      ]
    },
    {
      "cell_type": "markdown",
      "metadata": {
        "id": "cBxpZIC4w0YY"
      },
      "source": [
        "We can see Envelopes,Labels and Paper are major Profit percentage contributors."
      ]
    },
    {
      "cell_type": "code",
      "metadata": {
        "id": "TtgCfjwjCaoI",
        "outputId": "9be867c7-3c4f-45f2-d4c8-3c69eae8f06d",
        "colab": {
          "base_uri": "https://localhost:8080/",
          "height": 104
        }
      },
      "source": [
        "avg_profit=superstore_consumer.groupby('Category')['Profit%age'].mean()\n",
        "df_avg_profit_by_Category=pd.DataFrame(avg_profit)\n",
        "print(df_avg_profit_by_Category)\n"
      ],
      "execution_count": 32,
      "outputs": [
        {
          "output_type": "stream",
          "text": [
            "                 Profit%age\n",
            "Category                   \n",
            "Furniture          3.037962\n",
            "Office Supplies   12.876053\n",
            "Technology        15.268389\n"
          ],
          "name": "stdout"
        }
      ]
    },
    {
      "cell_type": "code",
      "metadata": {
        "id": "si1BZ6u7eca1",
        "outputId": "28323942-8171-433b-ab47-7d01694755f2",
        "colab": {
          "base_uri": "https://localhost:8080/",
          "height": 173
        }
      },
      "source": [
        "#  sns.displot(np.superstore['Segment'],x=''hue=superstore['Category'])\n",
        "# consumer_profit%age=np.mean[superstore['Segement']\n",
        "for i in superstore['Segment'].unique():\n",
        "  print(i+'_Avg_Profit%age :: {} \\n\\n'.format(np.mean(superstore[superstore['Segment']==i]['Profit%age'])))                       \n",
        "# np.mean(superstore[superstore['Segment']=='Consumer']['Profit%age'])\n",
        "# corporate_profit%age\n",
        "# HomeOffice_profit%age"
      ],
      "execution_count": 33,
      "outputs": [
        {
          "output_type": "stream",
          "text": [
            "Consumer_Avg_Profit%age :: 11.204952133156496 \n",
            "\n",
            "\n",
            "Corporate_Avg_Profit%age :: 12.120260868746454 \n",
            "\n",
            "\n",
            "Home Office_Avg_Profit%age :: 14.286958506103376 \n",
            "\n",
            "\n"
          ],
          "name": "stdout"
        }
      ]
    },
    {
      "cell_type": "code",
      "metadata": {
        "id": "vLsFO7RSNpE4",
        "outputId": "09e6f275-6136-4490-aa25-6e2e95ee9f4b",
        "colab": {
          "base_uri": "https://localhost:8080/",
          "height": 269
        }
      },
      "source": [
        "superstore.head(2)"
      ],
      "execution_count": 37,
      "outputs": [
        {
          "output_type": "execute_result",
          "data": {
            "text/html": [
              "<div>\n",
              "<style scoped>\n",
              "    .dataframe tbody tr th:only-of-type {\n",
              "        vertical-align: middle;\n",
              "    }\n",
              "\n",
              "    .dataframe tbody tr th {\n",
              "        vertical-align: top;\n",
              "    }\n",
              "\n",
              "    .dataframe thead th {\n",
              "        text-align: right;\n",
              "    }\n",
              "</style>\n",
              "<table border=\"1\" class=\"dataframe\">\n",
              "  <thead>\n",
              "    <tr style=\"text-align: right;\">\n",
              "      <th></th>\n",
              "      <th>Row ID</th>\n",
              "      <th>Order ID</th>\n",
              "      <th>Order Date</th>\n",
              "      <th>Ship Date</th>\n",
              "      <th>Ship Mode</th>\n",
              "      <th>Customer ID</th>\n",
              "      <th>Customer Name</th>\n",
              "      <th>Segment</th>\n",
              "      <th>Country</th>\n",
              "      <th>City</th>\n",
              "      <th>State</th>\n",
              "      <th>Postal Code</th>\n",
              "      <th>Region</th>\n",
              "      <th>Product ID</th>\n",
              "      <th>Category</th>\n",
              "      <th>Sub-Category</th>\n",
              "      <th>Product Name</th>\n",
              "      <th>Sales</th>\n",
              "      <th>Quantity</th>\n",
              "      <th>Discount</th>\n",
              "      <th>Profit</th>\n",
              "      <th>Profit%age</th>\n",
              "    </tr>\n",
              "  </thead>\n",
              "  <tbody>\n",
              "    <tr>\n",
              "      <th>0</th>\n",
              "      <td>1</td>\n",
              "      <td>CA-2016-152156</td>\n",
              "      <td>2016-11-08</td>\n",
              "      <td>2016-11-11</td>\n",
              "      <td>Second Class</td>\n",
              "      <td>CG-12520</td>\n",
              "      <td>Claire Gute</td>\n",
              "      <td>Consumer</td>\n",
              "      <td>United States</td>\n",
              "      <td>Henderson</td>\n",
              "      <td>Kentucky</td>\n",
              "      <td>42420</td>\n",
              "      <td>South</td>\n",
              "      <td>FUR-BO-10001798</td>\n",
              "      <td>Furniture</td>\n",
              "      <td>Bookcases</td>\n",
              "      <td>Bush Somerset Collection Bookcase</td>\n",
              "      <td>261.96</td>\n",
              "      <td>2</td>\n",
              "      <td>0.0</td>\n",
              "      <td>41.9136</td>\n",
              "      <td>16.0</td>\n",
              "    </tr>\n",
              "    <tr>\n",
              "      <th>1</th>\n",
              "      <td>2</td>\n",
              "      <td>CA-2016-152156</td>\n",
              "      <td>2016-11-08</td>\n",
              "      <td>2016-11-11</td>\n",
              "      <td>Second Class</td>\n",
              "      <td>CG-12520</td>\n",
              "      <td>Claire Gute</td>\n",
              "      <td>Consumer</td>\n",
              "      <td>United States</td>\n",
              "      <td>Henderson</td>\n",
              "      <td>Kentucky</td>\n",
              "      <td>42420</td>\n",
              "      <td>South</td>\n",
              "      <td>FUR-CH-10000454</td>\n",
              "      <td>Furniture</td>\n",
              "      <td>Chairs</td>\n",
              "      <td>Hon Deluxe Fabric Upholstered Stacking Chairs,...</td>\n",
              "      <td>731.94</td>\n",
              "      <td>3</td>\n",
              "      <td>0.0</td>\n",
              "      <td>219.5820</td>\n",
              "      <td>30.0</td>\n",
              "    </tr>\n",
              "  </tbody>\n",
              "</table>\n",
              "</div>"
            ],
            "text/plain": [
              "   Row ID        Order ID Order Date  ... Discount    Profit Profit%age\n",
              "0       1  CA-2016-152156 2016-11-08  ...      0.0   41.9136       16.0\n",
              "1       2  CA-2016-152156 2016-11-08  ...      0.0  219.5820       30.0\n",
              "\n",
              "[2 rows x 22 columns]"
            ]
          },
          "metadata": {
            "tags": []
          },
          "execution_count": 37
        }
      ]
    },
    {
      "cell_type": "markdown",
      "metadata": {
        "id": "dxid1l8N9gAO"
      },
      "source": [
        "Lets check Profit%age by Sub category "
      ]
    },
    {
      "cell_type": "code",
      "metadata": {
        "id": "SfKFF4YR_UG-",
        "outputId": "e1649020-8bd1-49e2-f021-49a9cbe64cf0",
        "colab": {
          "base_uri": "https://localhost:8080/",
          "height": 35
        }
      },
      "source": [
        "avg_profit_SubCategory=superstore.groupby('Sub-Category')['Profit%age'].mean()\n",
        "df_avg_profit_SubCategory=pd.DataFrame(avg_profit_SubCategory)\n",
        "df_avg_profit_SubCategory=df_avg_profit_SubCategory.reset_index()\n",
        "df_avg_profit_SubCategory.columns\n"
      ],
      "execution_count": 41,
      "outputs": [
        {
          "output_type": "execute_result",
          "data": {
            "text/plain": [
              "Index(['Sub-Category', 'Profit%age'], dtype='object')"
            ]
          },
          "metadata": {
            "tags": []
          },
          "execution_count": 41
        }
      ]
    },
    {
      "cell_type": "code",
      "metadata": {
        "id": "Xeyn8n3dOCWU",
        "outputId": "bbdf0114-695f-4d3c-9d35-2636bfc2ea46",
        "colab": {
          "base_uri": "https://localhost:8080/",
          "height": 450
        }
      },
      "source": [
        "plt.title('\\n\\nGraph to identify Profit Percentage by Sub category\\n\\n')\n",
        "sns.barplot(data=df_avg_profit_SubCategory,x=df_avg_profit_SubCategory['Sub-Category'],y=df_avg_profit_SubCategory['Profit%age'])\n",
        "\n",
        "plt.xticks(\n",
        "    rotation=45, \n",
        "    horizontalalignment='right',\n",
        "    fontweight='light',\n",
        "    fontsize='x-large'  \n",
        ")"
      ],
      "execution_count": 42,
      "outputs": [
        {
          "output_type": "execute_result",
          "data": {
            "text/plain": [
              "(array([ 0,  1,  2,  3,  4,  5,  6,  7,  8,  9, 10, 11, 12, 13, 14, 15, 16]),\n",
              " <a list of 17 Text major ticklabel objects>)"
            ]
          },
          "metadata": {
            "tags": []
          },
          "execution_count": 42
        },
        {
          "output_type": "display_data",
          "data": {
            "image/png": "[encoded data removed]",
            "text/plain": [
              "<Figure size 432x288 with 1 Axes>"
            ]
          },
          "metadata": {
            "tags": [],
            "needs_background": "light"
          }
        }
      ]
    },
    {
      "cell_type": "code",
      "metadata": {
        "id": "j90152kGccn-",
        "outputId": "79a8c0d4-0d33-480f-c6cb-1f60ec3b4861",
        "colab": {
          "base_uri": "https://localhost:8080/",
          "height": 35
        }
      },
      "source": [
        "avg_discount_SubCategory=superstore.groupby('Sub-Category')['Discount'].mean()\n",
        "df_avg_discount_SubCategory=pd.DataFrame(avg_discount_SubCategory)\n",
        "df_avg_discount_SubCategory=df_avg_discount_SubCategory.reset_index()\n",
        "df_avg_discount_SubCategory.columns\n"
      ],
      "execution_count": 23,
      "outputs": [
        {
          "output_type": "execute_result",
          "data": {
            "text/plain": [
              "Index(['Sub-Category', 'Discount'], dtype='object')"
            ]
          },
          "metadata": {
            "tags": []
          },
          "execution_count": 23
        }
      ]
    },
    {
      "cell_type": "code",
      "metadata": {
        "id": "SyCock78Aj8D",
        "outputId": "c71a32d4-8ec5-4a9a-f767-897a55234993",
        "colab": {
          "base_uri": "https://localhost:8080/",
          "height": 450
        }
      },
      "source": [
        "plt.title('\\n\\nGraph to identify Discount by Sub category\\n\\n')\n",
        "sns.barplot(data=df_avg_discount_SubCategory,x=df_avg_discount_SubCategory['Sub-Category'],y=df_avg_discount_SubCategory['Discount'])\n",
        "\n",
        "plt.xticks(\n",
        "    rotation=45, \n",
        "    horizontalalignment='right',\n",
        "    fontweight='light',\n",
        "    fontsize='x-large'  \n",
        ")"
      ],
      "execution_count": 24,
      "outputs": [
        {
          "output_type": "execute_result",
          "data": {
            "text/plain": [
              "(array([ 0,  1,  2,  3,  4,  5,  6,  7,  8,  9, 10, 11, 12, 13, 14, 15, 16]),\n",
              " <a list of 17 Text major ticklabel objects>)"
            ]
          },
          "metadata": {
            "tags": []
          },
          "execution_count": 24
        },
        {
          "output_type": "display_data",
          "data": {
            "image/png": "[encoded data removed]",
            "text/plain": [
              "<Figure size 432x288 with 1 Axes>"
            ]
          },
          "metadata": {
            "tags": [],
            "needs_background": "light"
          }
        }
      ]
    },
    {
      "cell_type": "markdown",
      "metadata": {
        "id": "6nT3kITiCLKT"
      },
      "source": [
        "We can notice that Appliances,Binders,Bookcases and Tables contribute maximum to Losses despite having discounted prices . "
      ]
    },
    {
      "cell_type": "markdown",
      "metadata": {
        "id": "3CbHVPouClFl"
      },
      "source": [
        "Lets identify the counts of these Loss contributing items"
      ]
    },
    {
      "cell_type": "code",
      "metadata": {
        "id": "ypp9YmtGD_K7",
        "outputId": "46f7aacc-de6c-4b48-8cdf-8b8fbf111104",
        "colab": {
          "base_uri": "https://localhost:8080/",
          "height": 269
        }
      },
      "source": [
        "superstore_loss_making_items= superstore[(superstore['Sub-Category']=='Appliances')| (superstore['Sub-Category']=='Binders')| (superstore['Sub-Category']=='Bookcases')| (superstore['Sub-Category']=='Tables')]\n",
        "superstore_loss_making_items.head(2)"
      ],
      "execution_count": 25,
      "outputs": [
        {
          "output_type": "execute_result",
          "data": {
            "text/html": [
              "<div>\n",
              "<style scoped>\n",
              "    .dataframe tbody tr th:only-of-type {\n",
              "        vertical-align: middle;\n",
              "    }\n",
              "\n",
              "    .dataframe tbody tr th {\n",
              "        vertical-align: top;\n",
              "    }\n",
              "\n",
              "    .dataframe thead th {\n",
              "        text-align: right;\n",
              "    }\n",
              "</style>\n",
              "<table border=\"1\" class=\"dataframe\">\n",
              "  <thead>\n",
              "    <tr style=\"text-align: right;\">\n",
              "      <th></th>\n",
              "      <th>Row ID</th>\n",
              "      <th>Order ID</th>\n",
              "      <th>Order Date</th>\n",
              "      <th>Ship Date</th>\n",
              "      <th>Ship Mode</th>\n",
              "      <th>Customer ID</th>\n",
              "      <th>Customer Name</th>\n",
              "      <th>Segment</th>\n",
              "      <th>Country</th>\n",
              "      <th>City</th>\n",
              "      <th>State</th>\n",
              "      <th>Postal Code</th>\n",
              "      <th>Region</th>\n",
              "      <th>Product ID</th>\n",
              "      <th>Category</th>\n",
              "      <th>Sub-Category</th>\n",
              "      <th>Product Name</th>\n",
              "      <th>Sales</th>\n",
              "      <th>Quantity</th>\n",
              "      <th>Discount</th>\n",
              "      <th>Profit</th>\n",
              "      <th>Profit%age</th>\n",
              "    </tr>\n",
              "  </thead>\n",
              "  <tbody>\n",
              "    <tr>\n",
              "      <th>0</th>\n",
              "      <td>1</td>\n",
              "      <td>CA-2016-152156</td>\n",
              "      <td>2016-11-08</td>\n",
              "      <td>2016-11-11</td>\n",
              "      <td>Second Class</td>\n",
              "      <td>CG-12520</td>\n",
              "      <td>Claire Gute</td>\n",
              "      <td>Consumer</td>\n",
              "      <td>United States</td>\n",
              "      <td>Henderson</td>\n",
              "      <td>Kentucky</td>\n",
              "      <td>42420</td>\n",
              "      <td>South</td>\n",
              "      <td>FUR-BO-10001798</td>\n",
              "      <td>Furniture</td>\n",
              "      <td>Bookcases</td>\n",
              "      <td>Bush Somerset Collection Bookcase</td>\n",
              "      <td>261.9600</td>\n",
              "      <td>2</td>\n",
              "      <td>0.00</td>\n",
              "      <td>41.9136</td>\n",
              "      <td>16.0</td>\n",
              "    </tr>\n",
              "    <tr>\n",
              "      <th>3</th>\n",
              "      <td>4</td>\n",
              "      <td>US-2015-108966</td>\n",
              "      <td>2015-10-11</td>\n",
              "      <td>2015-10-18</td>\n",
              "      <td>Standard Class</td>\n",
              "      <td>SO-20335</td>\n",
              "      <td>Sean O'Donnell</td>\n",
              "      <td>Consumer</td>\n",
              "      <td>United States</td>\n",
              "      <td>Fort Lauderdale</td>\n",
              "      <td>Florida</td>\n",
              "      <td>33311</td>\n",
              "      <td>South</td>\n",
              "      <td>FUR-TA-10000577</td>\n",
              "      <td>Furniture</td>\n",
              "      <td>Tables</td>\n",
              "      <td>Bretford CR4500 Series Slim Rectangular Table</td>\n",
              "      <td>957.5775</td>\n",
              "      <td>5</td>\n",
              "      <td>0.45</td>\n",
              "      <td>-383.0310</td>\n",
              "      <td>-40.0</td>\n",
              "    </tr>\n",
              "  </tbody>\n",
              "</table>\n",
              "</div>"
            ],
            "text/plain": [
              "   Row ID        Order ID Order Date  ... Discount    Profit Profit%age\n",
              "0       1  CA-2016-152156 2016-11-08  ...     0.00   41.9136       16.0\n",
              "3       4  US-2015-108966 2015-10-11  ...     0.45 -383.0310      -40.0\n",
              "\n",
              "[2 rows x 22 columns]"
            ]
          },
          "metadata": {
            "tags": []
          },
          "execution_count": 25
        }
      ]
    },
    {
      "cell_type": "code",
      "metadata": {
        "id": "xTnZ9UdPBg2O",
        "outputId": "b1d52b79-693c-4558-abdb-a0487325d0da",
        "colab": {
          "base_uri": "https://localhost:8080/",
          "height": 483
        }
      },
      "source": [
        "\"\"\"\n",
        "plt.title('\\n\\n Graph to show the count of most Loss making Items \\n\\n')\n",
        "sns.countplot(superstore_loss_making_items['Sub-Category'])\n",
        "plt.xticks(\n",
        "    rotation=45, \n",
        "    horizontalalignment='right',\n",
        "    fontweight='light',\n",
        "    fontsize='x-large'  \n",
        ")\n",
        "\n",
        "\"\"\""
      ],
      "execution_count": 65,
      "outputs": [
        {
          "output_type": "stream",
          "text": [
            "/usr/local/lib/python3.6/dist-packages/seaborn/_decorators.py:43: FutureWarning: Pass the following variable as a keyword arg: x. From version 0.12, the only valid positional argument will be `data`, and passing other arguments without an explicit keyword will result in an error or misinterpretation.\n",
            "  FutureWarning\n"
          ],
          "name": "stderr"
        },
        {
          "output_type": "execute_result",
          "data": {
            "text/plain": [
              "(array([0, 1, 2, 3]), <a list of 4 Text major ticklabel objects>)"
            ]
          },
          "metadata": {
            "tags": []
          },
          "execution_count": 65
        },
        {
          "output_type": "display_data",
          "data": {
            "image/png": "[encoded data removed]",
            "text/plain": [
              "<Figure size 432x288 with 1 Axes>"
            ]
          },
          "metadata": {
            "tags": [],
            "needs_background": "light"
          }
        }
      ]
    },
    {
      "cell_type": "code",
      "metadata": {
        "id": "sLrJukajH5Tj",
        "outputId": "dd37ec96-1044-449c-91b1-a77c2b6e4010",
        "colab": {
          "base_uri": "https://localhost:8080/",
          "height": 110
        }
      },
      "source": [
        "superstore_loss_making_items_new=superstore_loss_making_items[[\n",
        "       'Postal Code',  'Sales', 'Quantity', 'Discount', 'Profit',\n",
        "       'Profit%age']]\n",
        "\n",
        "superstore_loss_making_items_new.head(2)"
      ],
      "execution_count": 26,
      "outputs": [
        {
          "output_type": "execute_result",
          "data": {
            "text/html": [
              "<div>\n",
              "<style scoped>\n",
              "    .dataframe tbody tr th:only-of-type {\n",
              "        vertical-align: middle;\n",
              "    }\n",
              "\n",
              "    .dataframe tbody tr th {\n",
              "        vertical-align: top;\n",
              "    }\n",
              "\n",
              "    .dataframe thead th {\n",
              "        text-align: right;\n",
              "    }\n",
              "</style>\n",
              "<table border=\"1\" class=\"dataframe\">\n",
              "  <thead>\n",
              "    <tr style=\"text-align: right;\">\n",
              "      <th></th>\n",
              "      <th>Postal Code</th>\n",
              "      <th>Sales</th>\n",
              "      <th>Quantity</th>\n",
              "      <th>Discount</th>\n",
              "      <th>Profit</th>\n",
              "      <th>Profit%age</th>\n",
              "    </tr>\n",
              "  </thead>\n",
              "  <tbody>\n",
              "    <tr>\n",
              "      <th>0</th>\n",
              "      <td>42420</td>\n",
              "      <td>261.9600</td>\n",
              "      <td>2</td>\n",
              "      <td>0.00</td>\n",
              "      <td>41.9136</td>\n",
              "      <td>16.0</td>\n",
              "    </tr>\n",
              "    <tr>\n",
              "      <th>3</th>\n",
              "      <td>33311</td>\n",
              "      <td>957.5775</td>\n",
              "      <td>5</td>\n",
              "      <td>0.45</td>\n",
              "      <td>-383.0310</td>\n",
              "      <td>-40.0</td>\n",
              "    </tr>\n",
              "  </tbody>\n",
              "</table>\n",
              "</div>"
            ],
            "text/plain": [
              "   Postal Code     Sales  Quantity  Discount    Profit  Profit%age\n",
              "0        42420  261.9600         2      0.00   41.9136        16.0\n",
              "3        33311  957.5775         5      0.45 -383.0310       -40.0"
            ]
          },
          "metadata": {
            "tags": []
          },
          "execution_count": 26
        }
      ]
    },
    {
      "cell_type": "code",
      "metadata": {
        "id": "kPLgWPtMJz82",
        "outputId": "f1138771-65c1-4cd6-f875-0d2c10c20c97",
        "colab": {
          "base_uri": "https://localhost:8080/",
          "height": 243
        }
      },
      "source": [
        "superstore_loss_making_items_new.info()"
      ],
      "execution_count": 89,
      "outputs": [
        {
          "output_type": "stream",
          "text": [
            "<class 'pandas.core.frame.DataFrame'>\n",
            "Int64Index: 2536 entries, 0 to 9993\n",
            "Data columns (total 6 columns):\n",
            " #   Column       Non-Null Count  Dtype  \n",
            "---  ------       --------------  -----  \n",
            " 0   Postal Code  2536 non-null   int64  \n",
            " 1   Sales        2536 non-null   float64\n",
            " 2   Quantity     2536 non-null   int64  \n",
            " 3   Discount     2536 non-null   float64\n",
            " 4   Profit       2536 non-null   float64\n",
            " 5   Profit%age   2536 non-null   float64\n",
            "dtypes: float64(4), int64(2)\n",
            "memory usage: 218.7 KB\n"
          ],
          "name": "stdout"
        }
      ]
    },
    {
      "cell_type": "code",
      "metadata": {
        "id": "Ja2SsP1lJ_-u"
      },
      "source": [
        "df_s=superstore_loss_making_items_new"
      ],
      "execution_count": 27,
      "outputs": []
    },
    {
      "cell_type": "code",
      "metadata": {
        "id": "YIsVOpd_JbKK",
        "outputId": "3c58b22e-ffb0-4c7a-deb3-7f974fc8bc5f",
        "colab": {
          "base_uri": "https://localhost:8080/",
          "height": 124
        }
      },
      "source": [
        "df_s.sort_values(by=['Profit%age'], inplace=True)"
      ],
      "execution_count": 92,
      "outputs": [
        {
          "output_type": "stream",
          "text": [
            "/usr/local/lib/python3.6/dist-packages/ipykernel_launcher.py:1: SettingWithCopyWarning: \n",
            "A value is trying to be set on a copy of a slice from a DataFrame\n",
            "\n",
            "See the caveats in the documentation: https://pandas.pydata.org/pandas-docs/stable/user_guide/indexing.html#returning-a-view-versus-a-copy\n",
            "  \"\"\"Entry point for launching an IPython kernel.\n"
          ],
          "name": "stderr"
        }
      ]
    },
    {
      "cell_type": "code",
      "metadata": {
        "id": "79zrDy8eKJK_",
        "outputId": "e207fb84-c3f2-402a-8856-60486a77fafb",
        "colab": {
          "base_uri": "https://localhost:8080/",
          "height": 110
        }
      },
      "source": [
        "df_s.head(2)"
      ],
      "execution_count": 32,
      "outputs": [
        {
          "output_type": "execute_result",
          "data": {
            "text/html": [
              "<div>\n",
              "<style scoped>\n",
              "    .dataframe tbody tr th:only-of-type {\n",
              "        vertical-align: middle;\n",
              "    }\n",
              "\n",
              "    .dataframe tbody tr th {\n",
              "        vertical-align: top;\n",
              "    }\n",
              "\n",
              "    .dataframe thead th {\n",
              "        text-align: right;\n",
              "    }\n",
              "</style>\n",
              "<table border=\"1\" class=\"dataframe\">\n",
              "  <thead>\n",
              "    <tr style=\"text-align: right;\">\n",
              "      <th></th>\n",
              "      <th>Postal Code</th>\n",
              "      <th>Sales</th>\n",
              "      <th>Quantity</th>\n",
              "      <th>Discount</th>\n",
              "      <th>Profit</th>\n",
              "      <th>Profit%age</th>\n",
              "    </tr>\n",
              "  </thead>\n",
              "  <tbody>\n",
              "    <tr>\n",
              "      <th>0</th>\n",
              "      <td>42420</td>\n",
              "      <td>261.9600</td>\n",
              "      <td>2</td>\n",
              "      <td>0.00</td>\n",
              "      <td>41.9136</td>\n",
              "      <td>16.0</td>\n",
              "    </tr>\n",
              "    <tr>\n",
              "      <th>3</th>\n",
              "      <td>33311</td>\n",
              "      <td>957.5775</td>\n",
              "      <td>5</td>\n",
              "      <td>0.45</td>\n",
              "      <td>-383.0310</td>\n",
              "      <td>-40.0</td>\n",
              "    </tr>\n",
              "  </tbody>\n",
              "</table>\n",
              "</div>"
            ],
            "text/plain": [
              "   Postal Code     Sales  Quantity  Discount    Profit  Profit%age\n",
              "0        42420  261.9600         2      0.00   41.9136        16.0\n",
              "3        33311  957.5775         5      0.45 -383.0310       -40.0"
            ]
          },
          "metadata": {
            "tags": []
          },
          "execution_count": 32
        }
      ]
    },
    {
      "cell_type": "code",
      "metadata": {
        "id": "o6_X7fzsia7t",
        "outputId": "df4118e8-3ec4-4fa1-b625-169a2b0cd5e7",
        "colab": {
          "base_uri": "https://localhost:8080/",
          "height": 893
        }
      },
      "source": [
        "plt.figure(figsize=(20,20))\n",
        "sns.lineplot(x='Postal Code',y='Profit%age',data=superstore,palette = \"Set1\")\n",
        "sns.set(style='dark')\n",
        "plt.title('\\n\\n Graph to identify if there any changes in profit%age as distance(PINCODE) changes\\n\\n')\n",
        "plt.show()"
      ],
      "execution_count": 34,
      "outputs": [
        {
          "output_type": "display_data",
          "data": {
            "image/png": "[encoded data removed]",
            "text/plain": [
              "<Figure size 1440x1440 with 1 Axes>"
            ]
          },
          "metadata": {
            "tags": []
          }
        }
      ]
    },
    {
      "cell_type": "code",
      "metadata": {
        "id": "-YdYgWpxMyWj",
        "outputId": "e360b600-d149-4722-b5e1-f24d03831145",
        "colab": {
          "base_uri": "https://localhost:8080/",
          "height": 121
        }
      },
      "source": [
        "superstore_loss_making_items.columns"
      ],
      "execution_count": 170,
      "outputs": [
        {
          "output_type": "execute_result",
          "data": {
            "text/plain": [
              "Index(['Row ID', 'Order ID', 'Order Date', 'Ship Date', 'Ship Mode',\n",
              "       'Customer ID', 'Customer Name', 'Segment', 'Country', 'City', 'State',\n",
              "       'Postal Code', 'Region', 'Product ID', 'Category', 'Sub-Category',\n",
              "       'Product Name', 'Sales', 'Quantity', 'Discount', 'Profit',\n",
              "       'Profit%age'],\n",
              "      dtype='object')"
            ]
          },
          "metadata": {
            "tags": []
          },
          "execution_count": 170
        }
      ]
    },
    {
      "cell_type": "code",
      "metadata": {
        "id": "-LhxPwF4Ktcz"
      },
      "source": [
        "ss=superstore_loss_making_items.sort_values(by='Profit%age')"
      ],
      "execution_count": 176,
      "outputs": []
    },
    {
      "cell_type": "code",
      "metadata": {
        "id": "us9S7uqKLC1C"
      },
      "source": [
        "ss.drop(['Row ID', 'Order ID','Order Date', 'Ship Date','Profit','Segment','Product ID','Customer ID','City','Region' ], axis=1,inplace=True)\n"
      ],
      "execution_count": 177,
      "outputs": []
    },
    {
      "cell_type": "code",
      "metadata": {
        "id": "pe5WJS3JpjAL",
        "outputId": "061062c3-d884-457c-8c96-926a9d6d155e",
        "colab": {
          "base_uri": "https://localhost:8080/",
          "height": 1000
        }
      },
      "source": [
        "# ss.head(50)[['Category','Sub-Category','Discount','Profit%age']]\n",
        "superstore[['Category','Sub-Category','Discount','Profit%age']].sort_values(by='Profit%age',ascending=False).head(40)"
      ],
      "execution_count": 36,
      "outputs": [
        {
          "output_type": "execute_result",
          "data": {
            "text/html": [
              "<div>\n",
              "<style scoped>\n",
              "    .dataframe tbody tr th:only-of-type {\n",
              "        vertical-align: middle;\n",
              "    }\n",
              "\n",
              "    .dataframe tbody tr th {\n",
              "        vertical-align: top;\n",
              "    }\n",
              "\n",
              "    .dataframe thead th {\n",
              "        text-align: right;\n",
              "    }\n",
              "</style>\n",
              "<table border=\"1\" class=\"dataframe\">\n",
              "  <thead>\n",
              "    <tr style=\"text-align: right;\">\n",
              "      <th></th>\n",
              "      <th>Category</th>\n",
              "      <th>Sub-Category</th>\n",
              "      <th>Discount</th>\n",
              "      <th>Profit%age</th>\n",
              "    </tr>\n",
              "  </thead>\n",
              "  <tbody>\n",
              "    <tr>\n",
              "      <th>871</th>\n",
              "      <td>Office Supplies</td>\n",
              "      <td>Paper</td>\n",
              "      <td>0.0</td>\n",
              "      <td>50.0</td>\n",
              "    </tr>\n",
              "    <tr>\n",
              "      <th>5634</th>\n",
              "      <td>Office Supplies</td>\n",
              "      <td>Binders</td>\n",
              "      <td>0.0</td>\n",
              "      <td>50.0</td>\n",
              "    </tr>\n",
              "    <tr>\n",
              "      <th>2291</th>\n",
              "      <td>Furniture</td>\n",
              "      <td>Furnishings</td>\n",
              "      <td>0.0</td>\n",
              "      <td>50.0</td>\n",
              "    </tr>\n",
              "    <tr>\n",
              "      <th>2300</th>\n",
              "      <td>Office Supplies</td>\n",
              "      <td>Binders</td>\n",
              "      <td>0.0</td>\n",
              "      <td>50.0</td>\n",
              "    </tr>\n",
              "    <tr>\n",
              "      <th>764</th>\n",
              "      <td>Office Supplies</td>\n",
              "      <td>Envelopes</td>\n",
              "      <td>0.0</td>\n",
              "      <td>50.0</td>\n",
              "    </tr>\n",
              "    <tr>\n",
              "      <th>5592</th>\n",
              "      <td>Office Supplies</td>\n",
              "      <td>Binders</td>\n",
              "      <td>0.0</td>\n",
              "      <td>50.0</td>\n",
              "    </tr>\n",
              "    <tr>\n",
              "      <th>770</th>\n",
              "      <td>Office Supplies</td>\n",
              "      <td>Binders</td>\n",
              "      <td>0.0</td>\n",
              "      <td>50.0</td>\n",
              "    </tr>\n",
              "    <tr>\n",
              "      <th>2317</th>\n",
              "      <td>Office Supplies</td>\n",
              "      <td>Binders</td>\n",
              "      <td>0.0</td>\n",
              "      <td>50.0</td>\n",
              "    </tr>\n",
              "    <tr>\n",
              "      <th>2323</th>\n",
              "      <td>Office Supplies</td>\n",
              "      <td>Binders</td>\n",
              "      <td>0.0</td>\n",
              "      <td>50.0</td>\n",
              "    </tr>\n",
              "    <tr>\n",
              "      <th>7349</th>\n",
              "      <td>Office Supplies</td>\n",
              "      <td>Binders</td>\n",
              "      <td>0.0</td>\n",
              "      <td>50.0</td>\n",
              "    </tr>\n",
              "    <tr>\n",
              "      <th>2331</th>\n",
              "      <td>Office Supplies</td>\n",
              "      <td>Paper</td>\n",
              "      <td>0.0</td>\n",
              "      <td>50.0</td>\n",
              "    </tr>\n",
              "    <tr>\n",
              "      <th>772</th>\n",
              "      <td>Office Supplies</td>\n",
              "      <td>Binders</td>\n",
              "      <td>0.0</td>\n",
              "      <td>50.0</td>\n",
              "    </tr>\n",
              "    <tr>\n",
              "      <th>9492</th>\n",
              "      <td>Office Supplies</td>\n",
              "      <td>Binders</td>\n",
              "      <td>0.0</td>\n",
              "      <td>50.0</td>\n",
              "    </tr>\n",
              "    <tr>\n",
              "      <th>4416</th>\n",
              "      <td>Office Supplies</td>\n",
              "      <td>Fasteners</td>\n",
              "      <td>0.0</td>\n",
              "      <td>50.0</td>\n",
              "    </tr>\n",
              "    <tr>\n",
              "      <th>2352</th>\n",
              "      <td>Office Supplies</td>\n",
              "      <td>Art</td>\n",
              "      <td>0.0</td>\n",
              "      <td>50.0</td>\n",
              "    </tr>\n",
              "    <tr>\n",
              "      <th>5873</th>\n",
              "      <td>Office Supplies</td>\n",
              "      <td>Binders</td>\n",
              "      <td>0.0</td>\n",
              "      <td>50.0</td>\n",
              "    </tr>\n",
              "    <tr>\n",
              "      <th>6600</th>\n",
              "      <td>Office Supplies</td>\n",
              "      <td>Paper</td>\n",
              "      <td>0.0</td>\n",
              "      <td>50.0</td>\n",
              "    </tr>\n",
              "    <tr>\n",
              "      <th>9228</th>\n",
              "      <td>Office Supplies</td>\n",
              "      <td>Art</td>\n",
              "      <td>0.0</td>\n",
              "      <td>50.0</td>\n",
              "    </tr>\n",
              "    <tr>\n",
              "      <th>9837</th>\n",
              "      <td>Office Supplies</td>\n",
              "      <td>Labels</td>\n",
              "      <td>0.0</td>\n",
              "      <td>50.0</td>\n",
              "    </tr>\n",
              "    <tr>\n",
              "      <th>1346</th>\n",
              "      <td>Office Supplies</td>\n",
              "      <td>Paper</td>\n",
              "      <td>0.0</td>\n",
              "      <td>50.0</td>\n",
              "    </tr>\n",
              "    <tr>\n",
              "      <th>5895</th>\n",
              "      <td>Office Supplies</td>\n",
              "      <td>Labels</td>\n",
              "      <td>0.0</td>\n",
              "      <td>50.0</td>\n",
              "    </tr>\n",
              "    <tr>\n",
              "      <th>5899</th>\n",
              "      <td>Office Supplies</td>\n",
              "      <td>Envelopes</td>\n",
              "      <td>0.0</td>\n",
              "      <td>50.0</td>\n",
              "    </tr>\n",
              "    <tr>\n",
              "      <th>6642</th>\n",
              "      <td>Office Supplies</td>\n",
              "      <td>Labels</td>\n",
              "      <td>0.0</td>\n",
              "      <td>50.0</td>\n",
              "    </tr>\n",
              "    <tr>\n",
              "      <th>2180</th>\n",
              "      <td>Office Supplies</td>\n",
              "      <td>Labels</td>\n",
              "      <td>0.0</td>\n",
              "      <td>50.0</td>\n",
              "    </tr>\n",
              "    <tr>\n",
              "      <th>7933</th>\n",
              "      <td>Office Supplies</td>\n",
              "      <td>Envelopes</td>\n",
              "      <td>0.0</td>\n",
              "      <td>50.0</td>\n",
              "    </tr>\n",
              "    <tr>\n",
              "      <th>4651</th>\n",
              "      <td>Office Supplies</td>\n",
              "      <td>Paper</td>\n",
              "      <td>0.0</td>\n",
              "      <td>50.0</td>\n",
              "    </tr>\n",
              "    <tr>\n",
              "      <th>2187</th>\n",
              "      <td>Office Supplies</td>\n",
              "      <td>Envelopes</td>\n",
              "      <td>0.0</td>\n",
              "      <td>50.0</td>\n",
              "    </tr>\n",
              "    <tr>\n",
              "      <th>7457</th>\n",
              "      <td>Office Supplies</td>\n",
              "      <td>Binders</td>\n",
              "      <td>0.0</td>\n",
              "      <td>50.0</td>\n",
              "    </tr>\n",
              "    <tr>\n",
              "      <th>3274</th>\n",
              "      <td>Office Supplies</td>\n",
              "      <td>Fasteners</td>\n",
              "      <td>0.0</td>\n",
              "      <td>50.0</td>\n",
              "    </tr>\n",
              "    <tr>\n",
              "      <th>5191</th>\n",
              "      <td>Office Supplies</td>\n",
              "      <td>Envelopes</td>\n",
              "      <td>0.0</td>\n",
              "      <td>50.0</td>\n",
              "    </tr>\n",
              "    <tr>\n",
              "      <th>5182</th>\n",
              "      <td>Office Supplies</td>\n",
              "      <td>Binders</td>\n",
              "      <td>0.0</td>\n",
              "      <td>50.0</td>\n",
              "    </tr>\n",
              "    <tr>\n",
              "      <th>1372</th>\n",
              "      <td>Office Supplies</td>\n",
              "      <td>Labels</td>\n",
              "      <td>0.0</td>\n",
              "      <td>50.0</td>\n",
              "    </tr>\n",
              "    <tr>\n",
              "      <th>7966</th>\n",
              "      <td>Office Supplies</td>\n",
              "      <td>Paper</td>\n",
              "      <td>0.0</td>\n",
              "      <td>50.0</td>\n",
              "    </tr>\n",
              "    <tr>\n",
              "      <th>4099</th>\n",
              "      <td>Office Supplies</td>\n",
              "      <td>Binders</td>\n",
              "      <td>0.0</td>\n",
              "      <td>50.0</td>\n",
              "    </tr>\n",
              "    <tr>\n",
              "      <th>9754</th>\n",
              "      <td>Office Supplies</td>\n",
              "      <td>Binders</td>\n",
              "      <td>0.0</td>\n",
              "      <td>50.0</td>\n",
              "    </tr>\n",
              "    <tr>\n",
              "      <th>6212</th>\n",
              "      <td>Office Supplies</td>\n",
              "      <td>Fasteners</td>\n",
              "      <td>0.0</td>\n",
              "      <td>50.0</td>\n",
              "    </tr>\n",
              "    <tr>\n",
              "      <th>5561</th>\n",
              "      <td>Office Supplies</td>\n",
              "      <td>Binders</td>\n",
              "      <td>0.0</td>\n",
              "      <td>50.0</td>\n",
              "    </tr>\n",
              "    <tr>\n",
              "      <th>4259</th>\n",
              "      <td>Office Supplies</td>\n",
              "      <td>Envelopes</td>\n",
              "      <td>0.0</td>\n",
              "      <td>50.0</td>\n",
              "    </tr>\n",
              "    <tr>\n",
              "      <th>720</th>\n",
              "      <td>Office Supplies</td>\n",
              "      <td>Paper</td>\n",
              "      <td>0.0</td>\n",
              "      <td>50.0</td>\n",
              "    </tr>\n",
              "    <tr>\n",
              "      <th>6463</th>\n",
              "      <td>Office Supplies</td>\n",
              "      <td>Labels</td>\n",
              "      <td>0.0</td>\n",
              "      <td>50.0</td>\n",
              "    </tr>\n",
              "  </tbody>\n",
              "</table>\n",
              "</div>"
            ],
            "text/plain": [
              "             Category Sub-Category  Discount  Profit%age\n",
              "871   Office Supplies        Paper       0.0        50.0\n",
              "5634  Office Supplies      Binders       0.0        50.0\n",
              "2291        Furniture  Furnishings       0.0        50.0\n",
              "2300  Office Supplies      Binders       0.0        50.0\n",
              "764   Office Supplies    Envelopes       0.0        50.0\n",
              "5592  Office Supplies      Binders       0.0        50.0\n",
              "770   Office Supplies      Binders       0.0        50.0\n",
              "2317  Office Supplies      Binders       0.0        50.0\n",
              "2323  Office Supplies      Binders       0.0        50.0\n",
              "7349  Office Supplies      Binders       0.0        50.0\n",
              "2331  Office Supplies        Paper       0.0        50.0\n",
              "772   Office Supplies      Binders       0.0        50.0\n",
              "9492  Office Supplies      Binders       0.0        50.0\n",
              "4416  Office Supplies    Fasteners       0.0        50.0\n",
              "2352  Office Supplies          Art       0.0        50.0\n",
              "5873  Office Supplies      Binders       0.0        50.0\n",
              "6600  Office Supplies        Paper       0.0        50.0\n",
              "9228  Office Supplies          Art       0.0        50.0\n",
              "9837  Office Supplies       Labels       0.0        50.0\n",
              "1346  Office Supplies        Paper       0.0        50.0\n",
              "5895  Office Supplies       Labels       0.0        50.0\n",
              "5899  Office Supplies    Envelopes       0.0        50.0\n",
              "6642  Office Supplies       Labels       0.0        50.0\n",
              "2180  Office Supplies       Labels       0.0        50.0\n",
              "7933  Office Supplies    Envelopes       0.0        50.0\n",
              "4651  Office Supplies        Paper       0.0        50.0\n",
              "2187  Office Supplies    Envelopes       0.0        50.0\n",
              "7457  Office Supplies      Binders       0.0        50.0\n",
              "3274  Office Supplies    Fasteners       0.0        50.0\n",
              "5191  Office Supplies    Envelopes       0.0        50.0\n",
              "5182  Office Supplies      Binders       0.0        50.0\n",
              "1372  Office Supplies       Labels       0.0        50.0\n",
              "7966  Office Supplies        Paper       0.0        50.0\n",
              "4099  Office Supplies      Binders       0.0        50.0\n",
              "9754  Office Supplies      Binders       0.0        50.0\n",
              "6212  Office Supplies    Fasteners       0.0        50.0\n",
              "5561  Office Supplies      Binders       0.0        50.0\n",
              "4259  Office Supplies    Envelopes       0.0        50.0\n",
              "720   Office Supplies        Paper       0.0        50.0\n",
              "6463  Office Supplies       Labels       0.0        50.0"
            ]
          },
          "metadata": {
            "tags": []
          },
          "execution_count": 36
        }
      ]
    },
    {
      "cell_type": "code",
      "metadata": {
        "id": "5Gs2O25noYdw",
        "outputId": "84ccb54e-3866-4db0-da15-bfb7f92d5641",
        "colab": {
          "base_uri": "https://localhost:8080/",
          "height": 662
        }
      },
      "source": [
        "# ss.tail(50)[['Category','Sub-Category','Discount','Profit%age']]\n",
        "\n",
        "superstore[['Category','Sub-Category','Discount','Profit%age']].sort_values(by='Profit%age',ascending=True).head(20)"
      ],
      "execution_count": 37,
      "outputs": [
        {
          "output_type": "execute_result",
          "data": {
            "text/html": [
              "<div>\n",
              "<style scoped>\n",
              "    .dataframe tbody tr th:only-of-type {\n",
              "        vertical-align: middle;\n",
              "    }\n",
              "\n",
              "    .dataframe tbody tr th {\n",
              "        vertical-align: top;\n",
              "    }\n",
              "\n",
              "    .dataframe thead th {\n",
              "        text-align: right;\n",
              "    }\n",
              "</style>\n",
              "<table border=\"1\" class=\"dataframe\">\n",
              "  <thead>\n",
              "    <tr style=\"text-align: right;\">\n",
              "      <th></th>\n",
              "      <th>Category</th>\n",
              "      <th>Sub-Category</th>\n",
              "      <th>Discount</th>\n",
              "      <th>Profit%age</th>\n",
              "    </tr>\n",
              "  </thead>\n",
              "  <tbody>\n",
              "    <tr>\n",
              "      <th>676</th>\n",
              "      <td>Office Supplies</td>\n",
              "      <td>Appliances</td>\n",
              "      <td>0.8</td>\n",
              "      <td>-275.0</td>\n",
              "    </tr>\n",
              "    <tr>\n",
              "      <th>8766</th>\n",
              "      <td>Office Supplies</td>\n",
              "      <td>Appliances</td>\n",
              "      <td>0.8</td>\n",
              "      <td>-275.0</td>\n",
              "    </tr>\n",
              "    <tr>\n",
              "      <th>9164</th>\n",
              "      <td>Office Supplies</td>\n",
              "      <td>Appliances</td>\n",
              "      <td>0.8</td>\n",
              "      <td>-275.0</td>\n",
              "    </tr>\n",
              "    <tr>\n",
              "      <th>261</th>\n",
              "      <td>Office Supplies</td>\n",
              "      <td>Appliances</td>\n",
              "      <td>0.8</td>\n",
              "      <td>-275.0</td>\n",
              "    </tr>\n",
              "    <tr>\n",
              "      <th>5414</th>\n",
              "      <td>Office Supplies</td>\n",
              "      <td>Appliances</td>\n",
              "      <td>0.8</td>\n",
              "      <td>-270.0</td>\n",
              "    </tr>\n",
              "    <tr>\n",
              "      <th>6561</th>\n",
              "      <td>Office Supplies</td>\n",
              "      <td>Appliances</td>\n",
              "      <td>0.8</td>\n",
              "      <td>-270.0</td>\n",
              "    </tr>\n",
              "    <tr>\n",
              "      <th>6989</th>\n",
              "      <td>Office Supplies</td>\n",
              "      <td>Appliances</td>\n",
              "      <td>0.8</td>\n",
              "      <td>-270.0</td>\n",
              "    </tr>\n",
              "    <tr>\n",
              "      <th>4980</th>\n",
              "      <td>Office Supplies</td>\n",
              "      <td>Appliances</td>\n",
              "      <td>0.8</td>\n",
              "      <td>-270.0</td>\n",
              "    </tr>\n",
              "    <tr>\n",
              "      <th>9086</th>\n",
              "      <td>Office Supplies</td>\n",
              "      <td>Appliances</td>\n",
              "      <td>0.8</td>\n",
              "      <td>-270.0</td>\n",
              "    </tr>\n",
              "    <tr>\n",
              "      <th>8916</th>\n",
              "      <td>Office Supplies</td>\n",
              "      <td>Appliances</td>\n",
              "      <td>0.8</td>\n",
              "      <td>-270.0</td>\n",
              "    </tr>\n",
              "    <tr>\n",
              "      <th>7494</th>\n",
              "      <td>Office Supplies</td>\n",
              "      <td>Appliances</td>\n",
              "      <td>0.8</td>\n",
              "      <td>-270.0</td>\n",
              "    </tr>\n",
              "    <tr>\n",
              "      <th>6034</th>\n",
              "      <td>Office Supplies</td>\n",
              "      <td>Appliances</td>\n",
              "      <td>0.8</td>\n",
              "      <td>-270.0</td>\n",
              "    </tr>\n",
              "    <tr>\n",
              "      <th>203</th>\n",
              "      <td>Office Supplies</td>\n",
              "      <td>Appliances</td>\n",
              "      <td>0.8</td>\n",
              "      <td>-270.0</td>\n",
              "    </tr>\n",
              "    <tr>\n",
              "      <th>8981</th>\n",
              "      <td>Office Supplies</td>\n",
              "      <td>Appliances</td>\n",
              "      <td>0.8</td>\n",
              "      <td>-270.0</td>\n",
              "    </tr>\n",
              "    <tr>\n",
              "      <th>4437</th>\n",
              "      <td>Office Supplies</td>\n",
              "      <td>Appliances</td>\n",
              "      <td>0.8</td>\n",
              "      <td>-270.0</td>\n",
              "    </tr>\n",
              "    <tr>\n",
              "      <th>5755</th>\n",
              "      <td>Office Supplies</td>\n",
              "      <td>Appliances</td>\n",
              "      <td>0.8</td>\n",
              "      <td>-270.0</td>\n",
              "    </tr>\n",
              "    <tr>\n",
              "      <th>6903</th>\n",
              "      <td>Office Supplies</td>\n",
              "      <td>Appliances</td>\n",
              "      <td>0.8</td>\n",
              "      <td>-270.0</td>\n",
              "    </tr>\n",
              "    <tr>\n",
              "      <th>8246</th>\n",
              "      <td>Office Supplies</td>\n",
              "      <td>Appliances</td>\n",
              "      <td>0.8</td>\n",
              "      <td>-270.0</td>\n",
              "    </tr>\n",
              "    <tr>\n",
              "      <th>8112</th>\n",
              "      <td>Office Supplies</td>\n",
              "      <td>Appliances</td>\n",
              "      <td>0.8</td>\n",
              "      <td>-265.0</td>\n",
              "    </tr>\n",
              "    <tr>\n",
              "      <th>4614</th>\n",
              "      <td>Office Supplies</td>\n",
              "      <td>Appliances</td>\n",
              "      <td>0.8</td>\n",
              "      <td>-265.0</td>\n",
              "    </tr>\n",
              "  </tbody>\n",
              "</table>\n",
              "</div>"
            ],
            "text/plain": [
              "             Category Sub-Category  Discount  Profit%age\n",
              "676   Office Supplies   Appliances       0.8      -275.0\n",
              "8766  Office Supplies   Appliances       0.8      -275.0\n",
              "9164  Office Supplies   Appliances       0.8      -275.0\n",
              "261   Office Supplies   Appliances       0.8      -275.0\n",
              "5414  Office Supplies   Appliances       0.8      -270.0\n",
              "6561  Office Supplies   Appliances       0.8      -270.0\n",
              "6989  Office Supplies   Appliances       0.8      -270.0\n",
              "4980  Office Supplies   Appliances       0.8      -270.0\n",
              "9086  Office Supplies   Appliances       0.8      -270.0\n",
              "8916  Office Supplies   Appliances       0.8      -270.0\n",
              "7494  Office Supplies   Appliances       0.8      -270.0\n",
              "6034  Office Supplies   Appliances       0.8      -270.0\n",
              "203   Office Supplies   Appliances       0.8      -270.0\n",
              "8981  Office Supplies   Appliances       0.8      -270.0\n",
              "4437  Office Supplies   Appliances       0.8      -270.0\n",
              "5755  Office Supplies   Appliances       0.8      -270.0\n",
              "6903  Office Supplies   Appliances       0.8      -270.0\n",
              "8246  Office Supplies   Appliances       0.8      -270.0\n",
              "8112  Office Supplies   Appliances       0.8      -265.0\n",
              "4614  Office Supplies   Appliances       0.8      -265.0"
            ]
          },
          "metadata": {
            "tags": []
          },
          "execution_count": 37
        }
      ]
    },
    {
      "cell_type": "markdown",
      "metadata": {
        "id": "whowws8VrH0r"
      },
      "source": [
        "We can notice that the Office Supplies(Binders) are reaping huge profit percentages with no discount.\n",
        "On the other hand we can notice that the Office Supplies(Appliances) are making huge losses despite the 80% discount. \n",
        "So to reduce the losses we need to cut back on the discount percentage of these loss making items and offer some discount on profit making Office Supplies(Binders) to promote sales. "
      ]
    },
    {
      "cell_type": "code",
      "metadata": {
        "id": "SaegaeDvm7cV"
      },
      "source": [
        "# ss.head(100) \n",
        "# Binders are making major profits and major losses."
      ],
      "execution_count": null,
      "outputs": []
    },
    {
      "cell_type": "code",
      "metadata": {
        "id": "qo9jUdqesA3Z"
      },
      "source": [
        "ss1=superstore[superstore['Sub-Category']=='Binders'][['Category','Sub-Category','Postal Code','Product Name','Discount','Profit%age']]"
      ],
      "execution_count": 41,
      "outputs": []
    },
    {
      "cell_type": "code",
      "metadata": {
        "id": "6yZ86ju0sLGk",
        "outputId": "e3bd51de-3a07-4612-8c54-561f13b5be0e",
        "colab": {
          "base_uri": "https://localhost:8080/",
          "height": 1000
        }
      },
      "source": [
        "ss1[(ss1['Product Name']=='Avery Non-Stick Binders')|(ss1['Product Name']=='Storex Dura Pro Binders')].sort_values(by='Profit%age',ascending=False)"
      ],
      "execution_count": 45,
      "outputs": [
        {
          "output_type": "execute_result",
          "data": {
            "text/html": [
              "<div>\n",
              "<style scoped>\n",
              "    .dataframe tbody tr th:only-of-type {\n",
              "        vertical-align: middle;\n",
              "    }\n",
              "\n",
              "    .dataframe tbody tr th {\n",
              "        vertical-align: top;\n",
              "    }\n",
              "\n",
              "    .dataframe thead th {\n",
              "        text-align: right;\n",
              "    }\n",
              "</style>\n",
              "<table border=\"1\" class=\"dataframe\">\n",
              "  <thead>\n",
              "    <tr style=\"text-align: right;\">\n",
              "      <th></th>\n",
              "      <th>Category</th>\n",
              "      <th>Sub-Category</th>\n",
              "      <th>Postal Code</th>\n",
              "      <th>Product Name</th>\n",
              "      <th>Discount</th>\n",
              "      <th>Profit%age</th>\n",
              "    </tr>\n",
              "  </thead>\n",
              "  <tbody>\n",
              "    <tr>\n",
              "      <th>6268</th>\n",
              "      <td>Office Supplies</td>\n",
              "      <td>Binders</td>\n",
              "      <td>2138</td>\n",
              "      <td>Avery Non-Stick Binders</td>\n",
              "      <td>0.0</td>\n",
              "      <td>46.000000</td>\n",
              "    </tr>\n",
              "    <tr>\n",
              "      <th>5386</th>\n",
              "      <td>Office Supplies</td>\n",
              "      <td>Binders</td>\n",
              "      <td>72756</td>\n",
              "      <td>Avery Non-Stick Binders</td>\n",
              "      <td>0.0</td>\n",
              "      <td>46.000000</td>\n",
              "    </tr>\n",
              "    <tr>\n",
              "      <th>2531</th>\n",
              "      <td>Office Supplies</td>\n",
              "      <td>Binders</td>\n",
              "      <td>72209</td>\n",
              "      <td>Avery Non-Stick Binders</td>\n",
              "      <td>0.0</td>\n",
              "      <td>46.000000</td>\n",
              "    </tr>\n",
              "    <tr>\n",
              "      <th>9494</th>\n",
              "      <td>Office Supplies</td>\n",
              "      <td>Binders</td>\n",
              "      <td>74012</td>\n",
              "      <td>Storex Dura Pro Binders</td>\n",
              "      <td>0.0</td>\n",
              "      <td>45.000000</td>\n",
              "    </tr>\n",
              "    <tr>\n",
              "      <th>8595</th>\n",
              "      <td>Office Supplies</td>\n",
              "      <td>Binders</td>\n",
              "      <td>22204</td>\n",
              "      <td>Storex Dura Pro Binders</td>\n",
              "      <td>0.0</td>\n",
              "      <td>45.000000</td>\n",
              "    </tr>\n",
              "    <tr>\n",
              "      <th>1439</th>\n",
              "      <td>Office Supplies</td>\n",
              "      <td>Binders</td>\n",
              "      <td>2908</td>\n",
              "      <td>Storex Dura Pro Binders</td>\n",
              "      <td>0.0</td>\n",
              "      <td>45.000000</td>\n",
              "    </tr>\n",
              "    <tr>\n",
              "      <th>6333</th>\n",
              "      <td>Office Supplies</td>\n",
              "      <td>Binders</td>\n",
              "      <td>48185</td>\n",
              "      <td>Storex Dura Pro Binders</td>\n",
              "      <td>0.0</td>\n",
              "      <td>45.000000</td>\n",
              "    </tr>\n",
              "    <tr>\n",
              "      <th>572</th>\n",
              "      <td>Office Supplies</td>\n",
              "      <td>Binders</td>\n",
              "      <td>10024</td>\n",
              "      <td>Storex Dura Pro Binders</td>\n",
              "      <td>0.2</td>\n",
              "      <td>33.750000</td>\n",
              "    </tr>\n",
              "    <tr>\n",
              "      <th>3024</th>\n",
              "      <td>Office Supplies</td>\n",
              "      <td>Binders</td>\n",
              "      <td>10011</td>\n",
              "      <td>Storex Dura Pro Binders</td>\n",
              "      <td>0.2</td>\n",
              "      <td>33.750000</td>\n",
              "    </tr>\n",
              "    <tr>\n",
              "      <th>334</th>\n",
              "      <td>Office Supplies</td>\n",
              "      <td>Binders</td>\n",
              "      <td>90045</td>\n",
              "      <td>Storex Dura Pro Binders</td>\n",
              "      <td>0.2</td>\n",
              "      <td>33.750000</td>\n",
              "    </tr>\n",
              "    <tr>\n",
              "      <th>2214</th>\n",
              "      <td>Office Supplies</td>\n",
              "      <td>Binders</td>\n",
              "      <td>95123</td>\n",
              "      <td>Storex Dura Pro Binders</td>\n",
              "      <td>0.2</td>\n",
              "      <td>33.750000</td>\n",
              "    </tr>\n",
              "    <tr>\n",
              "      <th>7010</th>\n",
              "      <td>Office Supplies</td>\n",
              "      <td>Binders</td>\n",
              "      <td>10035</td>\n",
              "      <td>Avery Non-Stick Binders</td>\n",
              "      <td>0.2</td>\n",
              "      <td>32.500000</td>\n",
              "    </tr>\n",
              "    <tr>\n",
              "      <th>2651</th>\n",
              "      <td>Office Supplies</td>\n",
              "      <td>Binders</td>\n",
              "      <td>84604</td>\n",
              "      <td>Avery Non-Stick Binders</td>\n",
              "      <td>0.2</td>\n",
              "      <td>32.500000</td>\n",
              "    </tr>\n",
              "    <tr>\n",
              "      <th>3099</th>\n",
              "      <td>Office Supplies</td>\n",
              "      <td>Binders</td>\n",
              "      <td>10024</td>\n",
              "      <td>Avery Non-Stick Binders</td>\n",
              "      <td>0.2</td>\n",
              "      <td>32.500000</td>\n",
              "    </tr>\n",
              "    <tr>\n",
              "      <th>5522</th>\n",
              "      <td>Office Supplies</td>\n",
              "      <td>Binders</td>\n",
              "      <td>95051</td>\n",
              "      <td>Avery Non-Stick Binders</td>\n",
              "      <td>0.2</td>\n",
              "      <td>32.500000</td>\n",
              "    </tr>\n",
              "    <tr>\n",
              "      <th>8615</th>\n",
              "      <td>Office Supplies</td>\n",
              "      <td>Binders</td>\n",
              "      <td>98026</td>\n",
              "      <td>Storex Dura Pro Binders</td>\n",
              "      <td>0.2</td>\n",
              "      <td>31.250000</td>\n",
              "    </tr>\n",
              "    <tr>\n",
              "      <th>4844</th>\n",
              "      <td>Office Supplies</td>\n",
              "      <td>Binders</td>\n",
              "      <td>90008</td>\n",
              "      <td>Avery Non-Stick Binders</td>\n",
              "      <td>0.2</td>\n",
              "      <td>31.250000</td>\n",
              "    </tr>\n",
              "    <tr>\n",
              "      <th>3842</th>\n",
              "      <td>Office Supplies</td>\n",
              "      <td>Binders</td>\n",
              "      <td>90049</td>\n",
              "      <td>Avery Non-Stick Binders</td>\n",
              "      <td>0.2</td>\n",
              "      <td>31.250000</td>\n",
              "    </tr>\n",
              "    <tr>\n",
              "      <th>1848</th>\n",
              "      <td>Office Supplies</td>\n",
              "      <td>Binders</td>\n",
              "      <td>90004</td>\n",
              "      <td>Avery Non-Stick Binders</td>\n",
              "      <td>0.2</td>\n",
              "      <td>31.250000</td>\n",
              "    </tr>\n",
              "    <tr>\n",
              "      <th>4274</th>\n",
              "      <td>Office Supplies</td>\n",
              "      <td>Binders</td>\n",
              "      <td>98105</td>\n",
              "      <td>Avery Non-Stick Binders</td>\n",
              "      <td>0.2</td>\n",
              "      <td>31.250000</td>\n",
              "    </tr>\n",
              "    <tr>\n",
              "      <th>336</th>\n",
              "      <td>Office Supplies</td>\n",
              "      <td>Binders</td>\n",
              "      <td>90045</td>\n",
              "      <td>Avery Non-Stick Binders</td>\n",
              "      <td>0.2</td>\n",
              "      <td>31.250000</td>\n",
              "    </tr>\n",
              "    <tr>\n",
              "      <th>5143</th>\n",
              "      <td>Office Supplies</td>\n",
              "      <td>Binders</td>\n",
              "      <td>10009</td>\n",
              "      <td>Avery Non-Stick Binders</td>\n",
              "      <td>0.2</td>\n",
              "      <td>31.250000</td>\n",
              "    </tr>\n",
              "    <tr>\n",
              "      <th>5114</th>\n",
              "      <td>Office Supplies</td>\n",
              "      <td>Binders</td>\n",
              "      <td>88220</td>\n",
              "      <td>Avery Non-Stick Binders</td>\n",
              "      <td>0.2</td>\n",
              "      <td>31.250000</td>\n",
              "    </tr>\n",
              "    <tr>\n",
              "      <th>2690</th>\n",
              "      <td>Office Supplies</td>\n",
              "      <td>Binders</td>\n",
              "      <td>19134</td>\n",
              "      <td>Storex Dura Pro Binders</td>\n",
              "      <td>0.7</td>\n",
              "      <td>-83.333333</td>\n",
              "    </tr>\n",
              "    <tr>\n",
              "      <th>7191</th>\n",
              "      <td>Office Supplies</td>\n",
              "      <td>Binders</td>\n",
              "      <td>33012</td>\n",
              "      <td>Avery Non-Stick Binders</td>\n",
              "      <td>0.7</td>\n",
              "      <td>-83.333333</td>\n",
              "    </tr>\n",
              "    <tr>\n",
              "      <th>3687</th>\n",
              "      <td>Office Supplies</td>\n",
              "      <td>Binders</td>\n",
              "      <td>34952</td>\n",
              "      <td>Avery Non-Stick Binders</td>\n",
              "      <td>0.7</td>\n",
              "      <td>-83.333333</td>\n",
              "    </tr>\n",
              "    <tr>\n",
              "      <th>8912</th>\n",
              "      <td>Office Supplies</td>\n",
              "      <td>Binders</td>\n",
              "      <td>37421</td>\n",
              "      <td>Storex Dura Pro Binders</td>\n",
              "      <td>0.7</td>\n",
              "      <td>-83.333333</td>\n",
              "    </tr>\n",
              "    <tr>\n",
              "      <th>4874</th>\n",
              "      <td>Office Supplies</td>\n",
              "      <td>Binders</td>\n",
              "      <td>77095</td>\n",
              "      <td>Storex Dura Pro Binders</td>\n",
              "      <td>0.8</td>\n",
              "      <td>-165.000000</td>\n",
              "    </tr>\n",
              "    <tr>\n",
              "      <th>4265</th>\n",
              "      <td>Office Supplies</td>\n",
              "      <td>Binders</td>\n",
              "      <td>77036</td>\n",
              "      <td>Storex Dura Pro Binders</td>\n",
              "      <td>0.8</td>\n",
              "      <td>-175.000000</td>\n",
              "    </tr>\n",
              "    <tr>\n",
              "      <th>3855</th>\n",
              "      <td>Office Supplies</td>\n",
              "      <td>Binders</td>\n",
              "      <td>78207</td>\n",
              "      <td>Storex Dura Pro Binders</td>\n",
              "      <td>0.8</td>\n",
              "      <td>-175.000000</td>\n",
              "    </tr>\n",
              "    <tr>\n",
              "      <th>7074</th>\n",
              "      <td>Office Supplies</td>\n",
              "      <td>Binders</td>\n",
              "      <td>78501</td>\n",
              "      <td>Storex Dura Pro Binders</td>\n",
              "      <td>0.8</td>\n",
              "      <td>-175.000000</td>\n",
              "    </tr>\n",
              "    <tr>\n",
              "      <th>8457</th>\n",
              "      <td>Office Supplies</td>\n",
              "      <td>Binders</td>\n",
              "      <td>60653</td>\n",
              "      <td>Storex Dura Pro Binders</td>\n",
              "      <td>0.8</td>\n",
              "      <td>-175.000000</td>\n",
              "    </tr>\n",
              "    <tr>\n",
              "      <th>9477</th>\n",
              "      <td>Office Supplies</td>\n",
              "      <td>Binders</td>\n",
              "      <td>60653</td>\n",
              "      <td>Storex Dura Pro Binders</td>\n",
              "      <td>0.8</td>\n",
              "      <td>-175.000000</td>\n",
              "    </tr>\n",
              "    <tr>\n",
              "      <th>2167</th>\n",
              "      <td>Office Supplies</td>\n",
              "      <td>Binders</td>\n",
              "      <td>78041</td>\n",
              "      <td>Avery Non-Stick Binders</td>\n",
              "      <td>0.8</td>\n",
              "      <td>-175.000000</td>\n",
              "    </tr>\n",
              "    <tr>\n",
              "      <th>7548</th>\n",
              "      <td>Office Supplies</td>\n",
              "      <td>Binders</td>\n",
              "      <td>77340</td>\n",
              "      <td>Avery Non-Stick Binders</td>\n",
              "      <td>0.8</td>\n",
              "      <td>-175.000000</td>\n",
              "    </tr>\n",
              "    <tr>\n",
              "      <th>1102</th>\n",
              "      <td>Office Supplies</td>\n",
              "      <td>Binders</td>\n",
              "      <td>77041</td>\n",
              "      <td>Avery Non-Stick Binders</td>\n",
              "      <td>0.8</td>\n",
              "      <td>-175.000000</td>\n",
              "    </tr>\n",
              "    <tr>\n",
              "      <th>5486</th>\n",
              "      <td>Office Supplies</td>\n",
              "      <td>Binders</td>\n",
              "      <td>78207</td>\n",
              "      <td>Avery Non-Stick Binders</td>\n",
              "      <td>0.8</td>\n",
              "      <td>-175.000000</td>\n",
              "    </tr>\n",
              "  </tbody>\n",
              "</table>\n",
              "</div>"
            ],
            "text/plain": [
              "             Category Sub-Category  ...  Discount  Profit%age\n",
              "6268  Office Supplies      Binders  ...       0.0   46.000000\n",
              "5386  Office Supplies      Binders  ...       0.0   46.000000\n",
              "2531  Office Supplies      Binders  ...       0.0   46.000000\n",
              "9494  Office Supplies      Binders  ...       0.0   45.000000\n",
              "8595  Office Supplies      Binders  ...       0.0   45.000000\n",
              "1439  Office Supplies      Binders  ...       0.0   45.000000\n",
              "6333  Office Supplies      Binders  ...       0.0   45.000000\n",
              "572   Office Supplies      Binders  ...       0.2   33.750000\n",
              "3024  Office Supplies      Binders  ...       0.2   33.750000\n",
              "334   Office Supplies      Binders  ...       0.2   33.750000\n",
              "2214  Office Supplies      Binders  ...       0.2   33.750000\n",
              "7010  Office Supplies      Binders  ...       0.2   32.500000\n",
              "2651  Office Supplies      Binders  ...       0.2   32.500000\n",
              "3099  Office Supplies      Binders  ...       0.2   32.500000\n",
              "5522  Office Supplies      Binders  ...       0.2   32.500000\n",
              "8615  Office Supplies      Binders  ...       0.2   31.250000\n",
              "4844  Office Supplies      Binders  ...       0.2   31.250000\n",
              "3842  Office Supplies      Binders  ...       0.2   31.250000\n",
              "1848  Office Supplies      Binders  ...       0.2   31.250000\n",
              "4274  Office Supplies      Binders  ...       0.2   31.250000\n",
              "336   Office Supplies      Binders  ...       0.2   31.250000\n",
              "5143  Office Supplies      Binders  ...       0.2   31.250000\n",
              "5114  Office Supplies      Binders  ...       0.2   31.250000\n",
              "2690  Office Supplies      Binders  ...       0.7  -83.333333\n",
              "7191  Office Supplies      Binders  ...       0.7  -83.333333\n",
              "3687  Office Supplies      Binders  ...       0.7  -83.333333\n",
              "8912  Office Supplies      Binders  ...       0.7  -83.333333\n",
              "4874  Office Supplies      Binders  ...       0.8 -165.000000\n",
              "4265  Office Supplies      Binders  ...       0.8 -175.000000\n",
              "3855  Office Supplies      Binders  ...       0.8 -175.000000\n",
              "7074  Office Supplies      Binders  ...       0.8 -175.000000\n",
              "8457  Office Supplies      Binders  ...       0.8 -175.000000\n",
              "9477  Office Supplies      Binders  ...       0.8 -175.000000\n",
              "2167  Office Supplies      Binders  ...       0.8 -175.000000\n",
              "7548  Office Supplies      Binders  ...       0.8 -175.000000\n",
              "1102  Office Supplies      Binders  ...       0.8 -175.000000\n",
              "5486  Office Supplies      Binders  ...       0.8 -175.000000\n",
              "\n",
              "[37 rows x 6 columns]"
            ]
          },
          "metadata": {
            "tags": []
          },
          "execution_count": 45
        }
      ]
    },
    {
      "cell_type": "markdown",
      "metadata": {
        "id": "tcZysqavtk7u"
      },
      "source": [
        "Apparently seems like the more discount is offered on 'Avery Non-Stick Binders' and 'Storex Dura Pro Binders' , the more loss its making. Thence discount from these products should be waived off."
      ]
    },
    {
      "cell_type": "code",
      "metadata": {
        "id": "TwzTLvsVvXPT",
        "outputId": "569bf27e-0967-4ee5-82d7-a227c092df4f",
        "colab": {
          "base_uri": "https://localhost:8080/",
          "height": 110
        }
      },
      "source": [
        "# ss_loss['Product Name']=ss_loss['Product Name'].str.split(\" \", n = 1, expand = True) \n",
        "# # new data frame with split value columns \n",
        "# # data[\"Team\"]= data[\"Team\"].str.split(\"t\", n = 1, expand = True) \n",
        "# ss_loss.sort_values(by='Product Name').head(30)\n",
        "# ss_loss[ss_loss['Product Name']=='Acco']\n",
        "\n",
        "new=superstore['Product Name'].str.split(\" \",n=1,expand=True)\n",
        "new.head(2) \n",
        "\n",
        "# new = data[\"Name\"].str.split(\" \", n = 1, expand = True) \n",
        "  \n",
        "# # making separate first name column from new data frame \n",
        "# data[\"First Name\"]= new[0] \n",
        "  \n",
        "# # making separate last name column from new data frame \n",
        "# data[\"Last Name\"]= new[1] "
      ],
      "execution_count": 47,
      "outputs": [
        {
          "output_type": "execute_result",
          "data": {
            "text/html": [
              "<div>\n",
              "<style scoped>\n",
              "    .dataframe tbody tr th:only-of-type {\n",
              "        vertical-align: middle;\n",
              "    }\n",
              "\n",
              "    .dataframe tbody tr th {\n",
              "        vertical-align: top;\n",
              "    }\n",
              "\n",
              "    .dataframe thead th {\n",
              "        text-align: right;\n",
              "    }\n",
              "</style>\n",
              "<table border=\"1\" class=\"dataframe\">\n",
              "  <thead>\n",
              "    <tr style=\"text-align: right;\">\n",
              "      <th></th>\n",
              "      <th>0</th>\n",
              "      <th>1</th>\n",
              "    </tr>\n",
              "  </thead>\n",
              "  <tbody>\n",
              "    <tr>\n",
              "      <th>0</th>\n",
              "      <td>Bush</td>\n",
              "      <td>Somerset Collection Bookcase</td>\n",
              "    </tr>\n",
              "    <tr>\n",
              "      <th>1</th>\n",
              "      <td>Hon</td>\n",
              "      <td>Deluxe Fabric Upholstered Stacking Chairs, Rou...</td>\n",
              "    </tr>\n",
              "  </tbody>\n",
              "</table>\n",
              "</div>"
            ],
            "text/plain": [
              "      0                                                  1\n",
              "0  Bush                       Somerset Collection Bookcase\n",
              "1   Hon  Deluxe Fabric Upholstered Stacking Chairs, Rou..."
            ]
          },
          "metadata": {
            "tags": []
          },
          "execution_count": 47
        }
      ]
    },
    {
      "cell_type": "code",
      "metadata": {
        "id": "m8FOgcgc6_xC",
        "outputId": "c8061dd6-8e79-43c0-f6f2-d3685f94ec4c",
        "colab": {
          "base_uri": "https://localhost:8080/",
          "height": 425
        }
      },
      "source": [
        "superstore['Product Company Name']=new[0]\n",
        "print ('\\n Below listed items are the least profit making \\n\\n')\n",
        "superstore.sort_values(by='Profit%age')[['Product Company Name','Product Name','Discount','Profit%age']].head(10)"
      ],
      "execution_count": 77,
      "outputs": [
        {
          "output_type": "stream",
          "text": [
            "\n",
            " Below listed items are the least profit making \n",
            "\n",
            "\n"
          ],
          "name": "stdout"
        },
        {
          "output_type": "execute_result",
          "data": {
            "text/html": [
              "<div>\n",
              "<style scoped>\n",
              "    .dataframe tbody tr th:only-of-type {\n",
              "        vertical-align: middle;\n",
              "    }\n",
              "\n",
              "    .dataframe tbody tr th {\n",
              "        vertical-align: top;\n",
              "    }\n",
              "\n",
              "    .dataframe thead th {\n",
              "        text-align: right;\n",
              "    }\n",
              "</style>\n",
              "<table border=\"1\" class=\"dataframe\">\n",
              "  <thead>\n",
              "    <tr style=\"text-align: right;\">\n",
              "      <th></th>\n",
              "      <th>Product Company Name</th>\n",
              "      <th>Product Name</th>\n",
              "      <th>Discount</th>\n",
              "      <th>Profit%age</th>\n",
              "    </tr>\n",
              "  </thead>\n",
              "  <tbody>\n",
              "    <tr>\n",
              "      <th>676</th>\n",
              "      <td>Hoover</td>\n",
              "      <td>Hoover Portapower Portable Vacuum</td>\n",
              "      <td>0.8</td>\n",
              "      <td>-275.0</td>\n",
              "    </tr>\n",
              "    <tr>\n",
              "      <th>8766</th>\n",
              "      <td>Kensington</td>\n",
              "      <td>Kensington 6 Outlet SmartSocket Surge Protector</td>\n",
              "      <td>0.8</td>\n",
              "      <td>-275.0</td>\n",
              "    </tr>\n",
              "    <tr>\n",
              "      <th>9164</th>\n",
              "      <td>Hoover</td>\n",
              "      <td>Hoover Shoulder Vac Commercial Portable Vacuum</td>\n",
              "      <td>0.8</td>\n",
              "      <td>-275.0</td>\n",
              "    </tr>\n",
              "    <tr>\n",
              "      <th>261</th>\n",
              "      <td>Eureka</td>\n",
              "      <td>Eureka Disposable Bags for Sanitaire Vibra Gro...</td>\n",
              "      <td>0.8</td>\n",
              "      <td>-275.0</td>\n",
              "    </tr>\n",
              "    <tr>\n",
              "      <th>5414</th>\n",
              "      <td>Euro</td>\n",
              "      <td>Euro Pro Shark Stick Mini Vacuum</td>\n",
              "      <td>0.8</td>\n",
              "      <td>-270.0</td>\n",
              "    </tr>\n",
              "    <tr>\n",
              "      <th>6561</th>\n",
              "      <td>Fellowes</td>\n",
              "      <td>Fellowes 8 Outlet Superior Workstation Surge P...</td>\n",
              "      <td>0.8</td>\n",
              "      <td>-270.0</td>\n",
              "    </tr>\n",
              "    <tr>\n",
              "      <th>6989</th>\n",
              "      <td>Hoover</td>\n",
              "      <td>Hoover Commercial Lightweight Upright Vacuum</td>\n",
              "      <td>0.8</td>\n",
              "      <td>-270.0</td>\n",
              "    </tr>\n",
              "    <tr>\n",
              "      <th>4980</th>\n",
              "      <td>Belkin</td>\n",
              "      <td>Belkin 6 Outlet Metallic Surge Strip</td>\n",
              "      <td>0.8</td>\n",
              "      <td>-270.0</td>\n",
              "    </tr>\n",
              "    <tr>\n",
              "      <th>9086</th>\n",
              "      <td>Hoover</td>\n",
              "      <td>Hoover Commercial Lightweight Upright Vacuum w...</td>\n",
              "      <td>0.8</td>\n",
              "      <td>-270.0</td>\n",
              "    </tr>\n",
              "    <tr>\n",
              "      <th>8916</th>\n",
              "      <td>Euro</td>\n",
              "      <td>Euro Pro Shark Stick Mini Vacuum</td>\n",
              "      <td>0.8</td>\n",
              "      <td>-270.0</td>\n",
              "    </tr>\n",
              "  </tbody>\n",
              "</table>\n",
              "</div>"
            ],
            "text/plain": [
              "     Product Company Name  ... Profit%age\n",
              "676                Hoover  ...     -275.0\n",
              "8766           Kensington  ...     -275.0\n",
              "9164               Hoover  ...     -275.0\n",
              "261                Eureka  ...     -275.0\n",
              "5414                 Euro  ...     -270.0\n",
              "6561             Fellowes  ...     -270.0\n",
              "6989               Hoover  ...     -270.0\n",
              "4980               Belkin  ...     -270.0\n",
              "9086               Hoover  ...     -270.0\n",
              "8916                 Euro  ...     -270.0\n",
              "\n",
              "[10 rows x 4 columns]"
            ]
          },
          "metadata": {
            "tags": []
          },
          "execution_count": 77
        }
      ]
    },
    {
      "cell_type": "code",
      "metadata": {
        "id": "P3VBUWhg8ifF",
        "outputId": "a3ba604e-de15-4cd6-c716-99772ac596d5",
        "colab": {
          "base_uri": "https://localhost:8080/",
          "height": 626
        }
      },
      "source": [
        "print('\\n\\n Below List of companies are achieving huge profits for the superstore\\n\\n')\n",
        "superstore_groupby_company = superstore.groupby(by='Product Company Name')[['Product Company Name','Profit%age']].mean()\n",
        "superstore_groupby_company[superstore_groupby_company['Profit%age']>45]"
      ],
      "execution_count": 90,
      "outputs": [
        {
          "output_type": "stream",
          "text": [
            "\n",
            "\n",
            " Below List of companies are achieving huge profits for the superstore\n",
            "\n",
            "\n"
          ],
          "name": "stdout"
        },
        {
          "output_type": "execute_result",
          "data": {
            "text/html": [
              "<div>\n",
              "<style scoped>\n",
              "    .dataframe tbody tr th:only-of-type {\n",
              "        vertical-align: middle;\n",
              "    }\n",
              "\n",
              "    .dataframe tbody tr th {\n",
              "        vertical-align: top;\n",
              "    }\n",
              "\n",
              "    .dataframe thead th {\n",
              "        text-align: right;\n",
              "    }\n",
              "</style>\n",
              "<table border=\"1\" class=\"dataframe\">\n",
              "  <thead>\n",
              "    <tr style=\"text-align: right;\">\n",
              "      <th></th>\n",
              "      <th>Profit%age</th>\n",
              "    </tr>\n",
              "    <tr>\n",
              "      <th>Product Company Name</th>\n",
              "      <th></th>\n",
              "    </tr>\n",
              "  </thead>\n",
              "  <tbody>\n",
              "    <tr>\n",
              "      <th>Alphabetical</th>\n",
              "      <td>45.833333</td>\n",
              "    </tr>\n",
              "    <tr>\n",
              "      <th>Brown</th>\n",
              "      <td>47.500000</td>\n",
              "    </tr>\n",
              "    <tr>\n",
              "      <th>Color-Coded</th>\n",
              "      <td>49.000000</td>\n",
              "    </tr>\n",
              "    <tr>\n",
              "      <th>Dot</th>\n",
              "      <td>45.812500</td>\n",
              "    </tr>\n",
              "    <tr>\n",
              "      <th>Logitech Illuminated</th>\n",
              "      <td>45.833333</td>\n",
              "    </tr>\n",
              "    <tr>\n",
              "      <th>Loose</th>\n",
              "      <td>47.000000</td>\n",
              "    </tr>\n",
              "    <tr>\n",
              "      <th>Memo</th>\n",
              "      <td>45.833333</td>\n",
              "    </tr>\n",
              "    <tr>\n",
              "      <th>Multicolor</th>\n",
              "      <td>45.400000</td>\n",
              "    </tr>\n",
              "    <tr>\n",
              "      <th>Multimedia</th>\n",
              "      <td>46.000000</td>\n",
              "    </tr>\n",
              "    <tr>\n",
              "      <th>Park</th>\n",
              "      <td>47.000000</td>\n",
              "    </tr>\n",
              "    <tr>\n",
              "      <th>Pastel</th>\n",
              "      <td>48.000000</td>\n",
              "    </tr>\n",
              "    <tr>\n",
              "      <th>REDIFORM</th>\n",
              "      <td>45.312500</td>\n",
              "    </tr>\n",
              "    <tr>\n",
              "      <th>Spiral</th>\n",
              "      <td>45.812500</td>\n",
              "    </tr>\n",
              "    <tr>\n",
              "      <th>Tops</th>\n",
              "      <td>45.153846</td>\n",
              "    </tr>\n",
              "    <tr>\n",
              "      <th>Weyerhaeuser</th>\n",
              "      <td>45.400000</td>\n",
              "    </tr>\n",
              "  </tbody>\n",
              "</table>\n",
              "</div>"
            ],
            "text/plain": [
              "                      Profit%age\n",
              "Product Company Name            \n",
              "Alphabetical           45.833333\n",
              "Brown                  47.500000\n",
              "Color-Coded            49.000000\n",
              "Dot                    45.812500\n",
              "Logitech Illuminated   45.833333\n",
              "Loose                  47.000000\n",
              "Memo                   45.833333\n",
              "Multicolor             45.400000\n",
              "Multimedia             46.000000\n",
              "Park                   47.000000\n",
              "Pastel                 48.000000\n",
              "REDIFORM               45.312500\n",
              "Spiral                 45.812500\n",
              "Tops                   45.153846\n",
              "Weyerhaeuser           45.400000"
            ]
          },
          "metadata": {
            "tags": []
          },
          "execution_count": 90
        }
      ]
    },
    {
      "cell_type": "code",
      "metadata": {
        "id": "dP_YRbSECaLp",
        "outputId": "698ee076-6f25-4ef5-eded-929af5676ad3",
        "colab": {
          "base_uri": "https://localhost:8080/",
          "height": 381
        }
      },
      "source": [
        "print('\\n\\n Below List of companies are achieving least profits for the superstore\\n------------------------------------------------------------------------\\n')\n",
        "superstore_groupby_company[superstore_groupby_company['Profit%age']<-60]"
      ],
      "execution_count": 105,
      "outputs": [
        {
          "output_type": "stream",
          "text": [
            "\n",
            "\n",
            " Below List of companies are achieving least profits for the superstore\n",
            "------------------------------------------------------------------------\n",
            "\n"
          ],
          "name": "stdout"
        },
        {
          "output_type": "execute_result",
          "data": {
            "text/html": [
              "<div>\n",
              "<style scoped>\n",
              "    .dataframe tbody tr th:only-of-type {\n",
              "        vertical-align: middle;\n",
              "    }\n",
              "\n",
              "    .dataframe tbody tr th {\n",
              "        vertical-align: top;\n",
              "    }\n",
              "\n",
              "    .dataframe thead th {\n",
              "        text-align: right;\n",
              "    }\n",
              "</style>\n",
              "<table border=\"1\" class=\"dataframe\">\n",
              "  <thead>\n",
              "    <tr style=\"text-align: right;\">\n",
              "      <th></th>\n",
              "      <th>Profit%age</th>\n",
              "    </tr>\n",
              "    <tr>\n",
              "      <th>Product Company Name</th>\n",
              "      <th></th>\n",
              "    </tr>\n",
              "  </thead>\n",
              "  <tbody>\n",
              "    <tr>\n",
              "      <th>3.6</th>\n",
              "      <td>-148.400000</td>\n",
              "    </tr>\n",
              "    <tr>\n",
              "      <th>BoxOffice</th>\n",
              "      <td>-68.727273</td>\n",
              "    </tr>\n",
              "    <tr>\n",
              "      <th>Catalog</th>\n",
              "      <td>-61.562500</td>\n",
              "    </tr>\n",
              "    <tr>\n",
              "      <th>Cubify</th>\n",
              "      <td>-83.458333</td>\n",
              "    </tr>\n",
              "    <tr>\n",
              "      <th>Euro</th>\n",
              "      <td>-177.500000</td>\n",
              "    </tr>\n",
              "    <tr>\n",
              "      <th>Insertable</th>\n",
              "      <td>-77.685897</td>\n",
              "    </tr>\n",
              "    <tr>\n",
              "      <th>UniKeep</th>\n",
              "      <td>-68.300000</td>\n",
              "    </tr>\n",
              "  </tbody>\n",
              "</table>\n",
              "</div>"
            ],
            "text/plain": [
              "                      Profit%age\n",
              "Product Company Name            \n",
              "3.6                  -148.400000\n",
              "BoxOffice             -68.727273\n",
              "Catalog               -61.562500\n",
              "Cubify                -83.458333\n",
              "Euro                 -177.500000\n",
              "Insertable            -77.685897\n",
              "UniKeep               -68.300000"
            ]
          },
          "metadata": {
            "tags": []
          },
          "execution_count": 105
        }
      ]
    },
    {
      "cell_type": "code",
      "metadata": {
        "id": "1Sm6rJg9Gru_"
      },
      "source": [
        ""
      ],
      "execution_count": null,
      "outputs": []
    }
  ]
}