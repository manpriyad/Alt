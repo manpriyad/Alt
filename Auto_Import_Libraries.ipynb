{
  "nbformat": 4,
  "nbformat_minor": 0,
  "metadata": {
    "colab": {
      "name": "Auto-Import_Libraries.ipynb",
      "provenance": [],
      "collapsed_sections": [],
      "authorship_tag": "ABX9TyMGjMDzsrfvw5uN3QvaTJcA",
      "include_colab_link": true
    },
    "kernelspec": {
      "name": "python3",
      "display_name": "Python 3"
    },
    "language_info": {
      "name": "python"
    }
  },
  "cells": [
    {
      "cell_type": "markdown",
      "metadata": {
        "id": "view-in-github",
        "colab_type": "text"
      },
      "source": [
        "<a href=\"https://colab.research.google.com/github/manpriyad/Alt/blob/master/Auto_Import_Libraries.ipynb\" target=\"_parent\"><img src=\"https://colab.research.google.com/assets/colab-badge.svg\" alt=\"Open In Colab\"/></a>"
      ]
    },
    {
      "cell_type": "markdown",
      "metadata": {
        "id": "9TQ7abokLArV"
      },
      "source": [
        "## Link : https://towardsdatascience.com/auto-import-python-libraries-d095a11b4cca"
      ]
    },
    {
      "cell_type": "code",
      "metadata": {
        "colab": {
          "base_uri": "https://localhost:8080/"
        },
        "id": "OFB91_t8Kqjw",
        "outputId": "8d4bee08-6ece-4b2b-a4fc-ede014fb933e"
      },
      "source": [
        "!pip install pyforest"
      ],
      "execution_count": 1,
      "outputs": [
        {
          "output_type": "stream",
          "text": [
            "Collecting pyforest\n",
            "  Downloading https://files.pythonhosted.org/packages/e5/ae/418f9bbcfb442bb6775f294451c97e134f84c8c4f47d75208419e4af7e13/pyforest-1.1.0.tar.gz\n",
            "Building wheels for collected packages: pyforest\n",
            "  Building wheel for pyforest (setup.py) ... \u001b[?25l\u001b[?25hdone\n",
            "  Created wheel for pyforest: filename=pyforest-1.1.0-py2.py3-none-any.whl size=14606 sha256=740fb2bd9c65258481e654ad9c659e08d767ad8efa609cada4e326699f2fb3dc\n",
            "  Stored in directory: /root/.cache/pip/wheels/40/c6/da/43562aeea85b37f1a2b3d326f0f602f865000d2ada8a43625f\n",
            "Successfully built pyforest\n",
            "Installing collected packages: pyforest\n",
            "Successfully installed pyforest-1.1.0\n"
          ],
          "name": "stdout"
        }
      ]
    },
    {
      "cell_type": "code",
      "metadata": {
        "id": "VqjkwAWFKyRu"
      },
      "source": [
        "from pyforest import *"
      ],
      "execution_count": 2,
      "outputs": []
    },
    {
      "cell_type": "code",
      "metadata": {
        "colab": {
          "base_uri": "https://localhost:8080/"
        },
        "id": "8wMrbAQEK5K5",
        "outputId": "c4f5e832-0c36-401b-ffaf-a92e04f8c7c2"
      },
      "source": [
        "lazy_imports()"
      ],
      "execution_count": 3,
      "outputs": [
        {
          "output_type": "execute_result",
          "data": {
            "text/plain": [
              "['from sklearn.linear_model import Ridge',\n",
              " 'import pickle',\n",
              " 'from sklearn.model_selection import train_test_split',\n",
              " 'from sklearn.model_selection import cross_val_score',\n",
              " 'import re',\n",
              " 'from sklearn.linear_model import Lasso',\n",
              " 'from sklearn.model_selection import KFold',\n",
              " 'from sklearn.linear_model import ElasticNetCV',\n",
              " 'import pydot',\n",
              " 'from sklearn.decomposition import PCA',\n",
              " 'import torch',\n",
              " 'from openpyxl import load_workbook',\n",
              " 'from sklearn.feature_extraction.text import CountVectorizer',\n",
              " 'from sklearn.linear_model import LassoCV',\n",
              " 'import statistics',\n",
              " 'from sklearn.feature_extraction.text import TfidfVectorizer',\n",
              " 'from scipy import stats',\n",
              " 'import nltk',\n",
              " 'from sklearn.manifold import TSNE',\n",
              " 'import statsmodels.api as sm',\n",
              " 'from sklearn.linear_model import LogisticRegression',\n",
              " 'from sklearn.preprocessing import LabelEncoder',\n",
              " 'from sklearn.preprocessing import MinMaxScaler',\n",
              " 'import matplotlib.pyplot as plt',\n",
              " 'from statsmodels.tsa.arima_model import ARIMA',\n",
              " 'from sklearn.linear_model import LinearRegression',\n",
              " 'from sklearn.model_selection import StratifiedKFold',\n",
              " 'from dask import dataframe as dd',\n",
              " 'from sklearn.impute import SimpleImputer',\n",
              " 'import imutils',\n",
              " 'import awswrangler as wr',\n",
              " 'import plotly.express as px',\n",
              " 'import plotly.graph_objs as go',\n",
              " 'from sklearn.linear_model import ElasticNet',\n",
              " 'from pathlib import Path',\n",
              " 'import fbprophet',\n",
              " 'import datetime as dt',\n",
              " 'from sklearn.cluster import KMeans',\n",
              " 'import gensim',\n",
              " 'import tqdm',\n",
              " 'from sklearn.preprocessing import RobustScaler',\n",
              " 'import matplotlib as mpl',\n",
              " 'import textblob',\n",
              " 'from sklearn.ensemble import GradientBoostingClassifier',\n",
              " 'from xlrd import open_workbook',\n",
              " 'import pandas as pd',\n",
              " 'import sklearn',\n",
              " 'from sklearn.ensemble import GradientBoostingRegressor',\n",
              " 'import os',\n",
              " 'from sklearn import svm',\n",
              " 'from sklearn.ensemble import RandomForestClassifier',\n",
              " 'import skimage',\n",
              " 'from sklearn.preprocessing import PolynomialFeatures',\n",
              " 'from sklearn import metrics',\n",
              " 'from sklearn.model_selection import RandomizedSearchCV',\n",
              " 'import seaborn as sns',\n",
              " 'from pyspark import SparkContext',\n",
              " 'import glob',\n",
              " 'import dash',\n",
              " 'import lightgbm as lgb',\n",
              " 'import fastai',\n",
              " 'from sklearn.ensemble import RandomForestRegressor',\n",
              " 'import altair as alt',\n",
              " 'import bokeh',\n",
              " 'from sklearn.linear_model import RidgeCV',\n",
              " 'import cv2',\n",
              " 'import sys',\n",
              " 'from sklearn.preprocessing import OneHotEncoder',\n",
              " 'from sklearn.model_selection import GridSearchCV',\n",
              " 'import xgboost as xgb',\n",
              " 'from sklearn.preprocessing import StandardScaler',\n",
              " 'import numpy as np',\n",
              " 'from fbprophet import Prophet',\n",
              " 'import keras',\n",
              " 'import tensorflow as tf',\n",
              " 'import plotly as py',\n",
              " 'from PIL import Image',\n",
              " 'from scipy import signal as sg',\n",
              " 'import spacy']"
            ]
          },
          "metadata": {
            "tags": []
          },
          "execution_count": 3
        }
      ]
    },
    {
      "cell_type": "code",
      "metadata": {
        "id": "MELEkRaPK9Sg"
      },
      "source": [
        ""
      ],
      "execution_count": null,
      "outputs": []
    }
  ]
}