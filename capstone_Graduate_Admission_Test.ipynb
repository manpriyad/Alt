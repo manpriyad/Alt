{
  "nbformat": 4,
  "nbformat_minor": 0,
  "metadata": {
    "kernelspec": {
      "display_name": "Python 3",
      "language": "python",
      "name": "python3"
    },
    "language_info": {
      "codemirror_mode": {
        "name": "ipython",
        "version": 3
      },
      "file_extension": ".py",
      "mimetype": "text/x-python",
      "name": "python",
      "nbconvert_exporter": "python",
      "pygments_lexer": "ipython3",
      "version": "3.8.5"
    },
    "colab": {
      "name": "capstone_Graduate_Admission_Test.ipynb",
      "provenance": [],
      "include_colab_link": true
    }
  },
  "cells": [
    {
      "cell_type": "markdown",
      "metadata": {
        "id": "view-in-github",
        "colab_type": "text"
      },
      "source": [
        "<a href=\"https://colab.research.google.com/github/manpriyad/Alt/blob/master/capstone_Graduate_Admission_Test.ipynb\" target=\"_parent\"><img src=\"https://colab.research.google.com/assets/colab-badge.svg\" alt=\"Open In Colab\"/></a>"
      ]
    },
    {
      "cell_type": "markdown",
      "metadata": {
        "id": "yBXTzgOuW8dh"
      },
      "source": [
        "## Problem Statement\n",
        "\n",
        "This dataset is created for the prediction of Graduate admissions from an Indian perspective. The dataset contains various features that are important during the application for the Master's Program. The predicted output obtained from the classification algorithm gives a fair idea about the chances of a student for admission."
      ]
    },
    {
      "cell_type": "markdown",
      "metadata": {
        "id": "jGCTO2LMW8dh"
      },
      "source": [
        "## About the dataset (Graduate admissions prediction data) \n",
        "\n",
        "**Serial No.:** Serial number of student \n",
        "\n",
        "**GRE Scores:** GRE score (out of 340)\n",
        "\n",
        "**TOEFL Scores:** TOEFL score (out of 120)\n",
        "\n",
        "**University Rating:** University rating (out of 5)\n",
        "\n",
        "**SOP:** Strength of Statement of Purpose (out of 5)\n",
        "\n",
        "**LOR:** Strength of Letter of Recommendation (out of 5)\n",
        "\n",
        "**CGPA:** Undergraduate CGPA (out of 10)\n",
        "\n",
        "**Research:** Research experience (either 0 or 1)\n",
        "\n",
        "**Chance of Admit:** Chance of admission (target/dependent variable)"
      ]
    },
    {
      "cell_type": "markdown",
      "metadata": {
        "id": "T-M7KFLKW8di"
      },
      "source": [
        "## Table of Content\n",
        "\n",
        "1. **[Import Libraries](#lib)**\n",
        "2. **[Data Preparation](#prep)**\n",
        "    - 2.1 - **[Read the Data](#read)**\n",
        "    - 2.2 - **[Check the Data Type](#dtype)**\n",
        "    - 2.3 - **[Remove Insignificant Variables](#drop)**\n",
        "    - 2.4 - **[Distribution of Variables](#dist)**\n",
        "    - 2.5 - **[Missing Value Treatment](#null)**\n",
        "    - 2.6 - **[Dummy Encode the Categorical Variables](#dummy)**\n",
        "    - 2.7 - **[Train-Test Split](#split)**\n",
        "3. **[Boosting Methods](#boosting)**\n",
        "    - 3.1 - **[AdaBoost](#ada)**\n",
        "    - 3.2 - **[Gradient Boosting](#gradient)**\n",
        "    - 3.3 - **[XGBoost](#xgboost)**\n",
        "        - 3.3.1 - **[Tune the Hyperparameters (GridSearchCV)](#tune)**\n",
        "4. **[Stack Generalization](#stack)**"
      ]
    },
    {
      "cell_type": "markdown",
      "metadata": {
        "id": "PeWk0bDHW8di"
      },
      "source": [
        "<a id=\"lib\"></a>\n",
        "# 1. Import Libraries"
      ]
    },
    {
      "cell_type": "markdown",
      "metadata": {
        "id": "S9GbBbTUW8dj"
      },
      "source": [
        "**Let us import the required libraries.**"
      ]
    },
    {
      "cell_type": "code",
      "metadata": {
        "id": "8NMMsIF2W8dj"
      },
      "source": [
        "# import 'Pandas' \n",
        "import pandas as pd \n",
        "\n",
        "# import 'Numpy' \n",
        "import numpy as np\n",
        "\n",
        "# import subpackage of Matplotlib\n",
        "import matplotlib.pyplot as plt\n",
        "from matplotlib.colors import ListedColormap\n",
        "\n",
        "# import 'Seaborn' \n",
        "import seaborn as sns\n",
        "\n",
        "# to suppress warnings \n",
        "from warnings import filterwarnings\n",
        "filterwarnings('ignore')\n",
        "\n",
        "# display all columns of the dataframe\n",
        "pd.options.display.max_columns = None\n",
        "\n",
        "# display all rows of the dataframe\n",
        "pd.options.display.max_rows = None\n",
        " \n",
        "# to display the float values upto 6 decimal places     \n",
        "pd.options.display.float_format = '{:.6f}'.format\n",
        "\n",
        "# import train-test split \n",
        "from sklearn.model_selection import train_test_split\n",
        "\n",
        "# import StandardScaler to perform scaling\n",
        "from sklearn.preprocessing import StandardScaler \n",
        "\n",
        "# import various functions from sklearn\n",
        "from sklearn.metrics import classification_report\n",
        "from sklearn.metrics import confusion_matrix\n",
        "from sklearn.metrics import roc_curve\n",
        "from sklearn.metrics import roc_auc_score\n",
        "from sklearn.ensemble import AdaBoostClassifier\n",
        "from sklearn.ensemble import GradientBoostingClassifier\n",
        "from sklearn.model_selection import GridSearchCV\n",
        "from sklearn.ensemble import StackingClassifier\n",
        "from sklearn.ensemble import RandomForestClassifier\n",
        "from sklearn.neighbors import KNeighborsClassifier\n",
        "from sklearn.naive_bayes import GaussianNB\n",
        "\n",
        "# import the XGBoost function for classification\n",
        "from xgboost import XGBClassifier"
      ],
      "execution_count": 98,
      "outputs": []
    },
    {
      "cell_type": "code",
      "metadata": {
        "id": "93hDMX0jW8dk"
      },
      "source": [
        "# set the plot size using 'rcParams'\n",
        "# once the plot size is set using 'rcParams', it sets the size of all the forthcoming plots in the file\n",
        "# pass width and height in inches to 'figure.figsize' \n",
        "plt.rcParams['figure.figsize'] = [15,8]"
      ],
      "execution_count": 99,
      "outputs": []
    },
    {
      "cell_type": "markdown",
      "metadata": {
        "id": "7Qn0sj0kW8dk"
      },
      "source": [
        "<a id=\"prep\"></a>\n",
        "# 2. Data Preparation"
      ]
    },
    {
      "cell_type": "markdown",
      "metadata": {
        "id": "1KWh_9FYW8dl"
      },
      "source": [
        "<a id=\"read\"></a>\n",
        "## 2.1 Read the Data"
      ]
    },
    {
      "cell_type": "markdown",
      "metadata": {
        "id": "9NrQ8hMFW8dl"
      },
      "source": [
        "#### Read the dataset and print the first five observations."
      ]
    },
    {
      "cell_type": "code",
      "metadata": {
        "scrolled": false,
        "colab": {
          "base_uri": "https://localhost:8080/",
          "height": 202
        },
        "id": "sspN8FdVW8dl",
        "outputId": "453d247b-d36f-4d7d-fbbf-c2f2e19bdee8"
      },
      "source": [
        "# load the csv file\n",
        "# store the data in 'df_admissions'\n",
        "df_admissions = pd.read_csv('/content/drive/MyDrive/Colab Notebooks/Capstone_galytix/Admission_Predict.csv')\n",
        "\n",
        "# display first five observations using head()\n",
        "df_admissions.head()"
      ],
      "execution_count": 100,
      "outputs": [
        {
          "output_type": "execute_result",
          "data": {
            "text/html": [
              "<div>\n",
              "<style scoped>\n",
              "    .dataframe tbody tr th:only-of-type {\n",
              "        vertical-align: middle;\n",
              "    }\n",
              "\n",
              "    .dataframe tbody tr th {\n",
              "        vertical-align: top;\n",
              "    }\n",
              "\n",
              "    .dataframe thead th {\n",
              "        text-align: right;\n",
              "    }\n",
              "</style>\n",
              "<table border=\"1\" class=\"dataframe\">\n",
              "  <thead>\n",
              "    <tr style=\"text-align: right;\">\n",
              "      <th></th>\n",
              "      <th>Serial No.</th>\n",
              "      <th>GRE Score</th>\n",
              "      <th>TOEFL Score</th>\n",
              "      <th>University Rating</th>\n",
              "      <th>SOP</th>\n",
              "      <th>LOR</th>\n",
              "      <th>CGPA</th>\n",
              "      <th>Research</th>\n",
              "      <th>Chance of Admit</th>\n",
              "    </tr>\n",
              "  </thead>\n",
              "  <tbody>\n",
              "    <tr>\n",
              "      <th>0</th>\n",
              "      <td>1</td>\n",
              "      <td>337</td>\n",
              "      <td>118</td>\n",
              "      <td>4</td>\n",
              "      <td>4.500000</td>\n",
              "      <td>4.500000</td>\n",
              "      <td>9.650000</td>\n",
              "      <td>1</td>\n",
              "      <td>1</td>\n",
              "    </tr>\n",
              "    <tr>\n",
              "      <th>1</th>\n",
              "      <td>2</td>\n",
              "      <td>324</td>\n",
              "      <td>107</td>\n",
              "      <td>4</td>\n",
              "      <td>4.000000</td>\n",
              "      <td>4.500000</td>\n",
              "      <td>8.870000</td>\n",
              "      <td>1</td>\n",
              "      <td>1</td>\n",
              "    </tr>\n",
              "    <tr>\n",
              "      <th>2</th>\n",
              "      <td>3</td>\n",
              "      <td>316</td>\n",
              "      <td>104</td>\n",
              "      <td>3</td>\n",
              "      <td>3.000000</td>\n",
              "      <td>3.500000</td>\n",
              "      <td>8.000000</td>\n",
              "      <td>1</td>\n",
              "      <td>0</td>\n",
              "    </tr>\n",
              "    <tr>\n",
              "      <th>3</th>\n",
              "      <td>4</td>\n",
              "      <td>322</td>\n",
              "      <td>110</td>\n",
              "      <td>3</td>\n",
              "      <td>3.500000</td>\n",
              "      <td>2.500000</td>\n",
              "      <td>8.670000</td>\n",
              "      <td>1</td>\n",
              "      <td>1</td>\n",
              "    </tr>\n",
              "    <tr>\n",
              "      <th>4</th>\n",
              "      <td>5</td>\n",
              "      <td>314</td>\n",
              "      <td>103</td>\n",
              "      <td>2</td>\n",
              "      <td>2.000000</td>\n",
              "      <td>3.000000</td>\n",
              "      <td>8.210000</td>\n",
              "      <td>0</td>\n",
              "      <td>0</td>\n",
              "    </tr>\n",
              "  </tbody>\n",
              "</table>\n",
              "</div>"
            ],
            "text/plain": [
              "   Serial No.  GRE Score  TOEFL Score  University Rating      SOP      LOR  \\\n",
              "0           1        337          118                  4 4.500000 4.500000   \n",
              "1           2        324          107                  4 4.000000 4.500000   \n",
              "2           3        316          104                  3 3.000000 3.500000   \n",
              "3           4        322          110                  3 3.500000 2.500000   \n",
              "4           5        314          103                  2 2.000000 3.000000   \n",
              "\n",
              "      CGPA  Research  Chance of Admit  \n",
              "0 9.650000         1                1  \n",
              "1 8.870000         1                1  \n",
              "2 8.000000         1                0  \n",
              "3 8.670000         1                1  \n",
              "4 8.210000         0                0  "
            ]
          },
          "metadata": {
            "tags": []
          },
          "execution_count": 100
        }
      ]
    },
    {
      "cell_type": "markdown",
      "metadata": {
        "id": "VMm2HRxJW8dm"
      },
      "source": [
        "**Let us now see the number of variables and observations in the data.**"
      ]
    },
    {
      "cell_type": "code",
      "metadata": {
        "colab": {
          "base_uri": "https://localhost:8080/"
        },
        "id": "y6Y8hwX6W8dm",
        "outputId": "c4909be5-efc9-43a2-9b02-1e2a9c6dd2f9"
      },
      "source": [
        "# use 'shape' to check the dimension of data\n",
        "df_admissions.shape"
      ],
      "execution_count": 101,
      "outputs": [
        {
          "output_type": "execute_result",
          "data": {
            "text/plain": [
              "(400, 9)"
            ]
          },
          "metadata": {
            "tags": []
          },
          "execution_count": 101
        }
      ]
    },
    {
      "cell_type": "code",
      "metadata": {
        "id": "NZLb_AAAgpfO"
      },
      "source": [
        "# df_admissions.columns=['Serial No.', 'GRE Score', 'TOEFL Score', 'University Rating', 'SOP',\n",
        "#        'LOR', 'CGPA', 'Research', 'Chance of Admit']"
      ],
      "execution_count": 102,
      "outputs": []
    },
    {
      "cell_type": "markdown",
      "metadata": {
        "id": "KqVXe6ngW8dn"
      },
      "source": [
        "**Interpretation:** The data has 400 observations and 9 variables."
      ]
    },
    {
      "cell_type": "markdown",
      "metadata": {
        "id": "1kflz4jNW8dn"
      },
      "source": [
        "<a id=\"dtype\"></a>\n",
        "## 2.2 Check the Data Type"
      ]
    },
    {
      "cell_type": "markdown",
      "metadata": {
        "id": "G5f_fNmxW8dn"
      },
      "source": [
        "**Check the data type of each variable. If the data type is not as per the data definition, change the data type.**"
      ]
    },
    {
      "cell_type": "code",
      "metadata": {
        "scrolled": false,
        "colab": {
          "base_uri": "https://localhost:8080/"
        },
        "id": "DEOfaJuuW8dn",
        "outputId": "0da7e5e0-1df8-4fa0-e3bc-239d96ba6248"
      },
      "source": [
        "# use 'dtypes' to check the data type of a variable\n",
        "df_admissions.dtypes"
      ],
      "execution_count": 103,
      "outputs": [
        {
          "output_type": "execute_result",
          "data": {
            "text/plain": [
              "Serial No.             int64\n",
              "GRE Score              int64\n",
              "TOEFL Score            int64\n",
              "University Rating      int64\n",
              "SOP                  float64\n",
              "LOR                  float64\n",
              "CGPA                 float64\n",
              "Research               int64\n",
              "Chance of Admit        int64\n",
              "dtype: object"
            ]
          },
          "metadata": {
            "tags": []
          },
          "execution_count": 103
        }
      ]
    },
    {
      "cell_type": "markdown",
      "metadata": {
        "id": "zjfsdP3pW8do"
      },
      "source": [
        "**Interpretation:** The variables `GRE Score`, `TOEFL Score`, `University Rating`, `SOP`, `LOR` and `CGPA` are numerical.\n",
        "\n",
        "From the above output, we see that the data type of `Research` is 'int64'.\n",
        "\n",
        "But according to the data definition, `Research` is a categorical variable, which is wrongly interpreted as 'int64', so we will convert these variables data type to 'object'."
      ]
    },
    {
      "cell_type": "markdown",
      "metadata": {
        "id": "3XuEQNJ5W8do"
      },
      "source": [
        "#### Change the data type as per the data definition."
      ]
    },
    {
      "cell_type": "code",
      "metadata": {
        "id": "NEGX3qymW8do"
      },
      "source": [
        "# convert numerical variable to categorical (object) \n",
        "# use astype() to change the data type\n",
        "\n",
        "# change the data type of 'Research'\n",
        "df_admissions['Research'] = df_admissions['Research'].astype(object)"
      ],
      "execution_count": 104,
      "outputs": []
    },
    {
      "cell_type": "markdown",
      "metadata": {
        "id": "ew2Jv26iW8do"
      },
      "source": [
        "#### Recheck the data type after the conversion. "
      ]
    },
    {
      "cell_type": "code",
      "metadata": {
        "colab": {
          "base_uri": "https://localhost:8080/"
        },
        "id": "KfH9KjbKW8dp",
        "outputId": "0b9bf5f0-ae67-42d7-9bb5-1fc27fc341af"
      },
      "source": [
        "# recheck the data types using 'dtypes'\n",
        "df_admissions.dtypes"
      ],
      "execution_count": 105,
      "outputs": [
        {
          "output_type": "execute_result",
          "data": {
            "text/plain": [
              "Serial No.             int64\n",
              "GRE Score              int64\n",
              "TOEFL Score            int64\n",
              "University Rating      int64\n",
              "SOP                  float64\n",
              "LOR                  float64\n",
              "CGPA                 float64\n",
              "Research              object\n",
              "Chance of Admit        int64\n",
              "dtype: object"
            ]
          },
          "metadata": {
            "tags": []
          },
          "execution_count": 105
        }
      ]
    },
    {
      "cell_type": "markdown",
      "metadata": {
        "id": "jiPz4-ciW8dp"
      },
      "source": [
        "**Interpretation:** Now, all the variables have the correct data type."
      ]
    },
    {
      "cell_type": "markdown",
      "metadata": {
        "id": "GH27-12zW8dp"
      },
      "source": [
        "<a id=\"drop\"></a>\n",
        "## 2.3 Remove Insignificant Variables"
      ]
    },
    {
      "cell_type": "markdown",
      "metadata": {
        "id": "mw-ueawCW8dp"
      },
      "source": [
        "The column `Serial No.` contains the serial number of the student, which is redundant for further analysis. Thus, we drop the column."
      ]
    },
    {
      "cell_type": "code",
      "metadata": {
        "id": "44up290TW8dp"
      },
      "source": [
        "# drop the column 'Serial No.' using drop()\n",
        "# 'axis = 1' drops the specified column\n",
        "df_admissions = df_admissions.drop('Serial No.', axis = 1)"
      ],
      "execution_count": 106,
      "outputs": []
    },
    {
      "cell_type": "markdown",
      "metadata": {
        "id": "sYeK0cdBW8dq"
      },
      "source": [
        "<a id=\"dist\"></a>\n",
        "## 2.4 Distribution of Variables"
      ]
    },
    {
      "cell_type": "markdown",
      "metadata": {
        "id": "dAwA634RW8dq"
      },
      "source": [
        "**Distribution of numeric independent variables.**"
      ]
    },
    {
      "cell_type": "code",
      "metadata": {
        "colab": {
          "base_uri": "https://localhost:8080/",
          "height": 917
        },
        "id": "t9aFZ8QhW8dq",
        "outputId": "8fab5066-86d8-44f9-d381-fe1a4eb1e6ff"
      },
      "source": [
        "# for the independent numeric variables, we plot the histogram to check the distribution of the variables\n",
        "# Note: the hist() function considers the numeric variables only, by default\n",
        "# we drop the target variable using drop()\n",
        "# 'axis=1' drops the specified column\n",
        "df_admissions.drop('Chance of Admit', axis = 1).hist()\n",
        "\n",
        "# adjust the subplots\n",
        "plt.tight_layout()\n",
        "\n",
        "# display the plot\n",
        "plt.show()  \n",
        "print (\"\"\"\n",
        "Distribution of the variables\n",
        "Some observations from the histograms of all the variables:\n",
        "\n",
        "1. The GRE scores are concentrate around the 320 mark and the lowest is around 290.\n",
        "2. Most of the students have TOEFL scores in the 100-110 range.\n",
        "3. Most of the students have average to good SOPs and LORs.\n",
        "4. CGPA is concentrated on the higher side with the mean around 8.5.\n",
        " \\n\"\"\")\n",
        "\n",
        "# print the skewness for each numeric independent variable\n",
        "print('Skewness:')\n",
        "# we drop the target variable using drop()\n",
        "# 'axis=1' drops the specified column\n",
        "# skew() returns the coefficient of skewness for each variable\n",
        "df_admissions.drop('Chance of Admit', axis = 1).skew()"
      ],
      "execution_count": 107,
      "outputs": [
        {
          "output_type": "display_data",
          "data": {
            "image/png": "[encoded data removed]",
            "text/plain": [
              "<Figure size 1080x576 with 6 Axes>"
            ]
          },
          "metadata": {
            "tags": [],
            "needs_background": "light"
          }
        },
        {
          "output_type": "stream",
          "text": [
            "\n",
            "Distribution of the variables\n",
            "Some observations from the histograms of all the variables:\n",
            "\n",
            "1. The GRE scores are concentrate around the 320 mark and the lowest is around 290.\n",
            "2. Most of the students have TOEFL scores in the 100-110 range.\n",
            "3. Most of the students have average to good SOPs and LORs.\n",
            "4. CGPA is concentrated on the higher side with the mean around 8.5.\n",
            " \n",
            "\n",
            "Skewness:\n"
          ],
          "name": "stdout"
        },
        {
          "output_type": "execute_result",
          "data": {
            "text/plain": [
              "GRE Score           -0.062893\n",
              "TOEFL Score          0.057216\n",
              "University Rating    0.171260\n",
              "SOP                 -0.275761\n",
              "LOR                 -0.106991\n",
              "CGPA                -0.065991\n",
              "Research            -0.191582\n",
              "dtype: float64"
            ]
          },
          "metadata": {
            "tags": []
          },
          "execution_count": 107
        }
      ]
    },
    {
      "cell_type": "markdown",
      "metadata": {
        "id": "HQsZMt5dW8dq"
      },
      "source": [
        "**Interpretation:** The above plot indicates that all the variables are near normally distributed."
      ]
    },
    {
      "cell_type": "code",
      "metadata": {
        "colab": {
          "base_uri": "https://localhost:8080/",
          "height": 504
        },
        "id": "GXydgSyojkXO",
        "outputId": "81756b81-b476-43bb-b009-877ce1c013bc"
      },
      "source": [
        "sns.heatmap(df_admissions.corr(),annot=True,cmap='cool')"
      ],
      "execution_count": 108,
      "outputs": [
        {
          "output_type": "execute_result",
          "data": {
            "text/plain": [
              "<matplotlib.axes._subplots.AxesSubplot at 0x7fae4d984f10>"
            ]
          },
          "metadata": {
            "tags": []
          },
          "execution_count": 108
        },
        {
          "output_type": "display_data",
          "data": {
            "image/png": "[encoded data removed]",
            "text/plain": [
              "<Figure size 1080x576 with 2 Axes>"
            ]
          },
          "metadata": {
            "tags": [],
            "needs_background": "light"
          }
        }
      ]
    },
    {
      "cell_type": "markdown",
      "metadata": {
        "id": "sweU-Gr7kf7M"
      },
      "source": [
        "\n",
        "Checking for correlation between variables\n",
        "Some quick observations from the correlation plot:\n",
        "\n",
        "*  There is no negative correlation between any of the variables\n",
        "*  GRE scores and TOEFL scores are highly correlated\n",
        "*  GRE score has just a weak correlation with LOR \n",
        "*   I was expecting a high correlation between LOR and CGPA - but not really the case\n",
        "*  More than GRE/ TOEFL, chances of admit is highly correlated with CGPA. Least correlated with Research experience"
      ]
    },
    {
      "cell_type": "code",
      "metadata": {
        "id": "M59O-0Qak-0g"
      },
      "source": [
        ""
      ],
      "execution_count": 108,
      "outputs": []
    },
    {
      "cell_type": "markdown",
      "metadata": {
        "id": "xKCI-DAqW8dr"
      },
      "source": [
        "**Distribution of categoric independent variable.**"
      ]
    },
    {
      "cell_type": "code",
      "metadata": {
        "colab": {
          "base_uri": "https://localhost:8080/",
          "height": 520
        },
        "id": "HEV8-ReyW8dr",
        "outputId": "d4f5988d-a459-4c49-c30d-53f248d3291a"
      },
      "source": [
        "# for the independent categoric variable, we plot the count plot to check the distribution of the variable 'Research'\n",
        "# use countplot() to plot the count of each label in the categorical variable \n",
        "sns.countplot(df_admissions.Research)\n",
        "\n",
        "# add plot and axes labels\n",
        "# set text size using 'fontsize'\n",
        "plt.title('Count Plot for Categorical Variable (Research)', fontsize = 15)\n",
        "plt.xlabel('Research', fontsize = 15)\n",
        "plt.ylabel('Count', fontsize = 15)\n",
        "\n",
        "# display the plot\n",
        "plt.show()"
      ],
      "execution_count": 109,
      "outputs": [
        {
          "output_type": "display_data",
          "data": {
            "image/png": "[encoded data removed]",
            "text/plain": [
              "<Figure size 1080x576 with 1 Axes>"
            ]
          },
          "metadata": {
            "tags": [],
            "needs_background": "light"
          }
        }
      ]
    },
    {
      "cell_type": "markdown",
      "metadata": {
        "id": "8_PBB8E9W8dr"
      },
      "source": [
        "#### Distribution of dependent variable."
      ]
    },
    {
      "cell_type": "code",
      "metadata": {
        "colab": {
          "base_uri": "https://localhost:8080/",
          "height": 520
        },
        "id": "0bZE773NW8dr",
        "outputId": "7ec65c31-2276-4a33-bcfc-6534b9d3d662"
      },
      "source": [
        "# consider only the target variable\n",
        "df_target = df_admissions['Chance of Admit'].copy()\n",
        "\n",
        "# get counts of 0's and 1's in the 'Chance of Admit' variable\n",
        "df_target.value_counts()\n",
        "\n",
        "# plot the countplot of the variable 'Chance of Admit'\n",
        "sns.countplot(x = df_target)\n",
        "\n",
        "# use below code to print the values in the graph\n",
        "# 'x' and 'y' gives position of the text\n",
        "# 's' is the text \n",
        "plt.text(x = -0.05, y = df_target.value_counts()[0] + 1, s = str(round((df_target.value_counts()[0])*100/len(df_target),2)) + '%')\n",
        "plt.text(x = 0.95, y = df_target.value_counts()[1] +1, s = str(round((df_target.value_counts()[1])*100/len(df_target),2)) + '%')\n",
        "\n",
        "# add plot and axes labels\n",
        "# set text size using 'fontsize'\n",
        "plt.title('Count Plot for Target Variable (Chance of Admit)', fontsize = 15)\n",
        "plt.xlabel('Target Variable', fontsize = 15)\n",
        "plt.ylabel('Count', fontsize = 15)\n",
        "\n",
        "# to show the plot\n",
        "plt.show()"
      ],
      "execution_count": 110,
      "outputs": [
        {
          "output_type": "display_data",
          "data": {
            "image/png": "[encoded data removed]",
            "text/plain": [
              "<Figure size 1080x576 with 1 Axes>"
            ]
          },
          "metadata": {
            "tags": [],
            "needs_background": "light"
          }
        }
      ]
    },
    {
      "cell_type": "markdown",
      "metadata": {
        "id": "7Zb27GFkW8ds"
      },
      "source": [
        "**Interpretation:** The above plot shows that there is no imbalance in the target variable."
      ]
    },
    {
      "cell_type": "markdown",
      "metadata": {
        "id": "fh3y7qHbW8ds"
      },
      "source": [
        "<a id=\"null\"></a>\n",
        "## 2.5 Missing Value Treatment"
      ]
    },
    {
      "cell_type": "markdown",
      "metadata": {
        "id": "dBd7BGHBW8ds"
      },
      "source": [
        "First, run a check for the presence of missing values and their percentage for each column. Then choose the right approach to treat them."
      ]
    },
    {
      "cell_type": "code",
      "metadata": {
        "colab": {
          "base_uri": "https://localhost:8080/",
          "height": 294
        },
        "id": "ehAJJNLZW8ds",
        "outputId": "e7c901aa-6a19-42e0-aea4-ba64a25b6b4f"
      },
      "source": [
        "# sort the variables on the basis of total null values in the variable\n",
        "# 'isnull().sum()' returns the number of missing values in each variable\n",
        "# 'ascending = False' sorts values in the descending order\n",
        "# the variable with highest number of missing values will appear first\n",
        "Total = df_admissions.isnull().sum().sort_values(ascending=False)          \n",
        "\n",
        "# calculate percentage of missing values\n",
        "# 'ascending = False' sorts values in the descending order\n",
        "# the variable with highest percentage of missing values will appear first\n",
        "Percent = (df_admissions.isnull().sum()*100/df_admissions.isnull().count()).sort_values(ascending=False)   \n",
        "\n",
        "# concat the 'Total' and 'Percent' columns using 'concat' function\n",
        "# pass a list of column names in parameter 'keys' \n",
        "# 'axis = 1' concats along the columns\n",
        "missing_data = pd.concat([Total, Percent], axis = 1, keys = ['Total', 'Percentage of Missing Values'])    \n",
        "missing_data"
      ],
      "execution_count": 111,
      "outputs": [
        {
          "output_type": "execute_result",
          "data": {
            "text/html": [
              "<div>\n",
              "<style scoped>\n",
              "    .dataframe tbody tr th:only-of-type {\n",
              "        vertical-align: middle;\n",
              "    }\n",
              "\n",
              "    .dataframe tbody tr th {\n",
              "        vertical-align: top;\n",
              "    }\n",
              "\n",
              "    .dataframe thead th {\n",
              "        text-align: right;\n",
              "    }\n",
              "</style>\n",
              "<table border=\"1\" class=\"dataframe\">\n",
              "  <thead>\n",
              "    <tr style=\"text-align: right;\">\n",
              "      <th></th>\n",
              "      <th>Total</th>\n",
              "      <th>Percentage of Missing Values</th>\n",
              "    </tr>\n",
              "  </thead>\n",
              "  <tbody>\n",
              "    <tr>\n",
              "      <th>Chance of Admit</th>\n",
              "      <td>0</td>\n",
              "      <td>0.000000</td>\n",
              "    </tr>\n",
              "    <tr>\n",
              "      <th>Research</th>\n",
              "      <td>0</td>\n",
              "      <td>0.000000</td>\n",
              "    </tr>\n",
              "    <tr>\n",
              "      <th>CGPA</th>\n",
              "      <td>0</td>\n",
              "      <td>0.000000</td>\n",
              "    </tr>\n",
              "    <tr>\n",
              "      <th>LOR</th>\n",
              "      <td>0</td>\n",
              "      <td>0.000000</td>\n",
              "    </tr>\n",
              "    <tr>\n",
              "      <th>SOP</th>\n",
              "      <td>0</td>\n",
              "      <td>0.000000</td>\n",
              "    </tr>\n",
              "    <tr>\n",
              "      <th>University Rating</th>\n",
              "      <td>0</td>\n",
              "      <td>0.000000</td>\n",
              "    </tr>\n",
              "    <tr>\n",
              "      <th>TOEFL Score</th>\n",
              "      <td>0</td>\n",
              "      <td>0.000000</td>\n",
              "    </tr>\n",
              "    <tr>\n",
              "      <th>GRE Score</th>\n",
              "      <td>0</td>\n",
              "      <td>0.000000</td>\n",
              "    </tr>\n",
              "  </tbody>\n",
              "</table>\n",
              "</div>"
            ],
            "text/plain": [
              "                   Total  Percentage of Missing Values\n",
              "Chance of Admit        0                      0.000000\n",
              "Research               0                      0.000000\n",
              "CGPA                   0                      0.000000\n",
              "LOR                    0                      0.000000\n",
              "SOP                    0                      0.000000\n",
              "University Rating      0                      0.000000\n",
              "TOEFL Score            0                      0.000000\n",
              "GRE Score              0                      0.000000"
            ]
          },
          "metadata": {
            "tags": []
          },
          "execution_count": 111
        }
      ]
    },
    {
      "cell_type": "markdown",
      "metadata": {
        "id": "I6XiucS9W8ds"
      },
      "source": [
        "**Interpretation:** The above output shows that there are no missing values in the data."
      ]
    },
    {
      "cell_type": "markdown",
      "metadata": {
        "id": "jNFexlPfW8dt"
      },
      "source": [
        "<a id=\"dummy\"></a>\n",
        "## 2.6 Dummy Encode the Categorical Variables"
      ]
    },
    {
      "cell_type": "markdown",
      "metadata": {
        "id": "3NJFjKWcW8dt"
      },
      "source": [
        "#### Split the dependent and independent variables."
      ]
    },
    {
      "cell_type": "code",
      "metadata": {
        "id": "dx-9-1QRW8dt"
      },
      "source": [
        "# store the target variable 'Chance of Admit' in a dataframe 'df_target'\n",
        "df_target = df_admissions['Chance of Admit']\n",
        "\n",
        "# store all the independent variables in a dataframe 'df_feature' \n",
        "# drop the column 'Chance of Admit' using drop()\n",
        "# 'axis = 1' drops the specified column\n",
        "df_feature = df_admissions.drop('Chance of Admit', axis = 1)"
      ],
      "execution_count": 112,
      "outputs": []
    },
    {
      "cell_type": "markdown",
      "metadata": {
        "id": "1TIVtiNTW8dt"
      },
      "source": [
        "#### Filter numerical and categorical variables."
      ]
    },
    {
      "cell_type": "code",
      "metadata": {
        "colab": {
          "base_uri": "https://localhost:8080/"
        },
        "id": "YOf0Rk20W8du",
        "outputId": "a9ee9aaf-f21f-419d-8d87-af2436b4b8fe"
      },
      "source": [
        "# filter the numerical features in the dataset\n",
        "# 'select_dtypes' is used to select the variables with given data type\n",
        "# 'include = [np.number]' will include all the numerical variables\n",
        "df_num = df_feature.select_dtypes(include = [np.number])\n",
        "\n",
        "# display numerical features\n",
        "df_num.columns"
      ],
      "execution_count": 113,
      "outputs": [
        {
          "output_type": "execute_result",
          "data": {
            "text/plain": [
              "Index(['GRE Score', 'TOEFL Score', 'University Rating', 'SOP', 'LOR', 'CGPA'], dtype='object')"
            ]
          },
          "metadata": {
            "tags": []
          },
          "execution_count": 113
        }
      ]
    },
    {
      "cell_type": "code",
      "metadata": {
        "colab": {
          "base_uri": "https://localhost:8080/"
        },
        "id": "35Aql8EMW8du",
        "outputId": "adc3f225-571e-484b-b30d-0ce93348a96c"
      },
      "source": [
        "# filter the categorical features in the dataset\n",
        "# 'select_dtypes' is used to select the variables with given data type\n",
        "# 'include = [np.object]' will include all the categorical variables\n",
        "df_cat = df_feature.select_dtypes(include = [np.object])\n",
        "\n",
        "# display categorical features\n",
        "df_cat.columns"
      ],
      "execution_count": 114,
      "outputs": [
        {
          "output_type": "execute_result",
          "data": {
            "text/plain": [
              "Index(['Research'], dtype='object')"
            ]
          },
          "metadata": {
            "tags": []
          },
          "execution_count": 114
        }
      ]
    },
    {
      "cell_type": "markdown",
      "metadata": {
        "id": "Dnzos3MCW8du"
      },
      "source": [
        "The regression method fails in presence of categorical variables. To overcome this we use (n-1) dummy encoding. \n",
        "\n",
        "**Encode the each categorical variable and create (n-1) dummy variables for n categories of the variable.**"
      ]
    },
    {
      "cell_type": "code",
      "metadata": {
        "id": "VNB-iFcUW8du"
      },
      "source": [
        "# use 'get_dummies' from pandas to create dummy variables\n",
        "# use 'drop_first' to create (n-1) dummy variables\n",
        "dummy_var = pd.get_dummies(data = df_cat, drop_first = True)"
      ],
      "execution_count": 115,
      "outputs": []
    },
    {
      "cell_type": "markdown",
      "metadata": {
        "id": "0L_KsHipW8dv"
      },
      "source": [
        "#### Concatenate numerical and dummy encoded categorical variables."
      ]
    },
    {
      "cell_type": "code",
      "metadata": {
        "scrolled": true,
        "colab": {
          "base_uri": "https://localhost:8080/",
          "height": 0
        },
        "id": "956xpvEDW8dv",
        "outputId": "8051364d-a3a9-475a-9139-4ec21f3f72f9"
      },
      "source": [
        "# concat the dummy variables with numeric features to create a dataframe of all independent variables\n",
        "# 'axis=1' concats the dataframes along columns \n",
        "X = pd.concat([df_num, dummy_var], axis = 1)\n",
        "\n",
        "# display first five observations\n",
        "X.head()"
      ],
      "execution_count": 116,
      "outputs": [
        {
          "output_type": "execute_result",
          "data": {
            "text/html": [
              "<div>\n",
              "<style scoped>\n",
              "    .dataframe tbody tr th:only-of-type {\n",
              "        vertical-align: middle;\n",
              "    }\n",
              "\n",
              "    .dataframe tbody tr th {\n",
              "        vertical-align: top;\n",
              "    }\n",
              "\n",
              "    .dataframe thead th {\n",
              "        text-align: right;\n",
              "    }\n",
              "</style>\n",
              "<table border=\"1\" class=\"dataframe\">\n",
              "  <thead>\n",
              "    <tr style=\"text-align: right;\">\n",
              "      <th></th>\n",
              "      <th>GRE Score</th>\n",
              "      <th>TOEFL Score</th>\n",
              "      <th>University Rating</th>\n",
              "      <th>SOP</th>\n",
              "      <th>LOR</th>\n",
              "      <th>CGPA</th>\n",
              "      <th>Research_1</th>\n",
              "    </tr>\n",
              "  </thead>\n",
              "  <tbody>\n",
              "    <tr>\n",
              "      <th>0</th>\n",
              "      <td>337</td>\n",
              "      <td>118</td>\n",
              "      <td>4</td>\n",
              "      <td>4.500000</td>\n",
              "      <td>4.500000</td>\n",
              "      <td>9.650000</td>\n",
              "      <td>1</td>\n",
              "    </tr>\n",
              "    <tr>\n",
              "      <th>1</th>\n",
              "      <td>324</td>\n",
              "      <td>107</td>\n",
              "      <td>4</td>\n",
              "      <td>4.000000</td>\n",
              "      <td>4.500000</td>\n",
              "      <td>8.870000</td>\n",
              "      <td>1</td>\n",
              "    </tr>\n",
              "    <tr>\n",
              "      <th>2</th>\n",
              "      <td>316</td>\n",
              "      <td>104</td>\n",
              "      <td>3</td>\n",
              "      <td>3.000000</td>\n",
              "      <td>3.500000</td>\n",
              "      <td>8.000000</td>\n",
              "      <td>1</td>\n",
              "    </tr>\n",
              "    <tr>\n",
              "      <th>3</th>\n",
              "      <td>322</td>\n",
              "      <td>110</td>\n",
              "      <td>3</td>\n",
              "      <td>3.500000</td>\n",
              "      <td>2.500000</td>\n",
              "      <td>8.670000</td>\n",
              "      <td>1</td>\n",
              "    </tr>\n",
              "    <tr>\n",
              "      <th>4</th>\n",
              "      <td>314</td>\n",
              "      <td>103</td>\n",
              "      <td>2</td>\n",
              "      <td>2.000000</td>\n",
              "      <td>3.000000</td>\n",
              "      <td>8.210000</td>\n",
              "      <td>0</td>\n",
              "    </tr>\n",
              "  </tbody>\n",
              "</table>\n",
              "</div>"
            ],
            "text/plain": [
              "   GRE Score  TOEFL Score  University Rating      SOP      LOR     CGPA  \\\n",
              "0        337          118                  4 4.500000 4.500000 9.650000   \n",
              "1        324          107                  4 4.000000 4.500000 8.870000   \n",
              "2        316          104                  3 3.000000 3.500000 8.000000   \n",
              "3        322          110                  3 3.500000 2.500000 8.670000   \n",
              "4        314          103                  2 2.000000 3.000000 8.210000   \n",
              "\n",
              "   Research_1  \n",
              "0           1  \n",
              "1           1  \n",
              "2           1  \n",
              "3           1  \n",
              "4           0  "
            ]
          },
          "metadata": {
            "tags": []
          },
          "execution_count": 116
        }
      ]
    },
    {
      "cell_type": "markdown",
      "metadata": {
        "id": "Ok2MSPkXW8dv"
      },
      "source": [
        "<a id=\"split\"></a>\n",
        "## 2.7 Train-Test Split"
      ]
    },
    {
      "cell_type": "markdown",
      "metadata": {
        "id": "QiRoVYW9W8dv"
      },
      "source": [
        "Before applying various classification techniques to predict the admission status of the student, let us split the dataset in train and test set."
      ]
    },
    {
      "cell_type": "code",
      "metadata": {
        "colab": {
          "base_uri": "https://localhost:8080/"
        },
        "id": "EoQoj_y5W8dv",
        "outputId": "01803de3-5279-41a6-80c6-7261afa01e00"
      },
      "source": [
        "# split data into train subset and test subset\n",
        "# set 'random_state' to generate the same dataset each time you run the code \n",
        "# 'test_size' returns the proportion of data to be included in the test set\n",
        "X_train, X_test, y_train, y_test = train_test_split(X, df_target, random_state = 10, test_size = 0.2)\n",
        "\n",
        "# check the dimensions of the train & test subset using 'shape'\n",
        "# print dimension of train set\n",
        "print('X_train', X_train.shape)\n",
        "print('y_train', y_train.shape)\n",
        "\n",
        "# print dimension of test set\n",
        "print('X_test', X_test.shape)\n",
        "print('y_test', y_test.shape)"
      ],
      "execution_count": 117,
      "outputs": [
        {
          "output_type": "stream",
          "text": [
            "X_train (320, 7)\n",
            "y_train (320,)\n",
            "X_test (80, 7)\n",
            "y_test (80,)\n"
          ],
          "name": "stdout"
        }
      ]
    },
    {
      "cell_type": "markdown",
      "metadata": {
        "id": "EQS_7AFzW8dw"
      },
      "source": [
        "#### Create a generalized function to calculate the metrics for the test set."
      ]
    },
    {
      "cell_type": "code",
      "metadata": {
        "id": "Ru1hAUNWW8dw"
      },
      "source": [
        "# create a generalized function to calculate the metrics values for test set\n",
        "def get_test_report(model):\n",
        "    \n",
        "    # for test set:\n",
        "    # test_pred: prediction made by the model on the test dataset 'X_test'\n",
        "    # y_test: actual values of the target variable for the test dataset\n",
        "\n",
        "    # predict the output of the target variable from the test data \n",
        "    test_pred = model.predict(X_test)\n",
        "\n",
        "    # return the classification report for test data\n",
        "    return(classification_report(y_test, test_pred))"
      ],
      "execution_count": 118,
      "outputs": []
    },
    {
      "cell_type": "markdown",
      "metadata": {
        "id": "Px8I4Ka-W8dw"
      },
      "source": [
        "#### Plot the confusion matrix."
      ]
    },
    {
      "cell_type": "code",
      "metadata": {
        "id": "Av39nL7SebpS"
      },
      "source": [
        "def plot_confusion_matrix(model):\n",
        "    y_pred = model.predict(X_test)\n",
        "    \n",
        "    # create a confusion matrix\n",
        "    # pass the actual and predicted target values to the confusion_matrix()\n",
        "    cm = confusion_matrix(y_test, y_pred)\n",
        "\n",
        "    # label the confusion matrix  \n",
        "    # pass the matrix as 'data'\n",
        "    # pass the required column names to the parameter, 'columns'\n",
        "    # pass the required row names to the parameter, 'index'\n",
        "    conf_matrix = pd.DataFrame(data = cm,columns = ['Predicted:0','Predicted:1'], index = ['Actual:0','Actual:1'])\n",
        "\n",
        "    # plot a heatmap to visualize the confusion matrix\n",
        "    # 'annot' prints the value of each grid \n",
        "    # 'fmt = d' returns the integer value in each grid\n",
        "    # 'cmap' assigns color to each grid\n",
        "    # as we do not require different colors for each grid in the heatmap,\n",
        "    # use 'ListedColormap' to assign the specified color to the grid\n",
        "    # 'cbar = False' will not return the color bar to the right side of the heatmap\n",
        "    # 'linewidths' assigns the width to the line that divides each grid\n",
        "    # 'annot_kws = {'size':25})' assigns the font size of the annotated text \n",
        "    sns.heatmap(conf_matrix, annot = True, fmt = 'd', cmap = ListedColormap(['lightskyblue']), cbar = False, \n",
        "                linewidths = 0.1, annot_kws = {'size':25})\n",
        "\n",
        "    # set the font size of x-axis ticks using 'fontsize'\n",
        "    plt.xticks(fontsize = 20)\n",
        "\n",
        "    # set the font size of y-axis ticks using 'fontsize'\n",
        "    plt.yticks(fontsize = 20)\n",
        "\n",
        "    # display the plot\n",
        "    plt.show()"
      ],
      "execution_count": 119,
      "outputs": []
    },
    {
      "cell_type": "markdown",
      "metadata": {
        "id": "pp1ahHsTW8dw"
      },
      "source": [
        "#### Plot the ROC curve.\n",
        "\n",
        "ROC curve is plotted with the true positive rate (tpr) on the y-axis and false positive rate (fpr) on the x-axis. The area under this curve is used as a measure of the separability of the model."
      ]
    },
    {
      "cell_type": "code",
      "metadata": {
        "id": "lSNleKXoW8dx"
      },
      "source": [
        "def plot_roc(model):\n",
        "    y_pred_prob = model.predict_proba(X_test)[:,1]\n",
        "    \n",
        "    # the roc_curve() returns the values for false positive rate, true positive rate and threshold\n",
        "    # pass the actual target values and predicted probabilities to the function\n",
        "    fpr, tpr, thresholds = roc_curve(y_test, y_pred_prob)\n",
        "\n",
        "    # plot the ROC curve\n",
        "    plt.plot(fpr, tpr)\n",
        "\n",
        "    # set limits for x and y axes\n",
        "    plt.xlim([0.0, 1.0])\n",
        "    plt.ylim([0.0, 1.0])\n",
        "\n",
        "    # plot the straight line showing worst prediction for the model\n",
        "    plt.plot([0, 1], [0, 1],'r--')\n",
        "\n",
        "    # add plot and axes labels\n",
        "    # set text size using 'fontsize'\n",
        "    plt.title('ROC curve for Admission Prediction Classifier', fontsize = 15)\n",
        "    plt.xlabel('False positive rate (1-Specificity)', fontsize = 15)\n",
        "    plt.ylabel('True positive rate (Sensitivity)', fontsize = 15)\n",
        "\n",
        "    # add the AUC score to the plot\n",
        "    # 'x' and 'y' gives position of the text\n",
        "    # 's' is the text \n",
        "    # use round() to round-off the AUC score upto 4 digits\n",
        "    plt.text(x = 0.82, y = 0.3, s = ('AUC Score:',round(roc_auc_score(y_test, y_pred_prob),4)))\n",
        "\n",
        "    # plot the grid\n",
        "    plt.grid(True)"
      ],
      "execution_count": 120,
      "outputs": []
    },
    {
      "cell_type": "markdown",
      "metadata": {
        "id": "5goiv3FlW8dx"
      },
      "source": [
        "<a id=\"boosting\"></a>\n",
        "# 3. Boosting Methods"
      ]
    },
    {
      "cell_type": "markdown",
      "metadata": {
        "id": "9fdZTSjmW8dx"
      },
      "source": [
        "The Ensemble technique considers multiple models for predicting the results. `Bagging` and `Boosting` are two of the types of ensembles. The bagging methods construct the multiple models in parallel; whereas, the boosting methods construct the models sequentially.\n",
        "\n",
        "Earlier, we have studied one of the bagging (bootstrap aggregating) technique i.e. `Random Forest`."
      ]
    },
    {
      "cell_type": "markdown",
      "metadata": {
        "id": "PFLuXjqpW8dx"
      },
      "source": [
        "The boosting method fits multiple weak classifiers to create a strong classifier. In this method, the model tries to correct the errors in the previous model. In this section, we learn some of the boosting methods such as `AdaBoost`, `Gradient Boosting` and `XGBoost`."
      ]
    },
    {
      "cell_type": "markdown",
      "metadata": {
        "id": "efEdOqcAW8dx"
      },
      "source": [
        "<a id=\"ada\"></a>\n",
        "## 3.1 AdaBoost"
      ]
    },
    {
      "cell_type": "markdown",
      "metadata": {
        "id": "5zGyWdZSW8dx"
      },
      "source": [
        "Let us build the AdaBoost classifier with decision trees. The model creates several stumps (decision tree with only a single decision node and two leaf nodes) on the train set and predicts the class based on these weak learners (stumps). For the first model, it assigns equal weights to each sample. It assigns the higher weight for the wrongly predicted samples and lower weight for the correctly predicted samples. This method continues till all the observations are correctly classified or the predefined number of stumps is created."
      ]
    },
    {
      "cell_type": "markdown",
      "metadata": {
        "id": "ZQN3sllnW8dy"
      },
      "source": [
        "#### Build an Adaboost model on a training dataset."
      ]
    },
    {
      "cell_type": "code",
      "metadata": {
        "scrolled": false,
        "colab": {
          "base_uri": "https://localhost:8080/"
        },
        "id": "3SUIVbhaW8dy",
        "outputId": "6eb1bef6-797d-40ec-a0c7-6e3d3d842c32"
      },
      "source": [
        "# instantiate the 'AdaBoostClassifier'\n",
        "# n_estimators: number of estimators at which boosting is terminated\n",
        "# pass the 'random_state' to obtain the same results for each code implementation\n",
        "ada_model = AdaBoostClassifier(n_estimators = 40, random_state = 10)\n",
        "\n",
        "# fit the model using fit() on train data\n",
        "ada_model.fit(X_train, y_train)"
      ],
      "execution_count": 121,
      "outputs": [
        {
          "output_type": "execute_result",
          "data": {
            "text/plain": [
              "AdaBoostClassifier(algorithm='SAMME.R', base_estimator=None, learning_rate=1.0,\n",
              "                   n_estimators=40, random_state=10)"
            ]
          },
          "metadata": {
            "tags": []
          },
          "execution_count": 121
        }
      ]
    },
    {
      "cell_type": "markdown",
      "metadata": {
        "id": "xGG3DiUwW8dy"
      },
      "source": [
        "Let us understand the parameters in the `AdaBoostClassifier()`:\n",
        "\n",
        "`algorithm=SAMME.R`: It is the default boosting algorithm. This algorithm uses predicted class probabilities to build the stumps.\n",
        "\n",
        "`base_estimator=None`: By default, the estimator is a decision tree with a maximum depth equal to 1 (stump).\n",
        "\n",
        "`learning_rate=1.0`: It considers the contribution of each estimator in the classifier.\n",
        "\n",
        "`n_estimators=40`: It is the number of estimators at which boosting is terminated.\n",
        "\n",
        "`random_state=10`: It returns the same set of samples for each code implementation."
      ]
    },
    {
      "cell_type": "markdown",
      "metadata": {
        "id": "KyE8Rok0W8dy"
      },
      "source": [
        "#### Plot the confusion matrix."
      ]
    },
    {
      "cell_type": "code",
      "metadata": {
        "colab": {
          "base_uri": "https://localhost:8080/",
          "height": 0
        },
        "id": "IcOp0oU0W8dy",
        "outputId": "8c2379af-e224-4bd1-d2b1-50fe703a61db"
      },
      "source": [
        "# call the function to plot the confusion matrix\n",
        "# pass the AdaBoost model to the function\n",
        "plot_confusion_matrix(ada_model)"
      ],
      "execution_count": 122,
      "outputs": [
        {
          "output_type": "display_data",
          "data": {
            "image/png": "[encoded data removed]",
            "text/plain": [
              "<Figure size 1080x576 with 1 Axes>"
            ]
          },
          "metadata": {
            "tags": [],
            "needs_background": "light"
          }
        }
      ]
    },
    {
      "cell_type": "markdown",
      "metadata": {
        "id": "tTtA-UEIW8dz"
      },
      "source": [
        "**Calculate performance measures on the test set.**"
      ]
    },
    {
      "cell_type": "code",
      "metadata": {
        "colab": {
          "base_uri": "https://localhost:8080/"
        },
        "id": "UP5DA9_qebpC",
        "scrolled": false,
        "outputId": "551c69d0-645c-40c1-f789-7407026266bd"
      },
      "source": [
        "# compute the performance measures on test data\n",
        "# call the function 'get_test_report'\n",
        "# pass the AdaBoost model to the function\n",
        "test_report = get_test_report(ada_model)\n",
        "\n",
        "# print the performance measures\n",
        "print(test_report)"
      ],
      "execution_count": 123,
      "outputs": [
        {
          "output_type": "stream",
          "text": [
            "              precision    recall  f1-score   support\n",
            "\n",
            "           0       0.85      0.79      0.81        42\n",
            "           1       0.78      0.84      0.81        38\n",
            "\n",
            "    accuracy                           0.81        80\n",
            "   macro avg       0.81      0.81      0.81        80\n",
            "weighted avg       0.81      0.81      0.81        80\n",
            "\n"
          ],
          "name": "stdout"
        }
      ]
    },
    {
      "cell_type": "markdown",
      "metadata": {
        "id": "9qtXJpocW8dz"
      },
      "source": [
        "**Interpretation:** The output shows that the model is 81% accurate."
      ]
    },
    {
      "cell_type": "markdown",
      "metadata": {
        "id": "43EGtODYW8dz"
      },
      "source": [
        "#### Plot the ROC curve."
      ]
    },
    {
      "cell_type": "code",
      "metadata": {
        "colab": {
          "base_uri": "https://localhost:8080/",
          "height": 0
        },
        "id": "dAg252tnW8dz",
        "outputId": "04e2ad49-347b-49ea-f77a-7f04b1277f78"
      },
      "source": [
        "# call the function to plot the ROC curve\n",
        "# pass the AdaBoost model to the function\n",
        "plot_roc(ada_model)"
      ],
      "execution_count": 124,
      "outputs": [
        {
          "output_type": "display_data",
          "data": {
            "image/png": "[encoded data removed]",
            "text/plain": [
              "<Figure size 1080x576 with 1 Axes>"
            ]
          },
          "metadata": {
            "tags": [],
            "needs_background": "light"
          }
        }
      ]
    },
    {
      "cell_type": "markdown",
      "metadata": {
        "id": "lsDKT2kUW8d0"
      },
      "source": [
        "**Interpretation:** The red dotted line represents the ROC curve of a purely random classifier; a good classifier stays as far away from that line as possible (toward the top-left corner).<br>\n",
        "From the above plot, we can see that the AdaBoost model is away from the dotted line; with the AUC score 0.9132."
      ]
    },
    {
      "cell_type": "markdown",
      "metadata": {
        "id": "WkcWTQpeW8d0"
      },
      "source": [
        "<a id=\"gradient\"></a>\n",
        "## 3.2 Gradient Boosting"
      ]
    },
    {
      "cell_type": "markdown",
      "metadata": {
        "id": "MCoWQCjrW8d0"
      },
      "source": [
        "This method optimizes the differentiable loss function by building the number of weak learners (decision trees) sequentially. It considers the residuals from the previous model and fits the next model to the residuals. The algorithm uses a gradient descent method to minimize the error."
      ]
    },
    {
      "cell_type": "markdown",
      "metadata": {
        "id": "Z0QN-X4gW8d0"
      },
      "source": [
        "#### Build a gradient boosting model on a training dataset."
      ]
    },
    {
      "cell_type": "code",
      "metadata": {
        "scrolled": true,
        "colab": {
          "base_uri": "https://localhost:8080/"
        },
        "id": "V5SXucPrW8d0",
        "outputId": "7ebbd0c3-64db-40c8-e746-76d454a30a68"
      },
      "source": [
        "# instantiate the 'GradientBoostingClassifier' \n",
        "# n_estimators: number of estimators to consider\n",
        "# 'max_depth': assigns maximum depth of the tree\n",
        "# pass the 'random_state' to obtain the same results for each code implementation\n",
        "gboost_model = GradientBoostingClassifier(n_estimators = 150, max_depth = 10, random_state = 10)\n",
        "\n",
        "# fit the model using fit() on train data\n",
        "gboost_model.fit(X_train, y_train)"
      ],
      "execution_count": 125,
      "outputs": [
        {
          "output_type": "execute_result",
          "data": {
            "text/plain": [
              "GradientBoostingClassifier(ccp_alpha=0.0, criterion='friedman_mse', init=None,\n",
              "                           learning_rate=0.1, loss='deviance', max_depth=10,\n",
              "                           max_features=None, max_leaf_nodes=None,\n",
              "                           min_impurity_decrease=0.0, min_impurity_split=None,\n",
              "                           min_samples_leaf=1, min_samples_split=2,\n",
              "                           min_weight_fraction_leaf=0.0, n_estimators=150,\n",
              "                           n_iter_no_change=None, presort='deprecated',\n",
              "                           random_state=10, subsample=1.0, tol=0.0001,\n",
              "                           validation_fraction=0.1, verbose=0,\n",
              "                           warm_start=False)"
            ]
          },
          "metadata": {
            "tags": []
          },
          "execution_count": 125
        }
      ]
    },
    {
      "cell_type": "markdown",
      "metadata": {
        "id": "tmxmh1JpW8d0"
      },
      "source": [
        "Let us understand the parameters in the `GradientBoostingClassifier()`:\n",
        "\n",
        "`ccp_alpha=0.0`: The complexity parameter used for pruning. By default, there is no pruning.\n",
        "\n",
        "`criterion=friedman_mse`: The criteria to measure the quality of a split.\n",
        "\n",
        "`init=None`: The estimator for initial predictions.\n",
        "\n",
        "`learning_rate=0.1`: It considers the contribution of each estimator in the classifier.\n",
        "\n",
        "`loss=deviance`: The loss function to be optimized.\n",
        "\n",
        "`max_depth=10`: Assigns the maximum depth of the tree.\n",
        "\n",
        "`max_features=None`: Maximum features to consider for the split.\n",
        "\n",
        "`max_leaf_nodes=None`: Maximum number of leaf/terminal nodes in the tree.\n",
        "\n",
        "`min_impurity_decrease=0.0`: A node splits if it decreases the impurity by the value given by this parameter. \n",
        "\n",
        "`min_impurity_split=None`: Minimum value of impurity for a node to split.\n",
        "\n",
        "`min_samples_leaf=1`: Minimum number of samples needed at the leaf/terminal node.\n",
        "\n",
        "`min_samples_split=2`: Minimum number of samples needed at the internal node to split. \n",
        "\n",
        "`min_weight_fraction_leaf=0.0`: Minimum weighted fraction needed at a leaf node.\n",
        "\n",
        "`n_estimators=150`: The number of estimators to consider.\n",
        "\n",
        "`n_iter_no_change=None`: Number of iterations after which the training should terminate if the score is not improving.\n",
        "\n",
        "`presort='deprecated'`: It considers whether to presort the data. (This parameter may not be available in the latest versions). \n",
        "\n",
        "`random_state=10`: It returns the same set of samples for each code implementation.\n",
        "\n",
        "`subsample=1.0`: Fraction of samples to use for fitting each estimator.\n",
        "\n",
        "`tol=0.0001`: Value of tolerance to terminate the training.\n",
        "\n",
        "`validation_fraction=0.1`: Fraction of training dataset used for validation.\n",
        "\n",
        "`verbose=0`: Enables verbose output (by default, no progress will be printed).\n",
        "\n",
        "`warm_start=False`: Whether to reuse the solution of previous code implementation (by default, it does not consider the previous solution)."
      ]
    },
    {
      "cell_type": "markdown",
      "metadata": {
        "id": "9xQjUbVIW8d1"
      },
      "source": [
        "#### Plot the confusion matrix."
      ]
    },
    {
      "cell_type": "code",
      "metadata": {
        "scrolled": false,
        "colab": {
          "base_uri": "https://localhost:8080/",
          "height": 0
        },
        "id": "beJfdn1zW8d1",
        "outputId": "b5567d21-ef6e-4c20-9bc2-9eca2ab57f4b"
      },
      "source": [
        "# call the function to plot the confusion matrix\n",
        "# pass the gradient boosting model to the function\n",
        "plot_confusion_matrix(gboost_model)"
      ],
      "execution_count": 126,
      "outputs": [
        {
          "output_type": "display_data",
          "data": {
            "image/png": "[encoded data removed]",
            "text/plain": [
              "<Figure size 1080x576 with 1 Axes>"
            ]
          },
          "metadata": {
            "tags": [],
            "needs_background": "light"
          }
        }
      ]
    },
    {
      "cell_type": "markdown",
      "metadata": {
        "id": "gpqv6gQzW8d4"
      },
      "source": [
        "**Calculate performance measures on the test set.**"
      ]
    },
    {
      "cell_type": "code",
      "metadata": {
        "colab": {
          "base_uri": "https://localhost:8080/"
        },
        "scrolled": false,
        "id": "mVQhhWJxW8d4",
        "outputId": "5face16a-9f48-47ab-afdc-45dea27115ab"
      },
      "source": [
        "# compute the performance measures on test data\n",
        "# call the function 'get_test_report'\n",
        "# pass the gradient boosting model to the function\n",
        "test_report = get_test_report(gboost_model)\n",
        "\n",
        "# print the performance measures\n",
        "print(test_report)"
      ],
      "execution_count": 127,
      "outputs": [
        {
          "output_type": "stream",
          "text": [
            "              precision    recall  f1-score   support\n",
            "\n",
            "           0       0.80      0.79      0.80        42\n",
            "           1       0.77      0.79      0.78        38\n",
            "\n",
            "    accuracy                           0.79        80\n",
            "   macro avg       0.79      0.79      0.79        80\n",
            "weighted avg       0.79      0.79      0.79        80\n",
            "\n"
          ],
          "name": "stdout"
        }
      ]
    },
    {
      "cell_type": "markdown",
      "metadata": {
        "id": "UCTHVQXJW8d4"
      },
      "source": [
        "**Interpretation:** The classification report shows that the model is 79% accurate. Also, the sensitivity and specificity are equal."
      ]
    },
    {
      "cell_type": "markdown",
      "metadata": {
        "id": "Fx35pM7aW8d4"
      },
      "source": [
        "#### Plot the ROC curve."
      ]
    },
    {
      "cell_type": "code",
      "metadata": {
        "colab": {
          "base_uri": "https://localhost:8080/",
          "height": 0
        },
        "id": "64s6lwitW8d4",
        "outputId": "59c06fb5-b499-4f38-9f4c-74410ba78bbc"
      },
      "source": [
        "# call the function to plot the ROC curve\n",
        "# pass the gradient boosting model to the function\n",
        "plot_roc(gboost_model)"
      ],
      "execution_count": 128,
      "outputs": [
        {
          "output_type": "display_data",
          "data": {
            "image/png": "[encoded data removed]",
            "text/plain": [
              "<Figure size 1080x576 with 1 Axes>"
            ]
          },
          "metadata": {
            "tags": [],
            "needs_background": "light"
          }
        }
      ]
    },
    {
      "cell_type": "markdown",
      "metadata": {
        "id": "tkKzMZmSW8d5"
      },
      "source": [
        "**Interpretation:** The red dotted line represents the ROC curve of a purely random classifier; a good classifier stays as far away from that line as possible (toward the top-left corner).<br>\n",
        "From the above plot, we can see that the gradient boosting model is away from the dotted line; with the AUC score 0.8954."
      ]
    },
    {
      "cell_type": "markdown",
      "metadata": {
        "id": "1eHLNi08W8d5"
      },
      "source": [
        "<a id=\"xgboost\"></a>\n",
        "## 3.3 XGBoost "
      ]
    },
    {
      "cell_type": "markdown",
      "metadata": {
        "id": "dAB5PoEzW8d5"
      },
      "source": [
        "XGBoost (extreme gradient boost) is an alternative form of gradient boosting method. This method generally considers the initial prediction as 0.5 and build the decision tree to predict the residuals. It considers the regularization parameter to avoid overfitting."
      ]
    },
    {
      "cell_type": "markdown",
      "metadata": {
        "id": "isF7-rOJW8d5"
      },
      "source": [
        "#### Build an XGBoost model on a training dataset."
      ]
    },
    {
      "cell_type": "code",
      "metadata": {
        "colab": {
          "base_uri": "https://localhost:8080/"
        },
        "id": "Mwf3GfsMW8d5",
        "outputId": "1a972d00-b764-4705-9b25-6f9b876f3956"
      },
      "source": [
        "# instantiate the 'XGBClassifier'\n",
        "# set the maximum depth of the tree using the parameter, 'max_depth'\n",
        "# pass the value of minimum loss reduction required for partition of the leaf node to the parameter, 'gamma'\n",
        "xgb_model = XGBClassifier(max_depth = 10, gamma = 1)\n",
        "\n",
        "# fit the model using fit() on train data\n",
        "xgb_model.fit(X_train, y_train)"
      ],
      "execution_count": 129,
      "outputs": [
        {
          "output_type": "execute_result",
          "data": {
            "text/plain": [
              "XGBClassifier(base_score=0.5, booster='gbtree', colsample_bylevel=1,\n",
              "              colsample_bynode=1, colsample_bytree=1, gamma=1,\n",
              "              learning_rate=0.1, max_delta_step=0, max_depth=10,\n",
              "              min_child_weight=1, missing=None, n_estimators=100, n_jobs=1,\n",
              "              nthread=None, objective='binary:logistic', random_state=0,\n",
              "              reg_alpha=0, reg_lambda=1, scale_pos_weight=1, seed=None,\n",
              "              silent=None, subsample=1, verbosity=1)"
            ]
          },
          "metadata": {
            "tags": []
          },
          "execution_count": 129
        }
      ]
    },
    {
      "cell_type": "markdown",
      "metadata": {
        "id": "fRGhwOEnW8d6"
      },
      "source": [
        "Let us understand the parameters in the `XGBClassifier()`:\n",
        "\n",
        "`base_score=0.5`: Initial prediction for base learners.\n",
        "\n",
        "`booster=gbtree`: Considers the regression tree as the base learners.\n",
        "\n",
        "`colsample_bylevel=1`: Fraction of variables to consider for each level.\n",
        "\n",
        "`colsample_bynode=1`: Fraction of variables to consider for each split.\n",
        "\n",
        "`colsample_bytree=1`: Fraction of variables to consider for each tree.\n",
        "\n",
        "`gamma=1`: Value of minimum loss reduction required for the partition of the leaf node.\n",
        "\n",
        "`gpu_id=-1`: It considers all the GPU's. \n",
        "\n",
        "`importance_type=gain`: Importance type for calculating feature importance.\n",
        "\n",
        "`interaction_constraints=''`: By default, no interaction between the features is allowed.\n",
        "\n",
        "`learning_rate=0.300000012`: It considers the contribution of each estimator in the classifier.\n",
        "\n",
        "`max_delta_step=0`: Maximum delta step allowed for each tree's weight estimation to be.\n",
        "\n",
        "`max_depth=10`: Maximum depth of each tree.\n",
        "\n",
        "`min_child_weight=1`: Minimum sum of hessian (p*(1-p)) required in a leaf node.\n",
        "\n",
        "`missing=nan`: Value to consider as a missing value.\n",
        "\n",
        "`monotone_constraints='()'`:  Constraint of variable monotonicity. (adding increasing/decreasing constraint on the variables )\n",
        "\n",
        "`n_estimators=100`: The number of estimators to consider.\n",
        "\n",
        "`n_jobs=0`: Number of parallel threads to run the classifier.\n",
        "\n",
        "`num_parallel_tree=1`: It is used for boosting random forest.\n",
        "\n",
        "`objective='binary:logistic'`: Considers the binary logistic regression as a learning objective.\n",
        "\n",
        "`random_state=0`: It returns the same set of samples for each code implementation.\n",
        "\n",
        "`reg_alpha=0`: Lasso regularization term for weights.\n",
        "\n",
        "`reg_lambda=1`: Ridge regularization term for weights.\n",
        "\n",
        "`scale_pos_weight=1`:  Ratio of the number of negative class to the positive class.\n",
        "\n",
        "`subsample=1`: Fraction of total training data points.\n",
        "\n",
        "`tree_method='exact'`: Considers the exact greedy algorithm.\n",
        "\n",
        "`validate_parameters=1`: Performs validation on input paramerters.\n",
        "\n",
        "`verbosity=None`: Enables verbose output (by default, no progress will be printed)."
      ]
    },
    {
      "cell_type": "markdown",
      "metadata": {
        "id": "q9FQoUHrW8d6"
      },
      "source": [
        "#### Plot the confusion matrix."
      ]
    },
    {
      "cell_type": "code",
      "metadata": {
        "colab": {
          "base_uri": "https://localhost:8080/",
          "height": 0
        },
        "id": "ZqvLUgltW8d6",
        "outputId": "71dce6c9-73e0-4fce-b364-1a0aef64a393"
      },
      "source": [
        "# call the function to plot the confusion matrix\n",
        "# pass the XGBoost model to the function\n",
        "plot_confusion_matrix(xgb_model)"
      ],
      "execution_count": 130,
      "outputs": [
        {
          "output_type": "display_data",
          "data": {
            "image/png": "[encoded data removed]",
            "text/plain": [
              "<Figure size 1080x576 with 1 Axes>"
            ]
          },
          "metadata": {
            "tags": [],
            "needs_background": "light"
          }
        }
      ]
    },
    {
      "cell_type": "markdown",
      "metadata": {
        "id": "DhLFpFRlW8d6"
      },
      "source": [
        "**Calculate performance measures on the test set.**"
      ]
    },
    {
      "cell_type": "code",
      "metadata": {
        "colab": {
          "base_uri": "https://localhost:8080/"
        },
        "scrolled": false,
        "id": "7x1GVZ_VW8d6",
        "outputId": "b2ddc50a-f764-42a4-800a-c91356284830"
      },
      "source": [
        "# compute the performance measures on test data\n",
        "# call the function 'get_test_report'\n",
        "# pass the XGBoost model to the function\n",
        "test_report = get_test_report(xgb_model)\n",
        "\n",
        "# print the performance measures\n",
        "print(test_report)"
      ],
      "execution_count": 131,
      "outputs": [
        {
          "output_type": "stream",
          "text": [
            "              precision    recall  f1-score   support\n",
            "\n",
            "           0       0.85      0.81      0.83        42\n",
            "           1       0.80      0.84      0.82        38\n",
            "\n",
            "    accuracy                           0.82        80\n",
            "   macro avg       0.82      0.83      0.82        80\n",
            "weighted avg       0.83      0.82      0.83        80\n",
            "\n"
          ],
          "name": "stdout"
        }
      ]
    },
    {
      "cell_type": "markdown",
      "metadata": {
        "id": "Ajj89oiwW8d7"
      },
      "source": [
        "**Interpretation:** The above output shows that the f1-score and accuracy of the model is 0.84"
      ]
    },
    {
      "cell_type": "markdown",
      "metadata": {
        "id": "8SiBNWRkW8d7"
      },
      "source": [
        "#### Plot the ROC curve."
      ]
    },
    {
      "cell_type": "code",
      "metadata": {
        "scrolled": false,
        "colab": {
          "base_uri": "https://localhost:8080/",
          "height": 0
        },
        "id": "2mdNZTvyW8d7",
        "outputId": "b78d34ed-69f3-40ff-f78d-434ba9269ac8"
      },
      "source": [
        "# call the function to plot the ROC curve\n",
        "# pass the XGBoost model to the function\n",
        "plot_roc(xgb_model)"
      ],
      "execution_count": 132,
      "outputs": [
        {
          "output_type": "display_data",
          "data": {
            "image/png": "[encoded data removed]",
            "text/plain": [
              "<Figure size 1080x576 with 1 Axes>"
            ]
          },
          "metadata": {
            "tags": [],
            "needs_background": "light"
          }
        }
      ]
    },
    {
      "cell_type": "markdown",
      "metadata": {
        "id": "opCdzCEbW8d7"
      },
      "source": [
        "**Interpretation:** The red dotted line represents the ROC curve of a purely random classifier; a good classifier stays as far away from that line as possible (toward the top-left corner).<br>\n",
        "From the above plot, we can see that the XGBoost model is away from the dotted line; with the AUC score 0.8888."
      ]
    },
    {
      "cell_type": "markdown",
      "metadata": {
        "id": "eEYT7Jp_W8d7"
      },
      "source": [
        "<a id=\"tune\"></a>\n",
        "### 3.3.1 Tune the Hyperparameters (GridSearchCV)"
      ]
    },
    {
      "cell_type": "markdown",
      "metadata": {
        "id": "lvOvI6JnW8d8"
      },
      "source": [
        "Let us tune the hyperparameters to obtain the optimal values for the XGBoost model."
      ]
    },
    {
      "cell_type": "code",
      "metadata": {
        "colab": {
          "base_uri": "https://localhost:8080/"
        },
        "id": "nGGsT6QYW8d8",
        "outputId": "94f06001-1ee4-4fd9-cbb1-c39003abd840"
      },
      "source": [
        "# create a dictionary with hyperparameters and its values\n",
        "# learning_rate: pass the list of boosting learning rates\n",
        "# max_depth: pass the range of values as the maximum tree depth for base learners\n",
        "# gamma: pass the list of minimum loss reduction values required to make a further partition on a leaf node of the tree\n",
        "tuning_parameters = {'learning_rate': [0.1, 0.2, 0.3, 0.4, 0.5, 0.6],\n",
        "                     'max_depth': range(3,10),\n",
        "                     'gamma': [0, 1, 2, 3, 4]}\n",
        "\n",
        "# instantiate the 'XGBClassifier' \n",
        "xgb_model = XGBClassifier()\n",
        "\n",
        "# use GridSearchCV() to find the optimal value of the hyperparameters\n",
        "# estimator: pass the XGBoost classifier model\n",
        "# param_grid: pass the list 'tuned_parameters'\n",
        "# cv: number of folds in k-fold i.e. here cv = 3\n",
        "# scoring: pass a measure to evaluate the model on test set\n",
        "xgb_grid = GridSearchCV(estimator = xgb_model, param_grid = tuning_parameters, cv = 3, scoring = 'roc_auc')\n",
        "\n",
        "# fit the model on X_train and y_train using fit()\n",
        "xgb_grid.fit(X_train, y_train)\n",
        "\n",
        "# get the best parameters\n",
        "print('Best parameters for XGBoost classifier: ', xgb_grid.best_params_, '\\n')"
      ],
      "execution_count": 87,
      "outputs": [
        {
          "output_type": "stream",
          "text": [
            "Best parameters for XGBoost classifier:  {'gamma': 4, 'learning_rate': 0.3, 'max_depth': 4} \n",
            "\n"
          ],
          "name": "stdout"
        }
      ]
    },
    {
      "cell_type": "markdown",
      "metadata": {
        "id": "m-r0uHAaW8d8"
      },
      "source": [
        "#### Build the model using the tuned hyperparameters."
      ]
    },
    {
      "cell_type": "code",
      "metadata": {
        "colab": {
          "base_uri": "https://localhost:8080/"
        },
        "id": "dGBa1iJMW8d8",
        "outputId": "53d5152f-ad4e-4434-e92f-eca83840d12f"
      },
      "source": [
        "# instantiate the 'XGBClassifier'\n",
        "# 'best_params_' returns the dictionary containing best parameter values and parameter name  \n",
        "# 'get()' returns the value of specified parameter\n",
        "xgb_grid_model = XGBClassifier(learning_rate = xgb_grid.best_params_.get('learning_rate'),\n",
        "                               max_depth = xgb_grid.best_params_.get('max_depth'),\n",
        "                              gamma = xgb_grid.best_params_.get('gamma'))\n",
        "\n",
        "# use fit() to fit the model on the train set\n",
        "xgb_model = xgb_grid_model.fit(X_train, y_train)\n",
        "\n",
        "# print the performance measures for test set for the model with best parameters\n",
        "print('Classification Report for test set:\\n', get_test_report(xgb_model))"
      ],
      "execution_count": 88,
      "outputs": [
        {
          "output_type": "stream",
          "text": [
            "Classification Report for test set:\n",
            "               precision    recall  f1-score   support\n",
            "\n",
            "           0       0.87      0.81      0.84        42\n",
            "           1       0.80      0.87      0.84        38\n",
            "\n",
            "    accuracy                           0.84        80\n",
            "   macro avg       0.84      0.84      0.84        80\n",
            "weighted avg       0.84      0.84      0.84        80\n",
            "\n"
          ],
          "name": "stdout"
        }
      ]
    },
    {
      "cell_type": "markdown",
      "metadata": {
        "id": "GlmASFuCW8d8"
      },
      "source": [
        "**Interpretation:** The above output shows that the f1-score and accuracy of the model is 0.84."
      ]
    },
    {
      "cell_type": "markdown",
      "metadata": {
        "id": "XN-K8aVtW8d9"
      },
      "source": [
        "#### Plot the ROC curve."
      ]
    },
    {
      "cell_type": "code",
      "metadata": {
        "scrolled": false,
        "colab": {
          "base_uri": "https://localhost:8080/",
          "height": 0
        },
        "id": "vWCjMBB_W8d9",
        "outputId": "fcebe79d-b80d-4895-fc03-2a5fa933242c"
      },
      "source": [
        "# call the function to plot the ROC curve\n",
        "# pass the XGBoost model to the function\n",
        "plot_roc(xgb_model)"
      ],
      "execution_count": 89,
      "outputs": [
        {
          "output_type": "display_data",
          "data": {
            "image/png": "[encoded data removed]",
            "text/plain": [
              "<Figure size 1080x576 with 1 Axes>"
            ]
          },
          "metadata": {
            "tags": [],
            "needs_background": "light"
          }
        }
      ]
    },
    {
      "cell_type": "markdown",
      "metadata": {
        "id": "hMtsHblzW8d9"
      },
      "source": [
        "**Interpretation:** The red dotted line represents the ROC curve of a purely random classifier; a good classifier stays as far away from that line as possible (toward the top-left corner).<br>\n",
        "From the above plot, we can see that the XGBoost model (GridSearchCV) is away from the dotted line; with the AUC score 0.9145."
      ]
    },
    {
      "cell_type": "markdown",
      "metadata": {
        "id": "M8YkeeKNW8d9"
      },
      "source": [
        "### Identify the Important Features using XGBoost"
      ]
    },
    {
      "cell_type": "markdown",
      "metadata": {
        "id": "_SB0eexuW8d9"
      },
      "source": [
        "Let us create a barplot to identify the important feature in the dataset.\n",
        "\n",
        "The method `feature_importances_` returns the value corresponding to each feature which is defined as the ratio of the average gain across all the splits in which the feature is used to the total average gain of all the features.\n",
        "\n",
        "There are different methods like `weight`, `cover`, `total_gain` and `total_cover` which returns the feature importance based on different criteria.\n",
        "\n",
        "`weight`: It is the frequency of a feature used to split the data in all the trees.\n",
        "\n",
        "`cover`: It is the average cover value of a feature for all the splits.\n",
        "\n",
        "`total_gain`: It is the sum of gain of a feature for all the splits.\n",
        "\n",
        "`total_cover`: It is the sum of a cover of a feature for all the splits."
      ]
    },
    {
      "cell_type": "code",
      "metadata": {
        "scrolled": false,
        "colab": {
          "base_uri": "https://localhost:8080/",
          "height": 0
        },
        "id": "SHafNTuoW8d-",
        "outputId": "7018ec00-d3dd-4457-9c3b-0bd4231c09cf"
      },
      "source": [
        "# create a dataframe that stores the feature names and their importance\n",
        "# 'feature_importances_' returns the features based on the average gain \n",
        "important_features = pd.DataFrame({'Features': X_train.columns, \n",
        "                                   'Importance': xgb_model.feature_importances_})\n",
        "\n",
        "# sort the dataframe in the descending order according to the feature importance\n",
        "important_features = important_features.sort_values('Importance', ascending = False)\n",
        "\n",
        "# create a barplot to visualize the features based on their importance\n",
        "sns.barplot(x = 'Importance', y = 'Features', data = important_features)\n",
        "\n",
        "# add plot and axes labels\n",
        "# set text size using 'fontsize'\n",
        "plt.title('Feature Importance', fontsize = 15)\n",
        "plt.xlabel('Importance', fontsize = 15)\n",
        "plt.ylabel('Features', fontsize = 15)\n",
        "\n",
        "# display the plot\n",
        "plt.show()"
      ],
      "execution_count": 90,
      "outputs": [
        {
          "output_type": "display_data",
          "data": {
            "image/png": "[encoded data removed]",
            "text/plain": [
              "<Figure size 1080x576 with 1 Axes>"
            ]
          },
          "metadata": {
            "tags": [],
            "needs_background": "light"
          }
        }
      ]
    },
    {
      "cell_type": "markdown",
      "metadata": {
        "id": "O4lAWX0HW8d-"
      },
      "source": [
        "**Interpretation:** The above bar plot shows that, the variable `CGPA` is of highest importance. "
      ]
    },
    {
      "cell_type": "markdown",
      "metadata": {
        "id": "gsMpclujW8d-"
      },
      "source": [
        "<a id=\"stack\"></a>\n",
        "# 4. Stack Generalization  "
      ]
    },
    {
      "cell_type": "markdown",
      "metadata": {
        "id": "0GENlTHhW8d-"
      },
      "source": [
        "Stacking is a machine learning technique that takes several classification or regression models and uses their predictions as the input for the meta-classifier (final classifier) or meta-regressor (final regressor).\n",
        "\n",
        "As we are using the distance-based algorithm like KNN, we scale the data before applying the stacking technique."
      ]
    },
    {
      "cell_type": "code",
      "metadata": {
        "id": "GAzybuHnW8d-"
      },
      "source": [
        "# initialize the standard scalar\n",
        "X_scaler = StandardScaler()\n",
        "\n",
        "# scale all the numerical columns\n",
        "# standardize all the columns of the dataframe 'df_num'\n",
        "num_scaled = X_scaler.fit_transform(df_num)\n",
        "\n",
        "# create a dataframe of scaled numerical variables\n",
        "# pass the required column names to the parameter 'columns'\n",
        "df_num_scaled = pd.DataFrame(num_scaled, columns = df_num.columns)"
      ],
      "execution_count": 91,
      "outputs": []
    },
    {
      "cell_type": "markdown",
      "metadata": {
        "id": "5zdxCIFuW8d_"
      },
      "source": [
        "Concatenate scaled numerical and dummy encoded categorical variables."
      ]
    },
    {
      "cell_type": "code",
      "metadata": {
        "scrolled": true,
        "colab": {
          "base_uri": "https://localhost:8080/",
          "height": 202
        },
        "id": "fVSXgl1VW8d_",
        "outputId": "3fa421df-8796-4332-e5d3-59e854debff4"
      },
      "source": [
        "# concat the dummy variables with scaled numeric features to create a dataframe of all independent variables\n",
        "# 'axis=1' concats the dataframes along columns \n",
        "X = pd.concat([df_num_scaled, dummy_var], axis = 1)\n",
        "\n",
        "# display first five observations\n",
        "X.head()"
      ],
      "execution_count": 92,
      "outputs": [
        {
          "output_type": "execute_result",
          "data": {
            "text/html": [
              "<div>\n",
              "<style scoped>\n",
              "    .dataframe tbody tr th:only-of-type {\n",
              "        vertical-align: middle;\n",
              "    }\n",
              "\n",
              "    .dataframe tbody tr th {\n",
              "        vertical-align: top;\n",
              "    }\n",
              "\n",
              "    .dataframe thead th {\n",
              "        text-align: right;\n",
              "    }\n",
              "</style>\n",
              "<table border=\"1\" class=\"dataframe\">\n",
              "  <thead>\n",
              "    <tr style=\"text-align: right;\">\n",
              "      <th></th>\n",
              "      <th>GRE Score</th>\n",
              "      <th>TOEFL Score</th>\n",
              "      <th>University Rating</th>\n",
              "      <th>SOP</th>\n",
              "      <th>LOR</th>\n",
              "      <th>CGPA</th>\n",
              "      <th>Research_1</th>\n",
              "    </tr>\n",
              "  </thead>\n",
              "  <tbody>\n",
              "    <tr>\n",
              "      <th>0</th>\n",
              "      <td>1.762107</td>\n",
              "      <td>1.746971</td>\n",
              "      <td>0.798829</td>\n",
              "      <td>1.093864</td>\n",
              "      <td>1.167321</td>\n",
              "      <td>1.764818</td>\n",
              "      <td>1</td>\n",
              "    </tr>\n",
              "    <tr>\n",
              "      <th>1</th>\n",
              "      <td>0.627656</td>\n",
              "      <td>-0.067635</td>\n",
              "      <td>0.798829</td>\n",
              "      <td>0.596653</td>\n",
              "      <td>1.167321</td>\n",
              "      <td>0.455151</td>\n",
              "      <td>1</td>\n",
              "    </tr>\n",
              "    <tr>\n",
              "      <th>2</th>\n",
              "      <td>-0.070467</td>\n",
              "      <td>-0.562528</td>\n",
              "      <td>-0.076600</td>\n",
              "      <td>-0.397769</td>\n",
              "      <td>0.052933</td>\n",
              "      <td>-1.005631</td>\n",
              "      <td>1</td>\n",
              "    </tr>\n",
              "    <tr>\n",
              "      <th>3</th>\n",
              "      <td>0.453126</td>\n",
              "      <td>0.427257</td>\n",
              "      <td>-0.076600</td>\n",
              "      <td>0.099442</td>\n",
              "      <td>-1.061454</td>\n",
              "      <td>0.119339</td>\n",
              "      <td>1</td>\n",
              "    </tr>\n",
              "    <tr>\n",
              "      <th>4</th>\n",
              "      <td>-0.244998</td>\n",
              "      <td>-0.727492</td>\n",
              "      <td>-0.952029</td>\n",
              "      <td>-1.392191</td>\n",
              "      <td>-0.504260</td>\n",
              "      <td>-0.653029</td>\n",
              "      <td>0</td>\n",
              "    </tr>\n",
              "  </tbody>\n",
              "</table>\n",
              "</div>"
            ],
            "text/plain": [
              "   GRE Score  TOEFL Score  University Rating       SOP       LOR      CGPA  \\\n",
              "0   1.762107     1.746971           0.798829  1.093864  1.167321  1.764818   \n",
              "1   0.627656    -0.067635           0.798829  0.596653  1.167321  0.455151   \n",
              "2  -0.070467    -0.562528          -0.076600 -0.397769  0.052933 -1.005631   \n",
              "3   0.453126     0.427257          -0.076600  0.099442 -1.061454  0.119339   \n",
              "4  -0.244998    -0.727492          -0.952029 -1.392191 -0.504260 -0.653029   \n",
              "\n",
              "   Research_1  \n",
              "0           1  \n",
              "1           1  \n",
              "2           1  \n",
              "3           1  \n",
              "4           0  "
            ]
          },
          "metadata": {
            "tags": []
          },
          "execution_count": 92
        }
      ]
    },
    {
      "cell_type": "markdown",
      "metadata": {
        "id": "cZD2epMxW8d_"
      },
      "source": [
        "Let us split the dataset in train and test set."
      ]
    },
    {
      "cell_type": "code",
      "metadata": {
        "colab": {
          "base_uri": "https://localhost:8080/"
        },
        "id": "qRGiGhF9W8d_",
        "outputId": "4477997f-e0d7-4162-b6ba-a4ad11854ba0"
      },
      "source": [
        "# split data into train subset and test subset\n",
        "# set 'random_state' to generate the same dataset each time you run the code \n",
        "# 'test_size' returns the proportion of data to be included in the test set\n",
        "X_train, X_test, y_train, y_test = train_test_split(X, df_target, random_state = 10, test_size = 0.2)\n",
        "\n",
        "# check the dimensions of the train & test subset using 'shape'\n",
        "# print dimension of train set\n",
        "print('X_train', X_train.shape)\n",
        "print('y_train', y_train.shape)\n",
        "\n",
        "# print dimension of test set\n",
        "print('X_test', X_test.shape)\n",
        "print('y_test', y_test.shape)"
      ],
      "execution_count": 93,
      "outputs": [
        {
          "output_type": "stream",
          "text": [
            "X_train (320, 7)\n",
            "y_train (320,)\n",
            "X_test (80, 7)\n",
            "y_test (80,)\n"
          ],
          "name": "stdout"
        }
      ]
    },
    {
      "cell_type": "markdown",
      "metadata": {
        "id": "INipFi0YW8d_"
      },
      "source": [
        "#### Build the stacking classifier using the Random forest, KNN and Naive bayes as base learners (consider the hyperparameters tuned using GridSearchCV in the previous sessions)."
      ]
    },
    {
      "cell_type": "code",
      "metadata": {
        "colab": {
          "base_uri": "https://localhost:8080/"
        },
        "id": "fHs6AwV8W8eA",
        "outputId": "f78e232c-ac5d-49e3-8c0e-baac5e2cd90f"
      },
      "source": [
        "# consider the various algorithms as base learners\n",
        "base_learners = [('rf_model', RandomForestClassifier(criterion = 'entropy', max_depth = 10, max_features = 'sqrt', \n",
        "                                                     max_leaf_nodes = 8, min_samples_leaf = 5, min_samples_split = 2, \n",
        "                                                     n_estimators = 50, random_state = 10)),\n",
        "                 ('KNN_model', KNeighborsClassifier(n_neighbors = 17, metric = 'euclidean')),\n",
        "                 ('NB_model', GaussianNB())]\n",
        "\n",
        "# initialize stacking classifier \n",
        "# pass the base learners to the parameter, 'estimators'\n",
        "# pass the Naive Bayes model as the 'final_estimator'/ meta model\n",
        "stack_model = StackingClassifier(estimators = base_learners, final_estimator = GaussianNB())\n",
        "\n",
        "# fit the model on train dataset\n",
        "stack_model.fit(X_train, y_train)"
      ],
      "execution_count": 94,
      "outputs": [
        {
          "output_type": "execute_result",
          "data": {
            "text/plain": [
              "StackingClassifier(cv=None,\n",
              "                   estimators=[('rf_model',\n",
              "                                RandomForestClassifier(bootstrap=True,\n",
              "                                                       ccp_alpha=0.0,\n",
              "                                                       class_weight=None,\n",
              "                                                       criterion='entropy',\n",
              "                                                       max_depth=10,\n",
              "                                                       max_features='sqrt',\n",
              "                                                       max_leaf_nodes=8,\n",
              "                                                       max_samples=None,\n",
              "                                                       min_impurity_decrease=0.0,\n",
              "                                                       min_impurity_split=None,\n",
              "                                                       min_samples_leaf=5,\n",
              "                                                       min_samples_split=2,\n",
              "                                                       min_weight_fraction_leaf=0.0,\n",
              "                                                       n_estimators=50,\n",
              "                                                       n_jobs=N...\n",
              "                                                       warm_start=False)),\n",
              "                               ('KNN_model',\n",
              "                                KNeighborsClassifier(algorithm='auto',\n",
              "                                                     leaf_size=30,\n",
              "                                                     metric='euclidean',\n",
              "                                                     metric_params=None,\n",
              "                                                     n_jobs=None,\n",
              "                                                     n_neighbors=17, p=2,\n",
              "                                                     weights='uniform')),\n",
              "                               ('NB_model',\n",
              "                                GaussianNB(priors=None, var_smoothing=1e-09))],\n",
              "                   final_estimator=GaussianNB(priors=None, var_smoothing=1e-09),\n",
              "                   n_jobs=None, passthrough=False, stack_method='auto',\n",
              "                   verbose=0)"
            ]
          },
          "metadata": {
            "tags": []
          },
          "execution_count": 94
        }
      ]
    },
    {
      "cell_type": "markdown",
      "metadata": {
        "id": "7aVTFaFVW8eA"
      },
      "source": [
        "#### Plot the confusion matrix."
      ]
    },
    {
      "cell_type": "code",
      "metadata": {
        "colab": {
          "base_uri": "https://localhost:8080/",
          "height": 492
        },
        "id": "U8gm-CzhW8eA",
        "outputId": "2921a187-6422-4679-e42e-d8863fa65758"
      },
      "source": [
        "# call the function to plot the confusion matrix\n",
        "# pass the stack model to the function\n",
        "plot_confusion_matrix(stack_model)"
      ],
      "execution_count": 95,
      "outputs": [
        {
          "output_type": "display_data",
          "data": {
            "image/png": "[encoded data removed]",
            "text/plain": [
              "<Figure size 1080x576 with 1 Axes>"
            ]
          },
          "metadata": {
            "tags": [],
            "needs_background": "light"
          }
        }
      ]
    },
    {
      "cell_type": "markdown",
      "metadata": {
        "id": "My_7RvHKW8eA"
      },
      "source": [
        "**Calculate performance measures on the test set.**"
      ]
    },
    {
      "cell_type": "code",
      "metadata": {
        "colab": {
          "base_uri": "https://localhost:8080/"
        },
        "scrolled": false,
        "id": "wn6PKgm2W8eA",
        "outputId": "e00e82e2-8e9e-4aa9-96bb-146c45206696"
      },
      "source": [
        "# compute the performance measures on test data\n",
        "# call the function 'get_test_report'\n",
        "# pass the XGBoost model to the function\n",
        "test_report = get_test_report(stack_model)\n",
        "\n",
        "# print the performance measures\n",
        "print(test_report)"
      ],
      "execution_count": 96,
      "outputs": [
        {
          "output_type": "stream",
          "text": [
            "              precision    recall  f1-score   support\n",
            "\n",
            "           0       0.92      0.81      0.86        42\n",
            "           1       0.81      0.92      0.86        38\n",
            "\n",
            "    accuracy                           0.86        80\n",
            "   macro avg       0.87      0.87      0.86        80\n",
            "weighted avg       0.87      0.86      0.86        80\n",
            "\n"
          ],
          "name": "stdout"
        }
      ]
    },
    {
      "cell_type": "markdown",
      "metadata": {
        "id": "irvbwbtFW8eB"
      },
      "source": [
        "**Interpretation:** The above output shows that the f1-score and accuracy of the model is 0.86"
      ]
    },
    {
      "cell_type": "markdown",
      "metadata": {
        "id": "Bt5Y1BV3W8eB"
      },
      "source": [
        "#### Plot the ROC curve."
      ]
    },
    {
      "cell_type": "code",
      "metadata": {
        "scrolled": false,
        "colab": {
          "base_uri": "https://localhost:8080/",
          "height": 520
        },
        "id": "4uLlp6oeW8eB",
        "outputId": "63418abf-597b-4d1f-8b72-743c23bde6f3"
      },
      "source": [
        "# call the function to plot the ROC curve\n",
        "# pass the stack model to the function\n",
        "plot_roc(stack_model)"
      ],
      "execution_count": 97,
      "outputs": [
        {
          "output_type": "display_data",
          "data": {
            "image/png": "[encoded data removed]",
            "text/plain": [
              "<Figure size 1080x576 with 1 Axes>"
            ]
          },
          "metadata": {
            "tags": [],
            "needs_background": "light"
          }
        }
      ]
    },
    {
      "cell_type": "markdown",
      "metadata": {
        "id": "s2j_FTNiW8eB"
      },
      "source": [
        "**Interpretation:** The red dotted line represents the ROC curve of a purely random classifier; a good classifier stays as far away from that line as possible (toward the top-left corner).<br>\n",
        "From the above plot, we can see that the stacking model is away from the dotted line; with the AUC score 0.9492."
      ]
    }
  ]
}