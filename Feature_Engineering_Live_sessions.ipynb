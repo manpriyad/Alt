{
  "nbformat": 4,
  "nbformat_minor": 0,
  "metadata": {
    "colab": {
      "name": "Feature-Engineering-Live-sessions.ipynb",
      "provenance": [],
      "authorship_tag": "ABX9TyNvXD/c7SLRPwoxYhTWcxza",
      "include_colab_link": true
    },
    "kernelspec": {
      "name": "python3",
      "display_name": "Python 3"
    },
    "language_info": {
      "name": "python"
    }
  },
  "cells": [
    {
      "cell_type": "markdown",
      "metadata": {
        "id": "view-in-github",
        "colab_type": "text"
      },
      "source": [
        "<a href=\"https://colab.research.google.com/github/manpriyad/Alt/blob/master/Feature_Engineering_Live_sessions.ipynb\" target=\"_parent\"><img src=\"https://colab.research.google.com/assets/colab-badge.svg\" alt=\"Open In Colab\"/></a>"
      ]
    },
    {
      "cell_type": "markdown",
      "metadata": {
        "id": "WX4gdnD8I34N"
      },
      "source": [
        "# Link :  https://www.youtube.com/watch?v=k-EpAMjw6AE"
      ]
    },
    {
      "cell_type": "code",
      "metadata": {
        "id": "0MdZznKVGmJD"
      },
      "source": [
        "import pandas as pd\n",
        "import numpy as np"
      ],
      "execution_count": 1,
      "outputs": []
    },
    {
      "cell_type": "code",
      "metadata": {
        "colab": {
          "base_uri": "https://localhost:8080/",
          "height": 222
        },
        "id": "eElRu_fcGpHa",
        "outputId": "db467dbd-bb62-47e8-e38c-c7942ad198d9"
      },
      "source": [
        "df=pd.read_csv('https://raw.githubusercontent.com/krishnaik06/Feature-Engineering-Live-sessions/master/mobile_dataset.csv')\n",
        "df.head()"
      ],
      "execution_count": 11,
      "outputs": [
        {
          "output_type": "execute_result",
          "data": {
            "text/html": [
              "<div>\n",
              "<style scoped>\n",
              "    .dataframe tbody tr th:only-of-type {\n",
              "        vertical-align: middle;\n",
              "    }\n",
              "\n",
              "    .dataframe tbody tr th {\n",
              "        vertical-align: top;\n",
              "    }\n",
              "\n",
              "    .dataframe thead th {\n",
              "        text-align: right;\n",
              "    }\n",
              "</style>\n",
              "<table border=\"1\" class=\"dataframe\">\n",
              "  <thead>\n",
              "    <tr style=\"text-align: right;\">\n",
              "      <th></th>\n",
              "      <th>battery_power</th>\n",
              "      <th>blue</th>\n",
              "      <th>clock_speed</th>\n",
              "      <th>dual_sim</th>\n",
              "      <th>fc</th>\n",
              "      <th>four_g</th>\n",
              "      <th>int_memory</th>\n",
              "      <th>m_dep</th>\n",
              "      <th>mobile_wt</th>\n",
              "      <th>n_cores</th>\n",
              "      <th>pc</th>\n",
              "      <th>px_height</th>\n",
              "      <th>px_width</th>\n",
              "      <th>ram</th>\n",
              "      <th>sc_h</th>\n",
              "      <th>sc_w</th>\n",
              "      <th>talk_time</th>\n",
              "      <th>three_g</th>\n",
              "      <th>touch_screen</th>\n",
              "      <th>wifi</th>\n",
              "      <th>price_range</th>\n",
              "    </tr>\n",
              "  </thead>\n",
              "  <tbody>\n",
              "    <tr>\n",
              "      <th>0</th>\n",
              "      <td>842</td>\n",
              "      <td>0</td>\n",
              "      <td>2.2</td>\n",
              "      <td>0</td>\n",
              "      <td>1</td>\n",
              "      <td>0</td>\n",
              "      <td>7</td>\n",
              "      <td>0.6</td>\n",
              "      <td>188</td>\n",
              "      <td>2</td>\n",
              "      <td>2</td>\n",
              "      <td>20</td>\n",
              "      <td>756</td>\n",
              "      <td>2549</td>\n",
              "      <td>9</td>\n",
              "      <td>7</td>\n",
              "      <td>19</td>\n",
              "      <td>0</td>\n",
              "      <td>0</td>\n",
              "      <td>1</td>\n",
              "      <td>1</td>\n",
              "    </tr>\n",
              "    <tr>\n",
              "      <th>1</th>\n",
              "      <td>1021</td>\n",
              "      <td>1</td>\n",
              "      <td>0.5</td>\n",
              "      <td>1</td>\n",
              "      <td>0</td>\n",
              "      <td>1</td>\n",
              "      <td>53</td>\n",
              "      <td>0.7</td>\n",
              "      <td>136</td>\n",
              "      <td>3</td>\n",
              "      <td>6</td>\n",
              "      <td>905</td>\n",
              "      <td>1988</td>\n",
              "      <td>2631</td>\n",
              "      <td>17</td>\n",
              "      <td>3</td>\n",
              "      <td>7</td>\n",
              "      <td>1</td>\n",
              "      <td>1</td>\n",
              "      <td>0</td>\n",
              "      <td>2</td>\n",
              "    </tr>\n",
              "    <tr>\n",
              "      <th>2</th>\n",
              "      <td>563</td>\n",
              "      <td>1</td>\n",
              "      <td>0.5</td>\n",
              "      <td>1</td>\n",
              "      <td>2</td>\n",
              "      <td>1</td>\n",
              "      <td>41</td>\n",
              "      <td>0.9</td>\n",
              "      <td>145</td>\n",
              "      <td>5</td>\n",
              "      <td>6</td>\n",
              "      <td>1263</td>\n",
              "      <td>1716</td>\n",
              "      <td>2603</td>\n",
              "      <td>11</td>\n",
              "      <td>2</td>\n",
              "      <td>9</td>\n",
              "      <td>1</td>\n",
              "      <td>1</td>\n",
              "      <td>0</td>\n",
              "      <td>2</td>\n",
              "    </tr>\n",
              "    <tr>\n",
              "      <th>3</th>\n",
              "      <td>615</td>\n",
              "      <td>1</td>\n",
              "      <td>2.5</td>\n",
              "      <td>0</td>\n",
              "      <td>0</td>\n",
              "      <td>0</td>\n",
              "      <td>10</td>\n",
              "      <td>0.8</td>\n",
              "      <td>131</td>\n",
              "      <td>6</td>\n",
              "      <td>9</td>\n",
              "      <td>1216</td>\n",
              "      <td>1786</td>\n",
              "      <td>2769</td>\n",
              "      <td>16</td>\n",
              "      <td>8</td>\n",
              "      <td>11</td>\n",
              "      <td>1</td>\n",
              "      <td>0</td>\n",
              "      <td>0</td>\n",
              "      <td>2</td>\n",
              "    </tr>\n",
              "    <tr>\n",
              "      <th>4</th>\n",
              "      <td>1821</td>\n",
              "      <td>1</td>\n",
              "      <td>1.2</td>\n",
              "      <td>0</td>\n",
              "      <td>13</td>\n",
              "      <td>1</td>\n",
              "      <td>44</td>\n",
              "      <td>0.6</td>\n",
              "      <td>141</td>\n",
              "      <td>2</td>\n",
              "      <td>14</td>\n",
              "      <td>1208</td>\n",
              "      <td>1212</td>\n",
              "      <td>1411</td>\n",
              "      <td>8</td>\n",
              "      <td>2</td>\n",
              "      <td>15</td>\n",
              "      <td>1</td>\n",
              "      <td>1</td>\n",
              "      <td>0</td>\n",
              "      <td>1</td>\n",
              "    </tr>\n",
              "  </tbody>\n",
              "</table>\n",
              "</div>"
            ],
            "text/plain": [
              "   battery_power  blue  clock_speed  ...  touch_screen  wifi  price_range\n",
              "0            842     0          2.2  ...             0     1            1\n",
              "1           1021     1          0.5  ...             1     0            2\n",
              "2            563     1          0.5  ...             1     0            2\n",
              "3            615     1          2.5  ...             0     0            2\n",
              "4           1821     1          1.2  ...             1     0            1\n",
              "\n",
              "[5 rows x 21 columns]"
            ]
          },
          "metadata": {
            "tags": []
          },
          "execution_count": 11
        }
      ]
    },
    {
      "cell_type": "markdown",
      "metadata": {
        "id": "GaaemqAFKp8n"
      },
      "source": [
        "# Univariate selection "
      ]
    },
    {
      "cell_type": "code",
      "metadata": {
        "id": "15TZ8FwmHwwy"
      },
      "source": [
        "x=df.iloc[:,:-1]\n",
        "y=df.iloc[:,-1]"
      ],
      "execution_count": 12,
      "outputs": []
    },
    {
      "cell_type": "code",
      "metadata": {
        "colab": {
          "base_uri": "https://localhost:8080/",
          "height": 202
        },
        "id": "msQe2GPOKb7a",
        "outputId": "da59045a-8d0a-4c10-f4a8-930a75c4f2e1"
      },
      "source": [
        "x.head()"
      ],
      "execution_count": 15,
      "outputs": [
        {
          "output_type": "execute_result",
          "data": {
            "text/html": [
              "<div>\n",
              "<style scoped>\n",
              "    .dataframe tbody tr th:only-of-type {\n",
              "        vertical-align: middle;\n",
              "    }\n",
              "\n",
              "    .dataframe tbody tr th {\n",
              "        vertical-align: top;\n",
              "    }\n",
              "\n",
              "    .dataframe thead th {\n",
              "        text-align: right;\n",
              "    }\n",
              "</style>\n",
              "<table border=\"1\" class=\"dataframe\">\n",
              "  <thead>\n",
              "    <tr style=\"text-align: right;\">\n",
              "      <th></th>\n",
              "      <th>battery_power</th>\n",
              "      <th>blue</th>\n",
              "      <th>clock_speed</th>\n",
              "      <th>dual_sim</th>\n",
              "      <th>fc</th>\n",
              "      <th>four_g</th>\n",
              "      <th>int_memory</th>\n",
              "      <th>m_dep</th>\n",
              "      <th>mobile_wt</th>\n",
              "      <th>n_cores</th>\n",
              "      <th>pc</th>\n",
              "      <th>px_height</th>\n",
              "      <th>px_width</th>\n",
              "      <th>ram</th>\n",
              "      <th>sc_h</th>\n",
              "      <th>sc_w</th>\n",
              "      <th>talk_time</th>\n",
              "      <th>three_g</th>\n",
              "      <th>touch_screen</th>\n",
              "      <th>wifi</th>\n",
              "    </tr>\n",
              "  </thead>\n",
              "  <tbody>\n",
              "    <tr>\n",
              "      <th>0</th>\n",
              "      <td>842</td>\n",
              "      <td>0</td>\n",
              "      <td>2.2</td>\n",
              "      <td>0</td>\n",
              "      <td>1</td>\n",
              "      <td>0</td>\n",
              "      <td>7</td>\n",
              "      <td>0.6</td>\n",
              "      <td>188</td>\n",
              "      <td>2</td>\n",
              "      <td>2</td>\n",
              "      <td>20</td>\n",
              "      <td>756</td>\n",
              "      <td>2549</td>\n",
              "      <td>9</td>\n",
              "      <td>7</td>\n",
              "      <td>19</td>\n",
              "      <td>0</td>\n",
              "      <td>0</td>\n",
              "      <td>1</td>\n",
              "    </tr>\n",
              "    <tr>\n",
              "      <th>1</th>\n",
              "      <td>1021</td>\n",
              "      <td>1</td>\n",
              "      <td>0.5</td>\n",
              "      <td>1</td>\n",
              "      <td>0</td>\n",
              "      <td>1</td>\n",
              "      <td>53</td>\n",
              "      <td>0.7</td>\n",
              "      <td>136</td>\n",
              "      <td>3</td>\n",
              "      <td>6</td>\n",
              "      <td>905</td>\n",
              "      <td>1988</td>\n",
              "      <td>2631</td>\n",
              "      <td>17</td>\n",
              "      <td>3</td>\n",
              "      <td>7</td>\n",
              "      <td>1</td>\n",
              "      <td>1</td>\n",
              "      <td>0</td>\n",
              "    </tr>\n",
              "    <tr>\n",
              "      <th>2</th>\n",
              "      <td>563</td>\n",
              "      <td>1</td>\n",
              "      <td>0.5</td>\n",
              "      <td>1</td>\n",
              "      <td>2</td>\n",
              "      <td>1</td>\n",
              "      <td>41</td>\n",
              "      <td>0.9</td>\n",
              "      <td>145</td>\n",
              "      <td>5</td>\n",
              "      <td>6</td>\n",
              "      <td>1263</td>\n",
              "      <td>1716</td>\n",
              "      <td>2603</td>\n",
              "      <td>11</td>\n",
              "      <td>2</td>\n",
              "      <td>9</td>\n",
              "      <td>1</td>\n",
              "      <td>1</td>\n",
              "      <td>0</td>\n",
              "    </tr>\n",
              "    <tr>\n",
              "      <th>3</th>\n",
              "      <td>615</td>\n",
              "      <td>1</td>\n",
              "      <td>2.5</td>\n",
              "      <td>0</td>\n",
              "      <td>0</td>\n",
              "      <td>0</td>\n",
              "      <td>10</td>\n",
              "      <td>0.8</td>\n",
              "      <td>131</td>\n",
              "      <td>6</td>\n",
              "      <td>9</td>\n",
              "      <td>1216</td>\n",
              "      <td>1786</td>\n",
              "      <td>2769</td>\n",
              "      <td>16</td>\n",
              "      <td>8</td>\n",
              "      <td>11</td>\n",
              "      <td>1</td>\n",
              "      <td>0</td>\n",
              "      <td>0</td>\n",
              "    </tr>\n",
              "    <tr>\n",
              "      <th>4</th>\n",
              "      <td>1821</td>\n",
              "      <td>1</td>\n",
              "      <td>1.2</td>\n",
              "      <td>0</td>\n",
              "      <td>13</td>\n",
              "      <td>1</td>\n",
              "      <td>44</td>\n",
              "      <td>0.6</td>\n",
              "      <td>141</td>\n",
              "      <td>2</td>\n",
              "      <td>14</td>\n",
              "      <td>1208</td>\n",
              "      <td>1212</td>\n",
              "      <td>1411</td>\n",
              "      <td>8</td>\n",
              "      <td>2</td>\n",
              "      <td>15</td>\n",
              "      <td>1</td>\n",
              "      <td>1</td>\n",
              "      <td>0</td>\n",
              "    </tr>\n",
              "  </tbody>\n",
              "</table>\n",
              "</div>"
            ],
            "text/plain": [
              "   battery_power  blue  clock_speed  ...  three_g  touch_screen  wifi\n",
              "0            842     0          2.2  ...        0             0     1\n",
              "1           1021     1          0.5  ...        1             1     0\n",
              "2            563     1          0.5  ...        1             1     0\n",
              "3            615     1          2.5  ...        1             0     0\n",
              "4           1821     1          1.2  ...        1             1     0\n",
              "\n",
              "[5 rows x 20 columns]"
            ]
          },
          "metadata": {
            "tags": []
          },
          "execution_count": 15
        }
      ]
    },
    {
      "cell_type": "code",
      "metadata": {
        "id": "kiwFCrpeKdNB"
      },
      "source": [
        "from sklearn.feature_selection import SelectKBest\n",
        "from sklearn.feature_selection import chi2"
      ],
      "execution_count": 16,
      "outputs": []
    },
    {
      "cell_type": "markdown",
      "metadata": {
        "id": "nqwEwt4BK5S0"
      },
      "source": [
        "## Apply k best algorithm"
      ]
    },
    {
      "cell_type": "code",
      "metadata": {
        "id": "Wp6nnWfiK3-o"
      },
      "source": [
        "ordered_rank_features=SelectKBest(score_func=chi2,k=10) # select top 10 features"
      ],
      "execution_count": 17,
      "outputs": []
    },
    {
      "cell_type": "code",
      "metadata": {
        "colab": {
          "base_uri": "https://localhost:8080/"
        },
        "id": "rXQ7J-B9LM-q",
        "outputId": "5470c476-9c07-432d-bf9e-530a5a78c188"
      },
      "source": [
        "ordered_features= ordered_rank_features.fit(x,y)\n",
        "ordered_features"
      ],
      "execution_count": 20,
      "outputs": [
        {
          "output_type": "execute_result",
          "data": {
            "text/plain": [
              "SelectKBest(k=10, score_func=<function chi2 at 0x7fb4aced1050>)"
            ]
          },
          "metadata": {
            "tags": []
          },
          "execution_count": 20
        }
      ]
    },
    {
      "cell_type": "code",
      "metadata": {
        "colab": {
          "base_uri": "https://localhost:8080/",
          "height": 662
        },
        "id": "l3CTBrS6LOuI",
        "outputId": "4eedad7e-665c-4fda-d5f7-10c5860c947d"
      },
      "source": [
        "features_rank=pd.DataFrame(ordered_features.scores_,index=x.columns,columns=['Score'])\n",
        "features_rank"
      ],
      "execution_count": 26,
      "outputs": [
        {
          "output_type": "execute_result",
          "data": {
            "text/html": [
              "<div>\n",
              "<style scoped>\n",
              "    .dataframe tbody tr th:only-of-type {\n",
              "        vertical-align: middle;\n",
              "    }\n",
              "\n",
              "    .dataframe tbody tr th {\n",
              "        vertical-align: top;\n",
              "    }\n",
              "\n",
              "    .dataframe thead th {\n",
              "        text-align: right;\n",
              "    }\n",
              "</style>\n",
              "<table border=\"1\" class=\"dataframe\">\n",
              "  <thead>\n",
              "    <tr style=\"text-align: right;\">\n",
              "      <th></th>\n",
              "      <th>Score</th>\n",
              "    </tr>\n",
              "  </thead>\n",
              "  <tbody>\n",
              "    <tr>\n",
              "      <th>battery_power</th>\n",
              "      <td>14129.866576</td>\n",
              "    </tr>\n",
              "    <tr>\n",
              "      <th>blue</th>\n",
              "      <td>0.723232</td>\n",
              "    </tr>\n",
              "    <tr>\n",
              "      <th>clock_speed</th>\n",
              "      <td>0.648366</td>\n",
              "    </tr>\n",
              "    <tr>\n",
              "      <th>dual_sim</th>\n",
              "      <td>0.631011</td>\n",
              "    </tr>\n",
              "    <tr>\n",
              "      <th>fc</th>\n",
              "      <td>10.135166</td>\n",
              "    </tr>\n",
              "    <tr>\n",
              "      <th>four_g</th>\n",
              "      <td>1.521572</td>\n",
              "    </tr>\n",
              "    <tr>\n",
              "      <th>int_memory</th>\n",
              "      <td>89.839124</td>\n",
              "    </tr>\n",
              "    <tr>\n",
              "      <th>m_dep</th>\n",
              "      <td>0.745820</td>\n",
              "    </tr>\n",
              "    <tr>\n",
              "      <th>mobile_wt</th>\n",
              "      <td>95.972863</td>\n",
              "    </tr>\n",
              "    <tr>\n",
              "      <th>n_cores</th>\n",
              "      <td>9.097556</td>\n",
              "    </tr>\n",
              "    <tr>\n",
              "      <th>pc</th>\n",
              "      <td>9.186054</td>\n",
              "    </tr>\n",
              "    <tr>\n",
              "      <th>px_height</th>\n",
              "      <td>17363.569536</td>\n",
              "    </tr>\n",
              "    <tr>\n",
              "      <th>px_width</th>\n",
              "      <td>9810.586750</td>\n",
              "    </tr>\n",
              "    <tr>\n",
              "      <th>ram</th>\n",
              "      <td>931267.519053</td>\n",
              "    </tr>\n",
              "    <tr>\n",
              "      <th>sc_h</th>\n",
              "      <td>9.614878</td>\n",
              "    </tr>\n",
              "    <tr>\n",
              "      <th>sc_w</th>\n",
              "      <td>16.480319</td>\n",
              "    </tr>\n",
              "    <tr>\n",
              "      <th>talk_time</th>\n",
              "      <td>13.236400</td>\n",
              "    </tr>\n",
              "    <tr>\n",
              "      <th>three_g</th>\n",
              "      <td>0.327643</td>\n",
              "    </tr>\n",
              "    <tr>\n",
              "      <th>touch_screen</th>\n",
              "      <td>1.928429</td>\n",
              "    </tr>\n",
              "    <tr>\n",
              "      <th>wifi</th>\n",
              "      <td>0.422091</td>\n",
              "    </tr>\n",
              "  </tbody>\n",
              "</table>\n",
              "</div>"
            ],
            "text/plain": [
              "                       Score\n",
              "battery_power   14129.866576\n",
              "blue                0.723232\n",
              "clock_speed         0.648366\n",
              "dual_sim            0.631011\n",
              "fc                 10.135166\n",
              "four_g              1.521572\n",
              "int_memory         89.839124\n",
              "m_dep               0.745820\n",
              "mobile_wt          95.972863\n",
              "n_cores             9.097556\n",
              "pc                  9.186054\n",
              "px_height       17363.569536\n",
              "px_width         9810.586750\n",
              "ram            931267.519053\n",
              "sc_h                9.614878\n",
              "sc_w               16.480319\n",
              "talk_time          13.236400\n",
              "three_g             0.327643\n",
              "touch_screen        1.928429\n",
              "wifi                0.422091"
            ]
          },
          "metadata": {
            "tags": []
          },
          "execution_count": 26
        }
      ]
    },
    {
      "cell_type": "code",
      "metadata": {
        "colab": {
          "base_uri": "https://localhost:8080/",
          "height": 202
        },
        "id": "bW7OWVnTLljH",
        "outputId": "1f175dea-08b3-4fb6-fed9-a14a33179105"
      },
      "source": [
        "features_rank.nlargest(5,'Score') "
      ],
      "execution_count": 27,
      "outputs": [
        {
          "output_type": "execute_result",
          "data": {
            "text/html": [
              "<div>\n",
              "<style scoped>\n",
              "    .dataframe tbody tr th:only-of-type {\n",
              "        vertical-align: middle;\n",
              "    }\n",
              "\n",
              "    .dataframe tbody tr th {\n",
              "        vertical-align: top;\n",
              "    }\n",
              "\n",
              "    .dataframe thead th {\n",
              "        text-align: right;\n",
              "    }\n",
              "</style>\n",
              "<table border=\"1\" class=\"dataframe\">\n",
              "  <thead>\n",
              "    <tr style=\"text-align: right;\">\n",
              "      <th></th>\n",
              "      <th>Score</th>\n",
              "    </tr>\n",
              "  </thead>\n",
              "  <tbody>\n",
              "    <tr>\n",
              "      <th>ram</th>\n",
              "      <td>931267.519053</td>\n",
              "    </tr>\n",
              "    <tr>\n",
              "      <th>px_height</th>\n",
              "      <td>17363.569536</td>\n",
              "    </tr>\n",
              "    <tr>\n",
              "      <th>battery_power</th>\n",
              "      <td>14129.866576</td>\n",
              "    </tr>\n",
              "    <tr>\n",
              "      <th>px_width</th>\n",
              "      <td>9810.586750</td>\n",
              "    </tr>\n",
              "    <tr>\n",
              "      <th>mobile_wt</th>\n",
              "      <td>95.972863</td>\n",
              "    </tr>\n",
              "  </tbody>\n",
              "</table>\n",
              "</div>"
            ],
            "text/plain": [
              "                       Score\n",
              "ram            931267.519053\n",
              "px_height       17363.569536\n",
              "battery_power   14129.866576\n",
              "px_width         9810.586750\n",
              "mobile_wt          95.972863"
            ]
          },
          "metadata": {
            "tags": []
          },
          "execution_count": 27
        }
      ]
    },
    {
      "cell_type": "markdown",
      "metadata": {
        "id": "CJAtGBS8NS0q"
      },
      "source": [
        "## Feature importance"
      ]
    },
    {
      "cell_type": "code",
      "metadata": {
        "id": "byr3EZOIMtai"
      },
      "source": [
        "from sklearn.ensemble import ExtraTreesClassifier"
      ],
      "execution_count": 28,
      "outputs": []
    },
    {
      "cell_type": "code",
      "metadata": {
        "id": "uSqbX84LNenr"
      },
      "source": [
        "import matplotlib.pyplot as plt\n"
      ],
      "execution_count": 29,
      "outputs": []
    },
    {
      "cell_type": "code",
      "metadata": {
        "colab": {
          "base_uri": "https://localhost:8080/"
        },
        "id": "3vb43HOVNhYz",
        "outputId": "d7caaa54-cbdc-4f0a-8726-de0b44611532"
      },
      "source": [
        "model=ExtraTreesClassifier()\n",
        "model.fit(x,y)"
      ],
      "execution_count": 30,
      "outputs": [
        {
          "output_type": "execute_result",
          "data": {
            "text/plain": [
              "ExtraTreesClassifier(bootstrap=False, ccp_alpha=0.0, class_weight=None,\n",
              "                     criterion='gini', max_depth=None, max_features='auto',\n",
              "                     max_leaf_nodes=None, max_samples=None,\n",
              "                     min_impurity_decrease=0.0, min_impurity_split=None,\n",
              "                     min_samples_leaf=1, min_samples_split=2,\n",
              "                     min_weight_fraction_leaf=0.0, n_estimators=100,\n",
              "                     n_jobs=None, oob_score=False, random_state=None, verbose=0,\n",
              "                     warm_start=False)"
            ]
          },
          "metadata": {
            "tags": []
          },
          "execution_count": 30
        }
      ]
    },
    {
      "cell_type": "code",
      "metadata": {
        "colab": {
          "base_uri": "https://localhost:8080/",
          "height": 662
        },
        "id": "ItYgTZf6Nm-n",
        "outputId": "77f45b7e-141f-4ef2-a8a9-d561a251ef0f"
      },
      "source": [
        "feature_imp=pd.DataFrame(model.feature_importances_,index=x.columns,columns=['Feature_imp'])\n",
        "feature_imp"
      ],
      "execution_count": 36,
      "outputs": [
        {
          "output_type": "execute_result",
          "data": {
            "text/html": [
              "<div>\n",
              "<style scoped>\n",
              "    .dataframe tbody tr th:only-of-type {\n",
              "        vertical-align: middle;\n",
              "    }\n",
              "\n",
              "    .dataframe tbody tr th {\n",
              "        vertical-align: top;\n",
              "    }\n",
              "\n",
              "    .dataframe thead th {\n",
              "        text-align: right;\n",
              "    }\n",
              "</style>\n",
              "<table border=\"1\" class=\"dataframe\">\n",
              "  <thead>\n",
              "    <tr style=\"text-align: right;\">\n",
              "      <th></th>\n",
              "      <th>Feature_imp</th>\n",
              "    </tr>\n",
              "  </thead>\n",
              "  <tbody>\n",
              "    <tr>\n",
              "      <th>battery_power</th>\n",
              "      <td>0.061946</td>\n",
              "    </tr>\n",
              "    <tr>\n",
              "      <th>blue</th>\n",
              "      <td>0.020151</td>\n",
              "    </tr>\n",
              "    <tr>\n",
              "      <th>clock_speed</th>\n",
              "      <td>0.034334</td>\n",
              "    </tr>\n",
              "    <tr>\n",
              "      <th>dual_sim</th>\n",
              "      <td>0.019920</td>\n",
              "    </tr>\n",
              "    <tr>\n",
              "      <th>fc</th>\n",
              "      <td>0.032674</td>\n",
              "    </tr>\n",
              "    <tr>\n",
              "      <th>four_g</th>\n",
              "      <td>0.017285</td>\n",
              "    </tr>\n",
              "    <tr>\n",
              "      <th>int_memory</th>\n",
              "      <td>0.035401</td>\n",
              "    </tr>\n",
              "    <tr>\n",
              "      <th>m_dep</th>\n",
              "      <td>0.035051</td>\n",
              "    </tr>\n",
              "    <tr>\n",
              "      <th>mobile_wt</th>\n",
              "      <td>0.036789</td>\n",
              "    </tr>\n",
              "    <tr>\n",
              "      <th>n_cores</th>\n",
              "      <td>0.033767</td>\n",
              "    </tr>\n",
              "    <tr>\n",
              "      <th>pc</th>\n",
              "      <td>0.033358</td>\n",
              "    </tr>\n",
              "    <tr>\n",
              "      <th>px_height</th>\n",
              "      <td>0.046118</td>\n",
              "    </tr>\n",
              "    <tr>\n",
              "      <th>px_width</th>\n",
              "      <td>0.048645</td>\n",
              "    </tr>\n",
              "    <tr>\n",
              "      <th>ram</th>\n",
              "      <td>0.389445</td>\n",
              "    </tr>\n",
              "    <tr>\n",
              "      <th>sc_h</th>\n",
              "      <td>0.033612</td>\n",
              "    </tr>\n",
              "    <tr>\n",
              "      <th>sc_w</th>\n",
              "      <td>0.034375</td>\n",
              "    </tr>\n",
              "    <tr>\n",
              "      <th>talk_time</th>\n",
              "      <td>0.034463</td>\n",
              "    </tr>\n",
              "    <tr>\n",
              "      <th>three_g</th>\n",
              "      <td>0.014956</td>\n",
              "    </tr>\n",
              "    <tr>\n",
              "      <th>touch_screen</th>\n",
              "      <td>0.017700</td>\n",
              "    </tr>\n",
              "    <tr>\n",
              "      <th>wifi</th>\n",
              "      <td>0.020011</td>\n",
              "    </tr>\n",
              "  </tbody>\n",
              "</table>\n",
              "</div>"
            ],
            "text/plain": [
              "               Feature_imp\n",
              "battery_power     0.061946\n",
              "blue              0.020151\n",
              "clock_speed       0.034334\n",
              "dual_sim          0.019920\n",
              "fc                0.032674\n",
              "four_g            0.017285\n",
              "int_memory        0.035401\n",
              "m_dep             0.035051\n",
              "mobile_wt         0.036789\n",
              "n_cores           0.033767\n",
              "pc                0.033358\n",
              "px_height         0.046118\n",
              "px_width          0.048645\n",
              "ram               0.389445\n",
              "sc_h              0.033612\n",
              "sc_w              0.034375\n",
              "talk_time         0.034463\n",
              "three_g           0.014956\n",
              "touch_screen      0.017700\n",
              "wifi              0.020011"
            ]
          },
          "metadata": {
            "tags": []
          },
          "execution_count": 36
        }
      ]
    },
    {
      "cell_type": "code",
      "metadata": {
        "colab": {
          "base_uri": "https://localhost:8080/",
          "height": 202
        },
        "id": "i_Wm6d9xNqHM",
        "outputId": "83f07723-130c-45e2-e6df-b4a8a00ebe7a"
      },
      "source": [
        "feature_imp.nlargest(5,'Feature_imp') "
      ],
      "execution_count": 39,
      "outputs": [
        {
          "output_type": "execute_result",
          "data": {
            "text/html": [
              "<div>\n",
              "<style scoped>\n",
              "    .dataframe tbody tr th:only-of-type {\n",
              "        vertical-align: middle;\n",
              "    }\n",
              "\n",
              "    .dataframe tbody tr th {\n",
              "        vertical-align: top;\n",
              "    }\n",
              "\n",
              "    .dataframe thead th {\n",
              "        text-align: right;\n",
              "    }\n",
              "</style>\n",
              "<table border=\"1\" class=\"dataframe\">\n",
              "  <thead>\n",
              "    <tr style=\"text-align: right;\">\n",
              "      <th></th>\n",
              "      <th>Feature_imp</th>\n",
              "    </tr>\n",
              "  </thead>\n",
              "  <tbody>\n",
              "    <tr>\n",
              "      <th>ram</th>\n",
              "      <td>0.389445</td>\n",
              "    </tr>\n",
              "    <tr>\n",
              "      <th>battery_power</th>\n",
              "      <td>0.061946</td>\n",
              "    </tr>\n",
              "    <tr>\n",
              "      <th>px_width</th>\n",
              "      <td>0.048645</td>\n",
              "    </tr>\n",
              "    <tr>\n",
              "      <th>px_height</th>\n",
              "      <td>0.046118</td>\n",
              "    </tr>\n",
              "    <tr>\n",
              "      <th>mobile_wt</th>\n",
              "      <td>0.036789</td>\n",
              "    </tr>\n",
              "  </tbody>\n",
              "</table>\n",
              "</div>"
            ],
            "text/plain": [
              "               Feature_imp\n",
              "ram               0.389445\n",
              "battery_power     0.061946\n",
              "px_width          0.048645\n",
              "px_height         0.046118\n",
              "mobile_wt         0.036789"
            ]
          },
          "metadata": {
            "tags": []
          },
          "execution_count": 39
        }
      ]
    },
    {
      "cell_type": "code",
      "metadata": {
        "colab": {
          "base_uri": "https://localhost:8080/",
          "height": 202
        },
        "id": "mJkSf2BoN3Ax",
        "outputId": "8b3a4b0b-8572-4706-a558-cca08f100701"
      },
      "source": [
        "features_rank.nlargest(5,'Score') "
      ],
      "execution_count": 40,
      "outputs": [
        {
          "output_type": "execute_result",
          "data": {
            "text/html": [
              "<div>\n",
              "<style scoped>\n",
              "    .dataframe tbody tr th:only-of-type {\n",
              "        vertical-align: middle;\n",
              "    }\n",
              "\n",
              "    .dataframe tbody tr th {\n",
              "        vertical-align: top;\n",
              "    }\n",
              "\n",
              "    .dataframe thead th {\n",
              "        text-align: right;\n",
              "    }\n",
              "</style>\n",
              "<table border=\"1\" class=\"dataframe\">\n",
              "  <thead>\n",
              "    <tr style=\"text-align: right;\">\n",
              "      <th></th>\n",
              "      <th>Score</th>\n",
              "    </tr>\n",
              "  </thead>\n",
              "  <tbody>\n",
              "    <tr>\n",
              "      <th>ram</th>\n",
              "      <td>931267.519053</td>\n",
              "    </tr>\n",
              "    <tr>\n",
              "      <th>px_height</th>\n",
              "      <td>17363.569536</td>\n",
              "    </tr>\n",
              "    <tr>\n",
              "      <th>battery_power</th>\n",
              "      <td>14129.866576</td>\n",
              "    </tr>\n",
              "    <tr>\n",
              "      <th>px_width</th>\n",
              "      <td>9810.586750</td>\n",
              "    </tr>\n",
              "    <tr>\n",
              "      <th>mobile_wt</th>\n",
              "      <td>95.972863</td>\n",
              "    </tr>\n",
              "  </tbody>\n",
              "</table>\n",
              "</div>"
            ],
            "text/plain": [
              "                       Score\n",
              "ram            931267.519053\n",
              "px_height       17363.569536\n",
              "battery_power   14129.866576\n",
              "px_width         9810.586750\n",
              "mobile_wt          95.972863"
            ]
          },
          "metadata": {
            "tags": []
          },
          "execution_count": 40
        }
      ]
    },
    {
      "cell_type": "code",
      "metadata": {
        "colab": {
          "base_uri": "https://localhost:8080/",
          "height": 531
        },
        "id": "ioY4KcztOanH",
        "outputId": "25727ab3-2baf-456b-e2a4-491d4799b165"
      },
      "source": [
        "features_rank.nlargest(5,'Score').plot(kind='barh')\n",
        "feature_imp.nlargest(5,'Feature_imp').plot(kind='barh')"
      ],
      "execution_count": 44,
      "outputs": [
        {
          "output_type": "execute_result",
          "data": {
            "text/plain": [
              "<matplotlib.axes._subplots.AxesSubplot at 0x7fb4a8809990>"
            ]
          },
          "metadata": {
            "tags": []
          },
          "execution_count": 44
        },
        {
          "output_type": "display_data",
          "data": {
            "image/png": "[encoded data removed]",
            "text/plain": [
              "<Figure size 432x288 with 1 Axes>"
            ]
          },
          "metadata": {
            "tags": [],
            "needs_background": "light"
          }
        },
        {
          "output_type": "display_data",
          "data": {
            "image/png": "[encoded data removed]",
            "text/plain": [
              "<Figure size 432x288 with 1 Axes>"
            ]
          },
          "metadata": {
            "tags": [],
            "needs_background": "light"
          }
        }
      ]
    },
    {
      "cell_type": "markdown",
      "metadata": {
        "id": "ELkWbNeOPLEE"
      },
      "source": [
        "## Pearson correlation :"
      ]
    },
    {
      "cell_type": "code",
      "metadata": {
        "id": "u2uujLRaOjgX"
      },
      "source": [
        "import seaborn as sns"
      ],
      "execution_count": 45,
      "outputs": []
    },
    {
      "cell_type": "code",
      "metadata": {
        "colab": {
          "base_uri": "https://localhost:8080/",
          "height": 712
        },
        "id": "22C5coBcPUAd",
        "outputId": "f9e73bb7-b607-408f-9222-64ea24f0301e"
      },
      "source": [
        "corr=df.corr()\n",
        "corr"
      ],
      "execution_count": 47,
      "outputs": [
        {
          "output_type": "execute_result",
          "data": {
            "text/html": [
              "<div>\n",
              "<style scoped>\n",
              "    .dataframe tbody tr th:only-of-type {\n",
              "        vertical-align: middle;\n",
              "    }\n",
              "\n",
              "    .dataframe tbody tr th {\n",
              "        vertical-align: top;\n",
              "    }\n",
              "\n",
              "    .dataframe thead th {\n",
              "        text-align: right;\n",
              "    }\n",
              "</style>\n",
              "<table border=\"1\" class=\"dataframe\">\n",
              "  <thead>\n",
              "    <tr style=\"text-align: right;\">\n",
              "      <th></th>\n",
              "      <th>battery_power</th>\n",
              "      <th>blue</th>\n",
              "      <th>clock_speed</th>\n",
              "      <th>dual_sim</th>\n",
              "      <th>fc</th>\n",
              "      <th>four_g</th>\n",
              "      <th>int_memory</th>\n",
              "      <th>m_dep</th>\n",
              "      <th>mobile_wt</th>\n",
              "      <th>n_cores</th>\n",
              "      <th>pc</th>\n",
              "      <th>px_height</th>\n",
              "      <th>px_width</th>\n",
              "      <th>ram</th>\n",
              "      <th>sc_h</th>\n",
              "      <th>sc_w</th>\n",
              "      <th>talk_time</th>\n",
              "      <th>three_g</th>\n",
              "      <th>touch_screen</th>\n",
              "      <th>wifi</th>\n",
              "      <th>price_range</th>\n",
              "    </tr>\n",
              "  </thead>\n",
              "  <tbody>\n",
              "    <tr>\n",
              "      <th>battery_power</th>\n",
              "      <td>1.000000</td>\n",
              "      <td>0.011252</td>\n",
              "      <td>0.011482</td>\n",
              "      <td>-0.041847</td>\n",
              "      <td>0.033334</td>\n",
              "      <td>0.015665</td>\n",
              "      <td>-0.004004</td>\n",
              "      <td>0.034085</td>\n",
              "      <td>0.001844</td>\n",
              "      <td>-0.029727</td>\n",
              "      <td>0.031441</td>\n",
              "      <td>0.014901</td>\n",
              "      <td>-0.008402</td>\n",
              "      <td>-0.000653</td>\n",
              "      <td>-0.029959</td>\n",
              "      <td>-0.021421</td>\n",
              "      <td>0.052510</td>\n",
              "      <td>0.011522</td>\n",
              "      <td>-0.010516</td>\n",
              "      <td>-0.008343</td>\n",
              "      <td>0.200723</td>\n",
              "    </tr>\n",
              "    <tr>\n",
              "      <th>blue</th>\n",
              "      <td>0.011252</td>\n",
              "      <td>1.000000</td>\n",
              "      <td>0.021419</td>\n",
              "      <td>0.035198</td>\n",
              "      <td>0.003593</td>\n",
              "      <td>0.013443</td>\n",
              "      <td>0.041177</td>\n",
              "      <td>0.004049</td>\n",
              "      <td>-0.008605</td>\n",
              "      <td>0.036161</td>\n",
              "      <td>-0.009952</td>\n",
              "      <td>-0.006872</td>\n",
              "      <td>-0.041533</td>\n",
              "      <td>0.026351</td>\n",
              "      <td>-0.002952</td>\n",
              "      <td>0.000613</td>\n",
              "      <td>0.013934</td>\n",
              "      <td>-0.030236</td>\n",
              "      <td>0.010061</td>\n",
              "      <td>-0.021863</td>\n",
              "      <td>0.020573</td>\n",
              "    </tr>\n",
              "    <tr>\n",
              "      <th>clock_speed</th>\n",
              "      <td>0.011482</td>\n",
              "      <td>0.021419</td>\n",
              "      <td>1.000000</td>\n",
              "      <td>-0.001315</td>\n",
              "      <td>-0.000434</td>\n",
              "      <td>-0.043073</td>\n",
              "      <td>0.006545</td>\n",
              "      <td>-0.014364</td>\n",
              "      <td>0.012350</td>\n",
              "      <td>-0.005724</td>\n",
              "      <td>-0.005245</td>\n",
              "      <td>-0.014523</td>\n",
              "      <td>-0.009476</td>\n",
              "      <td>0.003443</td>\n",
              "      <td>-0.029078</td>\n",
              "      <td>-0.007378</td>\n",
              "      <td>-0.011432</td>\n",
              "      <td>-0.046433</td>\n",
              "      <td>0.019756</td>\n",
              "      <td>-0.024471</td>\n",
              "      <td>-0.006606</td>\n",
              "    </tr>\n",
              "    <tr>\n",
              "      <th>dual_sim</th>\n",
              "      <td>-0.041847</td>\n",
              "      <td>0.035198</td>\n",
              "      <td>-0.001315</td>\n",
              "      <td>1.000000</td>\n",
              "      <td>-0.029123</td>\n",
              "      <td>0.003187</td>\n",
              "      <td>-0.015679</td>\n",
              "      <td>-0.022142</td>\n",
              "      <td>-0.008979</td>\n",
              "      <td>-0.024658</td>\n",
              "      <td>-0.017143</td>\n",
              "      <td>-0.020875</td>\n",
              "      <td>0.014291</td>\n",
              "      <td>0.041072</td>\n",
              "      <td>-0.011949</td>\n",
              "      <td>-0.016666</td>\n",
              "      <td>-0.039404</td>\n",
              "      <td>-0.014008</td>\n",
              "      <td>-0.017117</td>\n",
              "      <td>0.022740</td>\n",
              "      <td>0.017444</td>\n",
              "    </tr>\n",
              "    <tr>\n",
              "      <th>fc</th>\n",
              "      <td>0.033334</td>\n",
              "      <td>0.003593</td>\n",
              "      <td>-0.000434</td>\n",
              "      <td>-0.029123</td>\n",
              "      <td>1.000000</td>\n",
              "      <td>-0.016560</td>\n",
              "      <td>-0.029133</td>\n",
              "      <td>-0.001791</td>\n",
              "      <td>0.023618</td>\n",
              "      <td>-0.013356</td>\n",
              "      <td>0.644595</td>\n",
              "      <td>-0.009990</td>\n",
              "      <td>-0.005176</td>\n",
              "      <td>0.015099</td>\n",
              "      <td>-0.011014</td>\n",
              "      <td>-0.012373</td>\n",
              "      <td>-0.006829</td>\n",
              "      <td>0.001793</td>\n",
              "      <td>-0.014828</td>\n",
              "      <td>0.020085</td>\n",
              "      <td>0.021998</td>\n",
              "    </tr>\n",
              "    <tr>\n",
              "      <th>four_g</th>\n",
              "      <td>0.015665</td>\n",
              "      <td>0.013443</td>\n",
              "      <td>-0.043073</td>\n",
              "      <td>0.003187</td>\n",
              "      <td>-0.016560</td>\n",
              "      <td>1.000000</td>\n",
              "      <td>0.008690</td>\n",
              "      <td>-0.001823</td>\n",
              "      <td>-0.016537</td>\n",
              "      <td>-0.029706</td>\n",
              "      <td>-0.005598</td>\n",
              "      <td>-0.019236</td>\n",
              "      <td>0.007448</td>\n",
              "      <td>0.007313</td>\n",
              "      <td>0.027166</td>\n",
              "      <td>0.037005</td>\n",
              "      <td>-0.046628</td>\n",
              "      <td>0.584246</td>\n",
              "      <td>0.016758</td>\n",
              "      <td>-0.017620</td>\n",
              "      <td>0.014772</td>\n",
              "    </tr>\n",
              "    <tr>\n",
              "      <th>int_memory</th>\n",
              "      <td>-0.004004</td>\n",
              "      <td>0.041177</td>\n",
              "      <td>0.006545</td>\n",
              "      <td>-0.015679</td>\n",
              "      <td>-0.029133</td>\n",
              "      <td>0.008690</td>\n",
              "      <td>1.000000</td>\n",
              "      <td>0.006886</td>\n",
              "      <td>-0.034214</td>\n",
              "      <td>-0.028310</td>\n",
              "      <td>-0.033273</td>\n",
              "      <td>0.010441</td>\n",
              "      <td>-0.008335</td>\n",
              "      <td>0.032813</td>\n",
              "      <td>0.037771</td>\n",
              "      <td>0.011731</td>\n",
              "      <td>-0.002790</td>\n",
              "      <td>-0.009366</td>\n",
              "      <td>-0.026999</td>\n",
              "      <td>0.006993</td>\n",
              "      <td>0.044435</td>\n",
              "    </tr>\n",
              "    <tr>\n",
              "      <th>m_dep</th>\n",
              "      <td>0.034085</td>\n",
              "      <td>0.004049</td>\n",
              "      <td>-0.014364</td>\n",
              "      <td>-0.022142</td>\n",
              "      <td>-0.001791</td>\n",
              "      <td>-0.001823</td>\n",
              "      <td>0.006886</td>\n",
              "      <td>1.000000</td>\n",
              "      <td>0.021756</td>\n",
              "      <td>-0.003504</td>\n",
              "      <td>0.026282</td>\n",
              "      <td>0.025263</td>\n",
              "      <td>0.023566</td>\n",
              "      <td>-0.009434</td>\n",
              "      <td>-0.025348</td>\n",
              "      <td>-0.018388</td>\n",
              "      <td>0.017003</td>\n",
              "      <td>-0.012065</td>\n",
              "      <td>-0.002638</td>\n",
              "      <td>-0.028353</td>\n",
              "      <td>0.000853</td>\n",
              "    </tr>\n",
              "    <tr>\n",
              "      <th>mobile_wt</th>\n",
              "      <td>0.001844</td>\n",
              "      <td>-0.008605</td>\n",
              "      <td>0.012350</td>\n",
              "      <td>-0.008979</td>\n",
              "      <td>0.023618</td>\n",
              "      <td>-0.016537</td>\n",
              "      <td>-0.034214</td>\n",
              "      <td>0.021756</td>\n",
              "      <td>1.000000</td>\n",
              "      <td>-0.018989</td>\n",
              "      <td>0.018844</td>\n",
              "      <td>0.000939</td>\n",
              "      <td>0.000090</td>\n",
              "      <td>-0.002581</td>\n",
              "      <td>-0.033855</td>\n",
              "      <td>-0.020761</td>\n",
              "      <td>0.006209</td>\n",
              "      <td>0.001551</td>\n",
              "      <td>-0.014368</td>\n",
              "      <td>-0.000409</td>\n",
              "      <td>-0.030302</td>\n",
              "    </tr>\n",
              "    <tr>\n",
              "      <th>n_cores</th>\n",
              "      <td>-0.029727</td>\n",
              "      <td>0.036161</td>\n",
              "      <td>-0.005724</td>\n",
              "      <td>-0.024658</td>\n",
              "      <td>-0.013356</td>\n",
              "      <td>-0.029706</td>\n",
              "      <td>-0.028310</td>\n",
              "      <td>-0.003504</td>\n",
              "      <td>-0.018989</td>\n",
              "      <td>1.000000</td>\n",
              "      <td>-0.001193</td>\n",
              "      <td>-0.006872</td>\n",
              "      <td>0.024480</td>\n",
              "      <td>0.004868</td>\n",
              "      <td>-0.000315</td>\n",
              "      <td>0.025826</td>\n",
              "      <td>0.013148</td>\n",
              "      <td>-0.014733</td>\n",
              "      <td>0.023774</td>\n",
              "      <td>-0.009964</td>\n",
              "      <td>0.004399</td>\n",
              "    </tr>\n",
              "    <tr>\n",
              "      <th>pc</th>\n",
              "      <td>0.031441</td>\n",
              "      <td>-0.009952</td>\n",
              "      <td>-0.005245</td>\n",
              "      <td>-0.017143</td>\n",
              "      <td>0.644595</td>\n",
              "      <td>-0.005598</td>\n",
              "      <td>-0.033273</td>\n",
              "      <td>0.026282</td>\n",
              "      <td>0.018844</td>\n",
              "      <td>-0.001193</td>\n",
              "      <td>1.000000</td>\n",
              "      <td>-0.018465</td>\n",
              "      <td>0.004196</td>\n",
              "      <td>0.028984</td>\n",
              "      <td>0.004938</td>\n",
              "      <td>-0.023819</td>\n",
              "      <td>0.014657</td>\n",
              "      <td>-0.001322</td>\n",
              "      <td>-0.008742</td>\n",
              "      <td>0.005389</td>\n",
              "      <td>0.033599</td>\n",
              "    </tr>\n",
              "    <tr>\n",
              "      <th>px_height</th>\n",
              "      <td>0.014901</td>\n",
              "      <td>-0.006872</td>\n",
              "      <td>-0.014523</td>\n",
              "      <td>-0.020875</td>\n",
              "      <td>-0.009990</td>\n",
              "      <td>-0.019236</td>\n",
              "      <td>0.010441</td>\n",
              "      <td>0.025263</td>\n",
              "      <td>0.000939</td>\n",
              "      <td>-0.006872</td>\n",
              "      <td>-0.018465</td>\n",
              "      <td>1.000000</td>\n",
              "      <td>0.510664</td>\n",
              "      <td>-0.020352</td>\n",
              "      <td>0.059615</td>\n",
              "      <td>0.043038</td>\n",
              "      <td>-0.010645</td>\n",
              "      <td>-0.031174</td>\n",
              "      <td>0.021891</td>\n",
              "      <td>0.051824</td>\n",
              "      <td>0.148858</td>\n",
              "    </tr>\n",
              "    <tr>\n",
              "      <th>px_width</th>\n",
              "      <td>-0.008402</td>\n",
              "      <td>-0.041533</td>\n",
              "      <td>-0.009476</td>\n",
              "      <td>0.014291</td>\n",
              "      <td>-0.005176</td>\n",
              "      <td>0.007448</td>\n",
              "      <td>-0.008335</td>\n",
              "      <td>0.023566</td>\n",
              "      <td>0.000090</td>\n",
              "      <td>0.024480</td>\n",
              "      <td>0.004196</td>\n",
              "      <td>0.510664</td>\n",
              "      <td>1.000000</td>\n",
              "      <td>0.004105</td>\n",
              "      <td>0.021599</td>\n",
              "      <td>0.034699</td>\n",
              "      <td>0.006720</td>\n",
              "      <td>0.000350</td>\n",
              "      <td>-0.001628</td>\n",
              "      <td>0.030319</td>\n",
              "      <td>0.165818</td>\n",
              "    </tr>\n",
              "    <tr>\n",
              "      <th>ram</th>\n",
              "      <td>-0.000653</td>\n",
              "      <td>0.026351</td>\n",
              "      <td>0.003443</td>\n",
              "      <td>0.041072</td>\n",
              "      <td>0.015099</td>\n",
              "      <td>0.007313</td>\n",
              "      <td>0.032813</td>\n",
              "      <td>-0.009434</td>\n",
              "      <td>-0.002581</td>\n",
              "      <td>0.004868</td>\n",
              "      <td>0.028984</td>\n",
              "      <td>-0.020352</td>\n",
              "      <td>0.004105</td>\n",
              "      <td>1.000000</td>\n",
              "      <td>0.015996</td>\n",
              "      <td>0.035576</td>\n",
              "      <td>0.010820</td>\n",
              "      <td>0.015795</td>\n",
              "      <td>-0.030455</td>\n",
              "      <td>0.022669</td>\n",
              "      <td>0.917046</td>\n",
              "    </tr>\n",
              "    <tr>\n",
              "      <th>sc_h</th>\n",
              "      <td>-0.029959</td>\n",
              "      <td>-0.002952</td>\n",
              "      <td>-0.029078</td>\n",
              "      <td>-0.011949</td>\n",
              "      <td>-0.011014</td>\n",
              "      <td>0.027166</td>\n",
              "      <td>0.037771</td>\n",
              "      <td>-0.025348</td>\n",
              "      <td>-0.033855</td>\n",
              "      <td>-0.000315</td>\n",
              "      <td>0.004938</td>\n",
              "      <td>0.059615</td>\n",
              "      <td>0.021599</td>\n",
              "      <td>0.015996</td>\n",
              "      <td>1.000000</td>\n",
              "      <td>0.506144</td>\n",
              "      <td>-0.017335</td>\n",
              "      <td>0.012033</td>\n",
              "      <td>-0.020023</td>\n",
              "      <td>0.025929</td>\n",
              "      <td>0.022986</td>\n",
              "    </tr>\n",
              "    <tr>\n",
              "      <th>sc_w</th>\n",
              "      <td>-0.021421</td>\n",
              "      <td>0.000613</td>\n",
              "      <td>-0.007378</td>\n",
              "      <td>-0.016666</td>\n",
              "      <td>-0.012373</td>\n",
              "      <td>0.037005</td>\n",
              "      <td>0.011731</td>\n",
              "      <td>-0.018388</td>\n",
              "      <td>-0.020761</td>\n",
              "      <td>0.025826</td>\n",
              "      <td>-0.023819</td>\n",
              "      <td>0.043038</td>\n",
              "      <td>0.034699</td>\n",
              "      <td>0.035576</td>\n",
              "      <td>0.506144</td>\n",
              "      <td>1.000000</td>\n",
              "      <td>-0.022821</td>\n",
              "      <td>0.030941</td>\n",
              "      <td>0.012720</td>\n",
              "      <td>0.035423</td>\n",
              "      <td>0.038711</td>\n",
              "    </tr>\n",
              "    <tr>\n",
              "      <th>talk_time</th>\n",
              "      <td>0.052510</td>\n",
              "      <td>0.013934</td>\n",
              "      <td>-0.011432</td>\n",
              "      <td>-0.039404</td>\n",
              "      <td>-0.006829</td>\n",
              "      <td>-0.046628</td>\n",
              "      <td>-0.002790</td>\n",
              "      <td>0.017003</td>\n",
              "      <td>0.006209</td>\n",
              "      <td>0.013148</td>\n",
              "      <td>0.014657</td>\n",
              "      <td>-0.010645</td>\n",
              "      <td>0.006720</td>\n",
              "      <td>0.010820</td>\n",
              "      <td>-0.017335</td>\n",
              "      <td>-0.022821</td>\n",
              "      <td>1.000000</td>\n",
              "      <td>-0.042688</td>\n",
              "      <td>0.017196</td>\n",
              "      <td>-0.029504</td>\n",
              "      <td>0.021859</td>\n",
              "    </tr>\n",
              "    <tr>\n",
              "      <th>three_g</th>\n",
              "      <td>0.011522</td>\n",
              "      <td>-0.030236</td>\n",
              "      <td>-0.046433</td>\n",
              "      <td>-0.014008</td>\n",
              "      <td>0.001793</td>\n",
              "      <td>0.584246</td>\n",
              "      <td>-0.009366</td>\n",
              "      <td>-0.012065</td>\n",
              "      <td>0.001551</td>\n",
              "      <td>-0.014733</td>\n",
              "      <td>-0.001322</td>\n",
              "      <td>-0.031174</td>\n",
              "      <td>0.000350</td>\n",
              "      <td>0.015795</td>\n",
              "      <td>0.012033</td>\n",
              "      <td>0.030941</td>\n",
              "      <td>-0.042688</td>\n",
              "      <td>1.000000</td>\n",
              "      <td>0.013917</td>\n",
              "      <td>0.004316</td>\n",
              "      <td>0.023611</td>\n",
              "    </tr>\n",
              "    <tr>\n",
              "      <th>touch_screen</th>\n",
              "      <td>-0.010516</td>\n",
              "      <td>0.010061</td>\n",
              "      <td>0.019756</td>\n",
              "      <td>-0.017117</td>\n",
              "      <td>-0.014828</td>\n",
              "      <td>0.016758</td>\n",
              "      <td>-0.026999</td>\n",
              "      <td>-0.002638</td>\n",
              "      <td>-0.014368</td>\n",
              "      <td>0.023774</td>\n",
              "      <td>-0.008742</td>\n",
              "      <td>0.021891</td>\n",
              "      <td>-0.001628</td>\n",
              "      <td>-0.030455</td>\n",
              "      <td>-0.020023</td>\n",
              "      <td>0.012720</td>\n",
              "      <td>0.017196</td>\n",
              "      <td>0.013917</td>\n",
              "      <td>1.000000</td>\n",
              "      <td>0.011917</td>\n",
              "      <td>-0.030411</td>\n",
              "    </tr>\n",
              "    <tr>\n",
              "      <th>wifi</th>\n",
              "      <td>-0.008343</td>\n",
              "      <td>-0.021863</td>\n",
              "      <td>-0.024471</td>\n",
              "      <td>0.022740</td>\n",
              "      <td>0.020085</td>\n",
              "      <td>-0.017620</td>\n",
              "      <td>0.006993</td>\n",
              "      <td>-0.028353</td>\n",
              "      <td>-0.000409</td>\n",
              "      <td>-0.009964</td>\n",
              "      <td>0.005389</td>\n",
              "      <td>0.051824</td>\n",
              "      <td>0.030319</td>\n",
              "      <td>0.022669</td>\n",
              "      <td>0.025929</td>\n",
              "      <td>0.035423</td>\n",
              "      <td>-0.029504</td>\n",
              "      <td>0.004316</td>\n",
              "      <td>0.011917</td>\n",
              "      <td>1.000000</td>\n",
              "      <td>0.018785</td>\n",
              "    </tr>\n",
              "    <tr>\n",
              "      <th>price_range</th>\n",
              "      <td>0.200723</td>\n",
              "      <td>0.020573</td>\n",
              "      <td>-0.006606</td>\n",
              "      <td>0.017444</td>\n",
              "      <td>0.021998</td>\n",
              "      <td>0.014772</td>\n",
              "      <td>0.044435</td>\n",
              "      <td>0.000853</td>\n",
              "      <td>-0.030302</td>\n",
              "      <td>0.004399</td>\n",
              "      <td>0.033599</td>\n",
              "      <td>0.148858</td>\n",
              "      <td>0.165818</td>\n",
              "      <td>0.917046</td>\n",
              "      <td>0.022986</td>\n",
              "      <td>0.038711</td>\n",
              "      <td>0.021859</td>\n",
              "      <td>0.023611</td>\n",
              "      <td>-0.030411</td>\n",
              "      <td>0.018785</td>\n",
              "      <td>1.000000</td>\n",
              "    </tr>\n",
              "  </tbody>\n",
              "</table>\n",
              "</div>"
            ],
            "text/plain": [
              "               battery_power      blue  ...      wifi  price_range\n",
              "battery_power       1.000000  0.011252  ... -0.008343     0.200723\n",
              "blue                0.011252  1.000000  ... -0.021863     0.020573\n",
              "clock_speed         0.011482  0.021419  ... -0.024471    -0.006606\n",
              "dual_sim           -0.041847  0.035198  ...  0.022740     0.017444\n",
              "fc                  0.033334  0.003593  ...  0.020085     0.021998\n",
              "four_g              0.015665  0.013443  ... -0.017620     0.014772\n",
              "int_memory         -0.004004  0.041177  ...  0.006993     0.044435\n",
              "m_dep               0.034085  0.004049  ... -0.028353     0.000853\n",
              "mobile_wt           0.001844 -0.008605  ... -0.000409    -0.030302\n",
              "n_cores            -0.029727  0.036161  ... -0.009964     0.004399\n",
              "pc                  0.031441 -0.009952  ...  0.005389     0.033599\n",
              "px_height           0.014901 -0.006872  ...  0.051824     0.148858\n",
              "px_width           -0.008402 -0.041533  ...  0.030319     0.165818\n",
              "ram                -0.000653  0.026351  ...  0.022669     0.917046\n",
              "sc_h               -0.029959 -0.002952  ...  0.025929     0.022986\n",
              "sc_w               -0.021421  0.000613  ...  0.035423     0.038711\n",
              "talk_time           0.052510  0.013934  ... -0.029504     0.021859\n",
              "three_g             0.011522 -0.030236  ...  0.004316     0.023611\n",
              "touch_screen       -0.010516  0.010061  ...  0.011917    -0.030411\n",
              "wifi               -0.008343 -0.021863  ...  1.000000     0.018785\n",
              "price_range         0.200723  0.020573  ...  0.018785     1.000000\n",
              "\n",
              "[21 rows x 21 columns]"
            ]
          },
          "metadata": {
            "tags": []
          },
          "execution_count": 47
        }
      ]
    },
    {
      "cell_type": "code",
      "metadata": {
        "colab": {
          "base_uri": "https://localhost:8080/",
          "height": 671
        },
        "id": "P6Tj9r7iPe5H",
        "outputId": "fcb60664-8d3e-4062-ef48-40f5f7d100a8"
      },
      "source": [
        "corr= df.iloc[:,:-1].corr()\n",
        "\n",
        "# Getting the Upper Triangle of the co-relation matrix\n",
        "matrix = np.triu(corr)\n",
        "plt.figure(figsize=(20,10))\n",
        "# using the upper triangle matrix as mask \n",
        "sns.heatmap(corr, annot=True, mask=matrix)"
      ],
      "execution_count": 54,
      "outputs": [
        {
          "output_type": "execute_result",
          "data": {
            "text/plain": [
              "<matplotlib.axes._subplots.AxesSubplot at 0x7fb48ce0d190>"
            ]
          },
          "metadata": {
            "tags": []
          },
          "execution_count": 54
        },
        {
          "output_type": "display_data",
          "data": {
            "image/png": "[encoded data removed]",
            "text/plain": [
              "<Figure size 1440x720 with 2 Axes>"
            ]
          },
          "metadata": {
            "tags": [],
            "needs_background": "light"
          }
        }
      ]
    },
    {
      "cell_type": "markdown",
      "metadata": {
        "id": "MyyppLopTZE5"
      },
      "source": [
        "## Mutual information classification"
      ]
    },
    {
      "cell_type": "code",
      "metadata": {
        "id": "c9EayCiFQAqj"
      },
      "source": [
        "from sklearn.feature_selection import mutual_info_classif"
      ],
      "execution_count": 55,
      "outputs": []
    },
    {
      "cell_type": "code",
      "metadata": {
        "colab": {
          "base_uri": "https://localhost:8080/",
          "height": 282
        },
        "id": "-gmyOoyFTh7n",
        "outputId": "8efc194b-958b-4d3e-f8eb-f6fa5eb8776d"
      },
      "source": [
        "mutual_info=mutual_info_classif(x,y)\n",
        "mutual_info=pd.DataFrame(mutual_info,index=x.columns,columns=['Score'])\n",
        "mutual_info.nlargest(6,'Score').plot(kind='barh')"
      ],
      "execution_count": 61,
      "outputs": [
        {
          "output_type": "execute_result",
          "data": {
            "text/plain": [
              "<matplotlib.axes._subplots.AxesSubplot at 0x7fb48b1a0090>"
            ]
          },
          "metadata": {
            "tags": []
          },
          "execution_count": 61
        },
        {
          "output_type": "display_data",
          "data": {
            "image/png": "[encoded data removed]",
            "text/plain": [
              "<Figure size 432x288 with 1 Axes>"
            ]
          },
          "metadata": {
            "tags": [],
            "needs_background": "light"
          }
        }
      ]
    },
    {
      "cell_type": "code",
      "metadata": {
        "colab": {
          "base_uri": "https://localhost:8080/",
          "height": 778
        },
        "id": "poXxffPuTw8J",
        "outputId": "c82fd77a-6a05-4a40-ab80-a5ba12cc9d36"
      },
      "source": [
        "features_rank.nlargest(5,'Score').plot(kind='barh')\n",
        "feature_imp.nlargest(5,'Feature_imp').plot(kind='barh')\n",
        "mutual_info.nlargest(6,'Score').plot(kind='barh')\n"
      ],
      "execution_count": 62,
      "outputs": [
        {
          "output_type": "execute_result",
          "data": {
            "text/plain": [
              "<matplotlib.axes._subplots.AxesSubplot at 0x7fb48b042d90>"
            ]
          },
          "metadata": {
            "tags": []
          },
          "execution_count": 62
        },
        {
          "output_type": "display_data",
          "data": {
            "image/png": "[encoded data removed]",
            "text/plain": [
              "<Figure size 432x288 with 1 Axes>"
            ]
          },
          "metadata": {
            "tags": [],
            "needs_background": "light"
          }
        },
        {
          "output_type": "display_data",
          "data": {
            "image/png": "[encoded data removed]",
            "text/plain": [
              "<Figure size 432x288 with 1 Axes>"
            ]
          },
          "metadata": {
            "tags": [],
            "needs_background": "light"
          }
        },
        {
          "output_type": "display_data",
          "data": {
            "image/png": "[encoded data removed]",
            "text/plain": [
              "<Figure size 432x288 with 1 Axes>"
            ]
          },
          "metadata": {
            "tags": [],
            "needs_background": "light"
          }
        }
      ]
    },
    {
      "cell_type": "code",
      "metadata": {
        "id": "mviUa5x6UTYr"
      },
      "source": [
        ""
      ],
      "execution_count": null,
      "outputs": []
    }
  ]
}