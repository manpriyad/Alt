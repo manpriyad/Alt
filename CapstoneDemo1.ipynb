{
  "nbformat": 4,
  "nbformat_minor": 0,
  "metadata": {
    "colab": {
      "name": "CapstoneDemo1.ipynb",
      "provenance": [],
      "collapsed_sections": [],
      "authorship_tag": "ABX9TyMinB9+fxL1H7hFYs9MoBAl",
      "include_colab_link": true
    },
    "kernelspec": {
      "name": "python3",
      "display_name": "Python 3"
    },
    "language_info": {
      "name": "python"
    }
  },
  "cells": [
    {
      "cell_type": "markdown",
      "metadata": {
        "id": "view-in-github",
        "colab_type": "text"
      },
      "source": [
        "<a href=\"https://colab.research.google.com/github/manpriyad/Alt/blob/master/CapstoneDemo1.ipynb\" target=\"_parent\"><img src=\"https://colab.research.google.com/assets/colab-badge.svg\" alt=\"Open In Colab\"/></a>"
      ]
    },
    {
      "cell_type": "markdown",
      "metadata": {
        "id": "Q-rtP_8_dqLe"
      },
      "source": [
        "**Credit Risk**"
      ]
    },
    {
      "cell_type": "markdown",
      "metadata": {
        "id": "gJ1zsQFMbbVy"
      },
      "source": [
        "Creditors provide Loan to Borrowers. Based on trust, Borrower is suppose to repay the lender at some point in future.\n",
        "\n",
        "Likelihood that Borrower will not repay to creditor is known as Credit Risk. \n",
        "\n",
        "Before providing Loan , creditors must assess Credit Risk associated with each borrower. "
      ]
    },
    {
      "cell_type": "markdown",
      "metadata": {
        "id": "bU6a8ITbdh0E"
      },
      "source": [
        "**Financial Impact :**"
      ]
    },
    {
      "cell_type": "markdown",
      "metadata": {
        "id": "iWFvThREcTbo"
      },
      "source": [
        "Lending Loans to Borrowers with high probability of default led to 2008 Financial crisis. "
      ]
    },
    {
      "cell_type": "markdown",
      "metadata": {
        "id": "oZGoorIVcvJW"
      },
      "source": [
        "**Problem Statement :**"
      ]
    },
    {
      "cell_type": "markdown",
      "metadata": {
        "id": "ckmk85jnc0fq"
      },
      "source": [
        "Aim to identify patterns which indicate if a person is likely to default Loan.\n",
        "This information can be used by Creditors for denying or reducing the amount of Loan."
      ]
    },
    {
      "cell_type": "markdown",
      "metadata": {
        "id": "AdOS1bv-dKJ_"
      },
      "source": [
        "**Business Problem :**"
      ]
    },
    {
      "cell_type": "markdown",
      "metadata": {
        "id": "Ly9INIfFdTpe"
      },
      "source": [
        "Build a model which will give a more comprehensive assessment of Borrowers which will help to identify potential defaulters"
      ]
    },
    {
      "cell_type": "code",
      "metadata": {
        "id": "oRNQPXCkctIS"
      },
      "source": [
        ""
      ],
      "execution_count": null,
      "outputs": []
    },
    {
      "cell_type": "code",
      "metadata": {
        "id": "atrZZ5eCyHv4"
      },
      "source": [
        "\n",
        "import matplotlib.pyplot as plt\n",
        "import numpy as np\n",
        "import pandas as pd\n",
        "\n",
        "import seaborn as sns\n",
        "\n",
        "%matplotlib inline\n",
        "import warnings\n",
        "warnings.filterwarnings(\"ignore\")"
      ],
      "execution_count": 235,
      "outputs": []
    },
    {
      "cell_type": "code",
      "metadata": {
        "colab": {
          "base_uri": "https://localhost:8080/"
        },
        "id": "YA7dcZTr3-ZJ",
        "outputId": "c98274fb-f084-4b51-a993-120048a89019"
      },
      "source": [
        "from google.colab import drive\n",
        "drive.mount('/content/drive')"
      ],
      "execution_count": 2,
      "outputs": [
        {
          "output_type": "stream",
          "text": [
            "Mounted at /content/drive\n"
          ],
          "name": "stdout"
        }
      ]
    },
    {
      "cell_type": "code",
      "metadata": {
        "id": "miyU7A5MzIBD"
      },
      "source": [
        "# df=pd.read_csv('/content/loan.csv')\n",
        "df_description=pd.read_excel('/content/drive/MyDrive/manish/ms/LCDataDictionary.xlsx')\n",
        "df=pd.read_csv('/content/drive/MyDrive/manish/ms/loan_data_2007_2014.csv')\n",
        "\n"
      ],
      "execution_count": 237,
      "outputs": []
    },
    {
      "cell_type": "code",
      "metadata": {
        "colab": {
          "base_uri": "https://localhost:8080/",
          "height": 199
        },
        "id": "WNVXhc0KzTT5",
        "outputId": "e585961a-cd9b-4d9f-f1e0-d5189ff71dd8"
      },
      "source": [
        "df_description.head()"
      ],
      "execution_count": 238,
      "outputs": [
        {
          "output_type": "execute_result",
          "data": {
            "text/html": [
              "<div>\n",
              "<style scoped>\n",
              "    .dataframe tbody tr th:only-of-type {\n",
              "        vertical-align: middle;\n",
              "    }\n",
              "\n",
              "    .dataframe tbody tr th {\n",
              "        vertical-align: top;\n",
              "    }\n",
              "\n",
              "    .dataframe thead th {\n",
              "        text-align: right;\n",
              "    }\n",
              "</style>\n",
              "<table border=\"1\" class=\"dataframe\">\n",
              "  <thead>\n",
              "    <tr style=\"text-align: right;\">\n",
              "      <th></th>\n",
              "      <th>LoanStatNew</th>\n",
              "      <th>Description</th>\n",
              "    </tr>\n",
              "  </thead>\n",
              "  <tbody>\n",
              "    <tr>\n",
              "      <th>0</th>\n",
              "      <td>addr_state</td>\n",
              "      <td>The state provided by the borrower in the loan...</td>\n",
              "    </tr>\n",
              "    <tr>\n",
              "      <th>1</th>\n",
              "      <td>annual_inc</td>\n",
              "      <td>The self-reported annual income provided by th...</td>\n",
              "    </tr>\n",
              "    <tr>\n",
              "      <th>2</th>\n",
              "      <td>annual_inc_joint</td>\n",
              "      <td>The combined self-reported annual income provi...</td>\n",
              "    </tr>\n",
              "    <tr>\n",
              "      <th>3</th>\n",
              "      <td>application_type</td>\n",
              "      <td>Indicates whether the loan is an individual ap...</td>\n",
              "    </tr>\n",
              "    <tr>\n",
              "      <th>4</th>\n",
              "      <td>collection_recovery_fee</td>\n",
              "      <td>post charge off collection fee</td>\n",
              "    </tr>\n",
              "  </tbody>\n",
              "</table>\n",
              "</div>"
            ],
            "text/plain": [
              "               LoanStatNew                                        Description\n",
              "0               addr_state  The state provided by the borrower in the loan...\n",
              "1               annual_inc  The self-reported annual income provided by th...\n",
              "2         annual_inc_joint  The combined self-reported annual income provi...\n",
              "3         application_type  Indicates whether the loan is an individual ap...\n",
              "4  collection_recovery_fee                     post charge off collection fee"
            ]
          },
          "metadata": {
            "tags": []
          },
          "execution_count": 238
        }
      ]
    },
    {
      "cell_type": "code",
      "metadata": {
        "id": "jeMfpBgdzadw"
      },
      "source": [
        "df.set_index('id')\n",
        "df.drop('Unnamed: 0',inplace=True,axis=1)"
      ],
      "execution_count": 239,
      "outputs": []
    },
    {
      "cell_type": "code",
      "metadata": {
        "colab": {
          "base_uri": "https://localhost:8080/",
          "height": 345
        },
        "id": "gfudPej37Df9",
        "outputId": "36755d66-f75f-4094-8e7a-3a6250bef048"
      },
      "source": [
        "df.head(3)"
      ],
      "execution_count": 240,
      "outputs": [
        {
          "output_type": "execute_result",
          "data": {
            "text/html": [
              "<div>\n",
              "<style scoped>\n",
              "    .dataframe tbody tr th:only-of-type {\n",
              "        vertical-align: middle;\n",
              "    }\n",
              "\n",
              "    .dataframe tbody tr th {\n",
              "        vertical-align: top;\n",
              "    }\n",
              "\n",
              "    .dataframe thead th {\n",
              "        text-align: right;\n",
              "    }\n",
              "</style>\n",
              "<table border=\"1\" class=\"dataframe\">\n",
              "  <thead>\n",
              "    <tr style=\"text-align: right;\">\n",
              "      <th></th>\n",
              "      <th>id</th>\n",
              "      <th>member_id</th>\n",
              "      <th>loan_amnt</th>\n",
              "      <th>funded_amnt</th>\n",
              "      <th>funded_amnt_inv</th>\n",
              "      <th>term</th>\n",
              "      <th>int_rate</th>\n",
              "      <th>installment</th>\n",
              "      <th>grade</th>\n",
              "      <th>sub_grade</th>\n",
              "      <th>emp_title</th>\n",
              "      <th>emp_length</th>\n",
              "      <th>home_ownership</th>\n",
              "      <th>annual_inc</th>\n",
              "      <th>verification_status</th>\n",
              "      <th>issue_d</th>\n",
              "      <th>loan_status</th>\n",
              "      <th>pymnt_plan</th>\n",
              "      <th>url</th>\n",
              "      <th>desc</th>\n",
              "      <th>purpose</th>\n",
              "      <th>title</th>\n",
              "      <th>zip_code</th>\n",
              "      <th>addr_state</th>\n",
              "      <th>dti</th>\n",
              "      <th>delinq_2yrs</th>\n",
              "      <th>earliest_cr_line</th>\n",
              "      <th>inq_last_6mths</th>\n",
              "      <th>mths_since_last_delinq</th>\n",
              "      <th>mths_since_last_record</th>\n",
              "      <th>open_acc</th>\n",
              "      <th>pub_rec</th>\n",
              "      <th>revol_bal</th>\n",
              "      <th>revol_util</th>\n",
              "      <th>total_acc</th>\n",
              "      <th>initial_list_status</th>\n",
              "      <th>out_prncp</th>\n",
              "      <th>out_prncp_inv</th>\n",
              "      <th>total_pymnt</th>\n",
              "      <th>total_pymnt_inv</th>\n",
              "      <th>total_rec_prncp</th>\n",
              "      <th>total_rec_int</th>\n",
              "      <th>total_rec_late_fee</th>\n",
              "      <th>recoveries</th>\n",
              "      <th>collection_recovery_fee</th>\n",
              "      <th>last_pymnt_d</th>\n",
              "      <th>last_pymnt_amnt</th>\n",
              "      <th>next_pymnt_d</th>\n",
              "      <th>last_credit_pull_d</th>\n",
              "      <th>collections_12_mths_ex_med</th>\n",
              "      <th>mths_since_last_major_derog</th>\n",
              "      <th>policy_code</th>\n",
              "      <th>application_type</th>\n",
              "      <th>annual_inc_joint</th>\n",
              "      <th>dti_joint</th>\n",
              "      <th>verification_status_joint</th>\n",
              "      <th>acc_now_delinq</th>\n",
              "      <th>tot_coll_amt</th>\n",
              "      <th>tot_cur_bal</th>\n",
              "      <th>open_acc_6m</th>\n",
              "      <th>open_il_6m</th>\n",
              "      <th>open_il_12m</th>\n",
              "      <th>open_il_24m</th>\n",
              "      <th>mths_since_rcnt_il</th>\n",
              "      <th>total_bal_il</th>\n",
              "      <th>il_util</th>\n",
              "      <th>open_rv_12m</th>\n",
              "      <th>open_rv_24m</th>\n",
              "      <th>max_bal_bc</th>\n",
              "      <th>all_util</th>\n",
              "      <th>total_rev_hi_lim</th>\n",
              "      <th>inq_fi</th>\n",
              "      <th>total_cu_tl</th>\n",
              "      <th>inq_last_12m</th>\n",
              "    </tr>\n",
              "  </thead>\n",
              "  <tbody>\n",
              "    <tr>\n",
              "      <th>0</th>\n",
              "      <td>1077501</td>\n",
              "      <td>1296599</td>\n",
              "      <td>5000</td>\n",
              "      <td>5000</td>\n",
              "      <td>4975.0</td>\n",
              "      <td>36 months</td>\n",
              "      <td>10.65</td>\n",
              "      <td>162.87</td>\n",
              "      <td>B</td>\n",
              "      <td>B2</td>\n",
              "      <td>NaN</td>\n",
              "      <td>10+ years</td>\n",
              "      <td>RENT</td>\n",
              "      <td>24000.0</td>\n",
              "      <td>Verified</td>\n",
              "      <td>Dec-11</td>\n",
              "      <td>Fully Paid</td>\n",
              "      <td>n</td>\n",
              "      <td>https://www.lendingclub.com/browse/loanDetail....</td>\n",
              "      <td>Borrower added on 12/22/11 &gt; I need to upgra...</td>\n",
              "      <td>credit_card</td>\n",
              "      <td>Computer</td>\n",
              "      <td>860xx</td>\n",
              "      <td>AZ</td>\n",
              "      <td>27.65</td>\n",
              "      <td>0.0</td>\n",
              "      <td>Jan-85</td>\n",
              "      <td>1.0</td>\n",
              "      <td>NaN</td>\n",
              "      <td>NaN</td>\n",
              "      <td>3.0</td>\n",
              "      <td>0.0</td>\n",
              "      <td>13648</td>\n",
              "      <td>83.7</td>\n",
              "      <td>9.0</td>\n",
              "      <td>f</td>\n",
              "      <td>0.0</td>\n",
              "      <td>0.0</td>\n",
              "      <td>5861.071414</td>\n",
              "      <td>5831.78</td>\n",
              "      <td>5000.00</td>\n",
              "      <td>861.07</td>\n",
              "      <td>0.0</td>\n",
              "      <td>0.00</td>\n",
              "      <td>0.00</td>\n",
              "      <td>Jan-15</td>\n",
              "      <td>171.62</td>\n",
              "      <td>NaN</td>\n",
              "      <td>Jan-16</td>\n",
              "      <td>0.0</td>\n",
              "      <td>NaN</td>\n",
              "      <td>1</td>\n",
              "      <td>INDIVIDUAL</td>\n",
              "      <td>NaN</td>\n",
              "      <td>NaN</td>\n",
              "      <td>NaN</td>\n",
              "      <td>0.0</td>\n",
              "      <td>NaN</td>\n",
              "      <td>NaN</td>\n",
              "      <td>NaN</td>\n",
              "      <td>NaN</td>\n",
              "      <td>NaN</td>\n",
              "      <td>NaN</td>\n",
              "      <td>NaN</td>\n",
              "      <td>NaN</td>\n",
              "      <td>NaN</td>\n",
              "      <td>NaN</td>\n",
              "      <td>NaN</td>\n",
              "      <td>NaN</td>\n",
              "      <td>NaN</td>\n",
              "      <td>NaN</td>\n",
              "      <td>NaN</td>\n",
              "      <td>NaN</td>\n",
              "      <td>NaN</td>\n",
              "    </tr>\n",
              "    <tr>\n",
              "      <th>1</th>\n",
              "      <td>1077430</td>\n",
              "      <td>1314167</td>\n",
              "      <td>2500</td>\n",
              "      <td>2500</td>\n",
              "      <td>2500.0</td>\n",
              "      <td>60 months</td>\n",
              "      <td>15.27</td>\n",
              "      <td>59.83</td>\n",
              "      <td>C</td>\n",
              "      <td>C4</td>\n",
              "      <td>Ryder</td>\n",
              "      <td>&lt; 1 year</td>\n",
              "      <td>RENT</td>\n",
              "      <td>30000.0</td>\n",
              "      <td>Source Verified</td>\n",
              "      <td>Dec-11</td>\n",
              "      <td>Charged Off</td>\n",
              "      <td>n</td>\n",
              "      <td>https://www.lendingclub.com/browse/loanDetail....</td>\n",
              "      <td>Borrower added on 12/22/11 &gt; I plan to use t...</td>\n",
              "      <td>car</td>\n",
              "      <td>bike</td>\n",
              "      <td>309xx</td>\n",
              "      <td>GA</td>\n",
              "      <td>1.00</td>\n",
              "      <td>0.0</td>\n",
              "      <td>Apr-99</td>\n",
              "      <td>5.0</td>\n",
              "      <td>NaN</td>\n",
              "      <td>NaN</td>\n",
              "      <td>3.0</td>\n",
              "      <td>0.0</td>\n",
              "      <td>1687</td>\n",
              "      <td>9.4</td>\n",
              "      <td>4.0</td>\n",
              "      <td>f</td>\n",
              "      <td>0.0</td>\n",
              "      <td>0.0</td>\n",
              "      <td>1008.710000</td>\n",
              "      <td>1008.71</td>\n",
              "      <td>456.46</td>\n",
              "      <td>435.17</td>\n",
              "      <td>0.0</td>\n",
              "      <td>117.08</td>\n",
              "      <td>1.11</td>\n",
              "      <td>Apr-13</td>\n",
              "      <td>119.66</td>\n",
              "      <td>NaN</td>\n",
              "      <td>Sep-13</td>\n",
              "      <td>0.0</td>\n",
              "      <td>NaN</td>\n",
              "      <td>1</td>\n",
              "      <td>INDIVIDUAL</td>\n",
              "      <td>NaN</td>\n",
              "      <td>NaN</td>\n",
              "      <td>NaN</td>\n",
              "      <td>0.0</td>\n",
              "      <td>NaN</td>\n",
              "      <td>NaN</td>\n",
              "      <td>NaN</td>\n",
              "      <td>NaN</td>\n",
              "      <td>NaN</td>\n",
              "      <td>NaN</td>\n",
              "      <td>NaN</td>\n",
              "      <td>NaN</td>\n",
              "      <td>NaN</td>\n",
              "      <td>NaN</td>\n",
              "      <td>NaN</td>\n",
              "      <td>NaN</td>\n",
              "      <td>NaN</td>\n",
              "      <td>NaN</td>\n",
              "      <td>NaN</td>\n",
              "      <td>NaN</td>\n",
              "      <td>NaN</td>\n",
              "    </tr>\n",
              "    <tr>\n",
              "      <th>2</th>\n",
              "      <td>1077175</td>\n",
              "      <td>1313524</td>\n",
              "      <td>2400</td>\n",
              "      <td>2400</td>\n",
              "      <td>2400.0</td>\n",
              "      <td>36 months</td>\n",
              "      <td>15.96</td>\n",
              "      <td>84.33</td>\n",
              "      <td>C</td>\n",
              "      <td>C5</td>\n",
              "      <td>NaN</td>\n",
              "      <td>10+ years</td>\n",
              "      <td>RENT</td>\n",
              "      <td>12252.0</td>\n",
              "      <td>Not Verified</td>\n",
              "      <td>Dec-11</td>\n",
              "      <td>Fully Paid</td>\n",
              "      <td>n</td>\n",
              "      <td>https://www.lendingclub.com/browse/loanDetail....</td>\n",
              "      <td>NaN</td>\n",
              "      <td>small_business</td>\n",
              "      <td>real estate business</td>\n",
              "      <td>606xx</td>\n",
              "      <td>IL</td>\n",
              "      <td>8.72</td>\n",
              "      <td>0.0</td>\n",
              "      <td>Nov-01</td>\n",
              "      <td>2.0</td>\n",
              "      <td>NaN</td>\n",
              "      <td>NaN</td>\n",
              "      <td>2.0</td>\n",
              "      <td>0.0</td>\n",
              "      <td>2956</td>\n",
              "      <td>98.5</td>\n",
              "      <td>10.0</td>\n",
              "      <td>f</td>\n",
              "      <td>0.0</td>\n",
              "      <td>0.0</td>\n",
              "      <td>3003.653644</td>\n",
              "      <td>3003.65</td>\n",
              "      <td>2400.00</td>\n",
              "      <td>603.65</td>\n",
              "      <td>0.0</td>\n",
              "      <td>0.00</td>\n",
              "      <td>0.00</td>\n",
              "      <td>Jun-14</td>\n",
              "      <td>649.91</td>\n",
              "      <td>NaN</td>\n",
              "      <td>Jan-16</td>\n",
              "      <td>0.0</td>\n",
              "      <td>NaN</td>\n",
              "      <td>1</td>\n",
              "      <td>INDIVIDUAL</td>\n",
              "      <td>NaN</td>\n",
              "      <td>NaN</td>\n",
              "      <td>NaN</td>\n",
              "      <td>0.0</td>\n",
              "      <td>NaN</td>\n",
              "      <td>NaN</td>\n",
              "      <td>NaN</td>\n",
              "      <td>NaN</td>\n",
              "      <td>NaN</td>\n",
              "      <td>NaN</td>\n",
              "      <td>NaN</td>\n",
              "      <td>NaN</td>\n",
              "      <td>NaN</td>\n",
              "      <td>NaN</td>\n",
              "      <td>NaN</td>\n",
              "      <td>NaN</td>\n",
              "      <td>NaN</td>\n",
              "      <td>NaN</td>\n",
              "      <td>NaN</td>\n",
              "      <td>NaN</td>\n",
              "      <td>NaN</td>\n",
              "    </tr>\n",
              "  </tbody>\n",
              "</table>\n",
              "</div>"
            ],
            "text/plain": [
              "        id  member_id  loan_amnt  ...  inq_fi  total_cu_tl inq_last_12m\n",
              "0  1077501    1296599       5000  ...     NaN          NaN          NaN\n",
              "1  1077430    1314167       2500  ...     NaN          NaN          NaN\n",
              "2  1077175    1313524       2400  ...     NaN          NaN          NaN\n",
              "\n",
              "[3 rows x 74 columns]"
            ]
          },
          "metadata": {
            "tags": []
          },
          "execution_count": 240
        }
      ]
    },
    {
      "cell_type": "code",
      "metadata": {
        "colab": {
          "base_uri": "https://localhost:8080/"
        },
        "id": "opbuSHumW8OJ",
        "outputId": "7d5b2fe8-7bc6-4102-9aa9-88c6ba35d8bc"
      },
      "source": [
        "df['application_type'].value_counts()"
      ],
      "execution_count": 241,
      "outputs": [
        {
          "output_type": "execute_result",
          "data": {
            "text/plain": [
              "INDIVIDUAL    466285\n",
              "Name: application_type, dtype: int64"
            ]
          },
          "metadata": {
            "tags": []
          },
          "execution_count": 241
        }
      ]
    },
    {
      "cell_type": "code",
      "metadata": {
        "id": "QdoQdKy37_Hm"
      },
      "source": [
        "categorical_cols = ['grade', 'sub_grade', 'purpose', 'loan_status', 'home_ownership', 'emp_length', 'application_type']\n",
        "id_cols = ['member_id',]\n",
        "time_cols = ['term', 'mths_since_last_record', 'issue_d', 'last_pymnt_d', 'next_pymnt_d']\n",
        "status_cols = ['loan_status', 'verification_status', 'initial_list_status']\n",
        "location_cols = ['zip_code', 'addr_state']\n",
        "numerical_cols = ['loan_amnt', 'funded_amnt', 'funded_amnt_inv', 'int_rate', \\\n",
        "                  'total_pymnt', 'annual_inc', 'installment', 'open_acc', 'dti', 'emp_length' , 'out_prncp']\n",
        "desc_cols = ['url', 'desc', 'title']"
      ],
      "execution_count": 242,
      "outputs": []
    },
    {
      "cell_type": "code",
      "metadata": {
        "id": "5mrqsOO3VANk"
      },
      "source": [
        "df.drop(['url','desc','zip_code','emp_title','title','id','member_id','application_type'],axis=1,inplace=True)"
      ],
      "execution_count": 243,
      "outputs": []
    },
    {
      "cell_type": "code",
      "metadata": {
        "colab": {
          "base_uri": "https://localhost:8080/"
        },
        "id": "XCTxxuca9Rum",
        "outputId": "cc1559fd-aa50-4226-aaa9-68993b17e7b8"
      },
      "source": [
        "df.shape"
      ],
      "execution_count": 244,
      "outputs": [
        {
          "output_type": "execute_result",
          "data": {
            "text/plain": [
              "(466285, 66)"
            ]
          },
          "metadata": {
            "tags": []
          },
          "execution_count": 244
        }
      ]
    },
    {
      "cell_type": "code",
      "metadata": {
        "colab": {
          "base_uri": "https://localhost:8080/",
          "height": 297
        },
        "id": "ADpMisof9nnJ",
        "outputId": "cbd1918e-45f8-42e6-d871-ce22e44b1e5e"
      },
      "source": [
        "sns.countplot(df['term'])"
      ],
      "execution_count": 245,
      "outputs": [
        {
          "output_type": "execute_result",
          "data": {
            "text/plain": [
              "<matplotlib.axes._subplots.AxesSubplot at 0x7ff1caba5b10>"
            ]
          },
          "metadata": {
            "tags": []
          },
          "execution_count": 245
        },
        {
          "output_type": "display_data",
          "data": {
            "image/png": "[encoded data removed]",
            "text/plain": [
              "<Figure size 432x288 with 1 Axes>"
            ]
          },
          "metadata": {
            "tags": [],
            "needs_background": "light"
          }
        }
      ]
    },
    {
      "cell_type": "code",
      "metadata": {
        "colab": {
          "base_uri": "https://localhost:8080/",
          "height": 742
        },
        "id": "MYU6lr7297_P",
        "outputId": "5818d582-5816-4a11-9736-9f33289e9ec5"
      },
      "source": [
        "plt.figure(figsize=(25,15))\n",
        "sns.countplot(df['loan_status'])\n",
        "plt.xticks(rotation=45)"
      ],
      "execution_count": 246,
      "outputs": [
        {
          "output_type": "execute_result",
          "data": {
            "text/plain": [
              "(array([0, 1, 2, 3, 4, 5, 6, 7, 8]),\n",
              " <a list of 9 Text major ticklabel objects>)"
            ]
          },
          "metadata": {
            "tags": []
          },
          "execution_count": 246
        },
        {
          "output_type": "display_data",
          "data": {
            "image/png": "[encoded data removed]",
            "text/plain": [
              "<Figure size 1800x1080 with 1 Axes>"
            ]
          },
          "metadata": {
            "tags": [],
            "needs_background": "light"
          }
        }
      ]
    },
    {
      "cell_type": "markdown",
      "metadata": {
        "id": "8n_5tB4cNc7p"
      },
      "source": [
        "Removing records with loan status as \"Current\", as the loan is currently running and we can't infer any information regarding default from such loans."
      ]
    },
    {
      "cell_type": "code",
      "metadata": {
        "id": "aZUkEzjTNeUB"
      },
      "source": [
        "df=df[df['loan_status']!='Current']"
      ],
      "execution_count": 247,
      "outputs": []
    },
    {
      "cell_type": "code",
      "metadata": {
        "colab": {
          "base_uri": "https://localhost:8080/",
          "height": 305
        },
        "id": "fjOu1pwyNqw6",
        "outputId": "48d4713f-1273-449b-f5cc-41280485c810"
      },
      "source": [
        "plt.figure(figsize=(55,15))\n",
        "sns.countplot(df['loan_status'])"
      ],
      "execution_count": 248,
      "outputs": [
        {
          "output_type": "execute_result",
          "data": {
            "text/plain": [
              "<matplotlib.axes._subplots.AxesSubplot at 0x7ff1cab95950>"
            ]
          },
          "metadata": {
            "tags": []
          },
          "execution_count": 248
        },
        {
          "output_type": "display_data",
          "data": {
            "image/png": "[encoded data removed]",
            "text/plain": [
              "<Figure size 3960x1080 with 1 Axes>"
            ]
          },
          "metadata": {
            "tags": [],
            "needs_background": "light"
          }
        }
      ]
    },
    {
      "cell_type": "code",
      "metadata": {
        "colab": {
          "base_uri": "https://localhost:8080/",
          "height": 763
        },
        "id": "06qwlkmXLqHw",
        "outputId": "c1e54049-1d1e-41f3-ead9-d8a7756915be"
      },
      "source": [
        "plt.figure(figsize=(20,15))\n",
        "sns.countplot(df['emp_length'])\n",
        "plt.xticks(rotation=45)\n",
        "plt.show()\n"
      ],
      "execution_count": 249,
      "outputs": [
        {
          "output_type": "display_data",
          "data": {
            "image/png": "[encoded data removed]",
            "text/plain": [
              "<Figure size 1440x1080 with 1 Axes>"
            ]
          },
          "metadata": {
            "tags": [],
            "needs_background": "light"
          }
        }
      ]
    },
    {
      "cell_type": "code",
      "metadata": {
        "colab": {
          "base_uri": "https://localhost:8080/"
        },
        "id": "-3pqYaj9CmML",
        "outputId": "c4b66ddd-c532-4b34-c92f-3d2141f0e048"
      },
      "source": [
        "\n",
        "missing_value_cnt = df.isnull().sum()\n",
        "percentage = 100 * df.isnull().sum() / len(df)\n",
        "data_types = df.dtypes\n",
        "missing_values_table = pd.concat([missing_value_cnt, percentage, data_types], axis=1)\n",
        "missing_values_table = missing_values_table.rename(columns = {0 : 'Missing Values', 1 : 'Percentage',2 : 'Data Types'})\n",
        "print (missing_values_table[missing_values_table['Percentage']>70])\n"
      ],
      "execution_count": 250,
      "outputs": [
        {
          "output_type": "stream",
          "text": [
            "                             Missing Values  Percentage Data Types\n",
            "mths_since_last_record               212660   87.854614    float64\n",
            "next_pymnt_d                         227214   93.867198     object\n",
            "mths_since_last_major_derog          198640   82.062638    float64\n",
            "annual_inc_joint                     242059  100.000000    float64\n",
            "dti_joint                            242059  100.000000    float64\n",
            "verification_status_joint            242059  100.000000    float64\n",
            "open_acc_6m                          242059  100.000000    float64\n",
            "open_il_6m                           242059  100.000000    float64\n",
            "open_il_12m                          242059  100.000000    float64\n",
            "open_il_24m                          242059  100.000000    float64\n",
            "mths_since_rcnt_il                   242059  100.000000    float64\n",
            "total_bal_il                         242059  100.000000    float64\n",
            "il_util                              242059  100.000000    float64\n",
            "open_rv_12m                          242059  100.000000    float64\n",
            "open_rv_24m                          242059  100.000000    float64\n",
            "max_bal_bc                           242059  100.000000    float64\n",
            "all_util                             242059  100.000000    float64\n",
            "inq_fi                               242059  100.000000    float64\n",
            "total_cu_tl                          242059  100.000000    float64\n",
            "inq_last_12m                         242059  100.000000    float64\n"
          ],
          "name": "stdout"
        }
      ]
    },
    {
      "cell_type": "code",
      "metadata": {
        "colab": {
          "base_uri": "https://localhost:8080/"
        },
        "id": "0PwCm-aGBdx8",
        "outputId": "b1088c72-7f4a-4aea-ca7d-77e9cd870a7d"
      },
      "source": [
        "cols_to_be_dropped=missing_values_table[missing_values_table['Percentage']>70].index\n",
        "len (cols_to_be_dropped)"
      ],
      "execution_count": 251,
      "outputs": [
        {
          "output_type": "execute_result",
          "data": {
            "text/plain": [
              "20"
            ]
          },
          "metadata": {
            "tags": []
          },
          "execution_count": 251
        }
      ]
    },
    {
      "cell_type": "code",
      "metadata": {
        "colab": {
          "base_uri": "https://localhost:8080/"
        },
        "id": "7BdwHf2IDYp_",
        "outputId": "8b3bc6d6-2880-4a3e-df00-890af1e7f092"
      },
      "source": [
        "df.drop([cols for cols in cols_to_be_dropped], axis=1,inplace=True)\n",
        "df.shape"
      ],
      "execution_count": 252,
      "outputs": [
        {
          "output_type": "execute_result",
          "data": {
            "text/plain": [
              "(242059, 46)"
            ]
          },
          "metadata": {
            "tags": []
          },
          "execution_count": 252
        }
      ]
    },
    {
      "cell_type": "markdown",
      "metadata": {
        "id": "cRiCldKrAnm3"
      },
      "source": [
        "![image.png](data:image/png;base64,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)"
      ]
    },
    {
      "cell_type": "code",
      "metadata": {
        "id": "ao1VkinbALx7"
      },
      "source": [
        "df['good_bad'] = np.where(df['loan_status'].isin(['Charged Off', 'Default',\n",
        "                                                               'Does not meet the credit policy. Status:Charged Off',\n",
        "                                                               'Late (31-120 days)','Late (16-30 days)']), 0, 1)"
      ],
      "execution_count": 253,
      "outputs": []
    },
    {
      "cell_type": "markdown",
      "metadata": {
        "id": "BruqBPj9LS-R"
      },
      "source": [
        "0 represents defaults or Bad Loan and 1 represents non-default or Good Loan"
      ]
    },
    {
      "cell_type": "code",
      "metadata": {
        "colab": {
          "base_uri": "https://localhost:8080/",
          "height": 334
        },
        "id": "wUZ-CyiM-E0g",
        "outputId": "13504103-5fd3-413e-be4f-fdd654bee2f7"
      },
      "source": [
        "# check for amount of defaulters in the data using countplot\n",
        "plt.figure(figsize=(14,5))\n",
        "sns.countplot(y=\"good_bad\", data=df)\n",
        "plt.show()"
      ],
      "execution_count": 254,
      "outputs": [
        {
          "output_type": "display_data",
          "data": {
            "image/png": "[encoded data removed]",
            "text/plain": [
              "<Figure size 1008x360 with 1 Axes>"
            ]
          },
          "metadata": {
            "tags": [],
            "needs_background": "light"
          }
        }
      ]
    },
    {
      "cell_type": "code",
      "metadata": {
        "colab": {
          "base_uri": "https://localhost:8080/"
        },
        "id": "Afovy0kmEhtk",
        "outputId": "469bf480-8964-4c4b-e06b-9f077dbe7757"
      },
      "source": [
        "# int_rate and revol_util are percentage strings\n",
        "print (df['int_rate'].head(2))\n",
        "print (df['revol_util'].head(2))"
      ],
      "execution_count": 255,
      "outputs": [
        {
          "output_type": "stream",
          "text": [
            "0    10.65\n",
            "1    15.27\n",
            "Name: int_rate, dtype: float64\n",
            "0    83.7\n",
            "1     9.4\n",
            "Name: revol_util, dtype: float64\n"
          ],
          "name": "stdout"
        }
      ]
    },
    {
      "cell_type": "markdown",
      "metadata": {
        "id": "Ki8Da9baPXw9"
      },
      "source": [
        "revol.util: The borrower's revolving line utilization rate (the amount of the credit line used relative to total credit available)."
      ]
    },
    {
      "cell_type": "code",
      "metadata": {
        "colab": {
          "base_uri": "https://localhost:8080/"
        },
        "id": "9ONrfwTKDXoN",
        "outputId": "14c93c03-6b7f-42df-ea3b-d6a4face3f14"
      },
      "source": [
        "# Distribution of interest rate charged to customers\n",
        "df['int_rate'].describe()"
      ],
      "execution_count": 256,
      "outputs": [
        {
          "output_type": "execute_result",
          "data": {
            "text/plain": [
              "count    242059.000000\n",
              "mean         13.881078\n",
              "std           4.386245\n",
              "min           5.420000\n",
              "25%          10.990000\n",
              "50%          13.670000\n",
              "75%          16.770000\n",
              "max          26.060000\n",
              "Name: int_rate, dtype: float64"
            ]
          },
          "metadata": {
            "tags": []
          },
          "execution_count": 256
        }
      ]
    },
    {
      "cell_type": "code",
      "metadata": {
        "colab": {
          "base_uri": "https://localhost:8080/",
          "height": 297
        },
        "id": "xv0xLrAn-lxS",
        "outputId": "3e71a2e5-024c-4494-d35b-d1fd12b53adb"
      },
      "source": [
        "sns.boxplot (df['int_rate'])"
      ],
      "execution_count": 257,
      "outputs": [
        {
          "output_type": "execute_result",
          "data": {
            "text/plain": [
              "<matplotlib.axes._subplots.AxesSubplot at 0x7ff1ca8997d0>"
            ]
          },
          "metadata": {
            "tags": []
          },
          "execution_count": 257
        },
        {
          "output_type": "display_data",
          "data": {
            "image/png": "[encoded data removed]",
            "text/plain": [
              "<Figure size 432x288 with 1 Axes>"
            ]
          },
          "metadata": {
            "tags": [],
            "needs_background": "light"
          }
        }
      ]
    },
    {
      "cell_type": "code",
      "metadata": {
        "colab": {
          "base_uri": "https://localhost:8080/"
        },
        "id": "jkfCXcFwQ1_H",
        "outputId": "3d8bad2e-6a7f-4ee9-cf38-f9e7720e04d6"
      },
      "source": [
        "# Distribution of Annual Income\n",
        "df['annual_inc'].describe()\n"
      ],
      "execution_count": 258,
      "outputs": [
        {
          "output_type": "execute_result",
          "data": {
            "text/plain": [
              "count    2.420550e+05\n",
              "mean     7.195602e+04\n",
              "std      5.507293e+04\n",
              "min      1.896000e+03\n",
              "25%      4.500000e+04\n",
              "50%      6.150000e+04\n",
              "75%      8.600000e+04\n",
              "max      7.141778e+06\n",
              "Name: annual_inc, dtype: float64"
            ]
          },
          "metadata": {
            "tags": []
          },
          "execution_count": 258
        }
      ]
    },
    {
      "cell_type": "code",
      "metadata": {
        "colab": {
          "base_uri": "https://localhost:8080/",
          "height": 353
        },
        "id": "DQa7lMFnR_Zd",
        "outputId": "6ee0a705-fbfe-4baf-d2e4-80374e54c2dd"
      },
      "source": [
        "\n",
        "plt.figure(figsize=(14,5))\n",
        "sns.boxplot(df['annual_inc'])"
      ],
      "execution_count": 259,
      "outputs": [
        {
          "output_type": "execute_result",
          "data": {
            "text/plain": [
              "<matplotlib.axes._subplots.AxesSubplot at 0x7ff1c2abed90>"
            ]
          },
          "metadata": {
            "tags": []
          },
          "execution_count": 259
        },
        {
          "output_type": "display_data",
          "data": {
            "image/png": "[encoded data removed]",
            "text/plain": [
              "<Figure size 1008x360 with 1 Axes>"
            ]
          },
          "metadata": {
            "tags": [],
            "needs_background": "light"
          }
        }
      ]
    },
    {
      "cell_type": "markdown",
      "metadata": {
        "id": "fYG0ZGXVSj0T"
      },
      "source": [
        "As evident people with very low income were also offered Loans "
      ]
    },
    {
      "cell_type": "code",
      "metadata": {
        "colab": {
          "base_uri": "https://localhost:8080/",
          "height": 296
        },
        "id": "bNudWAQ3RUUL",
        "outputId": "0dd86cea-dc5c-445e-fb47-2ac62a26c4f2"
      },
      "source": [
        "# grade\n",
        "level_order = ['A', 'B', 'C', 'D', 'E', 'F', 'G']\n",
        "sns.countplot(data = df, x = 'grade', order=level_order)"
      ],
      "execution_count": 260,
      "outputs": [
        {
          "output_type": "execute_result",
          "data": {
            "text/plain": [
              "<matplotlib.axes._subplots.AxesSubplot at 0x7ff1caacded0>"
            ]
          },
          "metadata": {
            "tags": []
          },
          "execution_count": 260
        },
        {
          "output_type": "display_data",
          "data": {
            "image/png": "[encoded data removed]",
            "text/plain": [
              "<Figure size 432x288 with 1 Axes>"
            ]
          },
          "metadata": {
            "tags": [],
            "needs_background": "light"
          }
        }
      ]
    },
    {
      "cell_type": "markdown",
      "metadata": {
        "id": "Y8v-1I5YSuzS"
      },
      "source": [
        "Most of the Borrowers are belonging to category A and B. Also low categories have very less number of borrowers"
      ]
    },
    {
      "cell_type": "code",
      "metadata": {
        "colab": {
          "base_uri": "https://localhost:8080/",
          "height": 348
        },
        "id": "a16tKAnuXR8e",
        "outputId": "719a5bd5-bb3d-425f-eadc-3bdb79a4b983"
      },
      "source": [
        "# Since 0 represents Bad loan \n",
        "level_order = ['A', 'B', 'C', 'D', 'E', 'F', 'G']\n",
        "ax=sns.barplot(y=df['good_bad']== 0, x = df['grade'], order=level_order)\n",
        "ax.set(ylabel=\"Defaulter %\", xlabel = \"Grades\",title='Loan defaults wrt Grade')\n",
        "\n"
      ],
      "execution_count": 264,
      "outputs": [
        {
          "output_type": "execute_result",
          "data": {
            "text/plain": [
              "[Text(0, 0.5, 'Defaulter %'),\n",
              " Text(0.5, 0, 'Grades'),\n",
              " Text(0.5, 1.0, 'Loan defaults wrt Grade')]"
            ]
          },
          "metadata": {
            "tags": []
          },
          "execution_count": 264
        },
        {
          "output_type": "display_data",
          "data": {
            "image/png": "[encoded data removed]",
            "text/plain": [
              "<Figure size 432x288 with 1 Axes>"
            ]
          },
          "metadata": {
            "tags": [],
            "needs_background": "light"
          }
        }
      ]
    },
    {
      "cell_type": "markdown",
      "metadata": {
        "id": "e4t59hxMbDB8"
      },
      "source": [
        "Most of Defaulters belong to lower grades"
      ]
    },
    {
      "cell_type": "code",
      "metadata": {
        "colab": {
          "base_uri": "https://localhost:8080/",
          "height": 437
        },
        "id": "pE64YmDLSqoo",
        "outputId": "8006c339-9b43-4c83-cf67-855da5a80d2c"
      },
      "source": [
        "plt.figure(figsize=(14,5))\n",
        "sns.countplot(df['purpose'])\n",
        "plt.xticks(rotation=45)"
      ],
      "execution_count": 265,
      "outputs": [
        {
          "output_type": "execute_result",
          "data": {
            "text/plain": [
              "(array([ 0,  1,  2,  3,  4,  5,  6,  7,  8,  9, 10, 11, 12, 13]),\n",
              " <a list of 14 Text major ticklabel objects>)"
            ]
          },
          "metadata": {
            "tags": []
          },
          "execution_count": 265
        },
        {
          "output_type": "display_data",
          "data": {
            "image/png": "[encoded data removed]",
            "text/plain": [
              "<Figure size 1008x360 with 1 Axes>"
            ]
          },
          "metadata": {
            "tags": [],
            "needs_background": "light"
          }
        }
      ]
    },
    {
      "cell_type": "code",
      "metadata": {
        "colab": {
          "base_uri": "https://localhost:8080/",
          "height": 162
        },
        "id": "jIAZqXQDTVxd",
        "outputId": "606b4a4a-d46f-42e3-d43a-9a7992d4b414"
      },
      "source": [
        "df.head(2)\n"
      ],
      "execution_count": 266,
      "outputs": [
        {
          "output_type": "execute_result",
          "data": {
            "text/html": [
              "<div>\n",
              "<style scoped>\n",
              "    .dataframe tbody tr th:only-of-type {\n",
              "        vertical-align: middle;\n",
              "    }\n",
              "\n",
              "    .dataframe tbody tr th {\n",
              "        vertical-align: top;\n",
              "    }\n",
              "\n",
              "    .dataframe thead th {\n",
              "        text-align: right;\n",
              "    }\n",
              "</style>\n",
              "<table border=\"1\" class=\"dataframe\">\n",
              "  <thead>\n",
              "    <tr style=\"text-align: right;\">\n",
              "      <th></th>\n",
              "      <th>loan_amnt</th>\n",
              "      <th>funded_amnt</th>\n",
              "      <th>funded_amnt_inv</th>\n",
              "      <th>term</th>\n",
              "      <th>int_rate</th>\n",
              "      <th>installment</th>\n",
              "      <th>grade</th>\n",
              "      <th>sub_grade</th>\n",
              "      <th>emp_length</th>\n",
              "      <th>home_ownership</th>\n",
              "      <th>annual_inc</th>\n",
              "      <th>verification_status</th>\n",
              "      <th>issue_d</th>\n",
              "      <th>loan_status</th>\n",
              "      <th>pymnt_plan</th>\n",
              "      <th>purpose</th>\n",
              "      <th>addr_state</th>\n",
              "      <th>dti</th>\n",
              "      <th>delinq_2yrs</th>\n",
              "      <th>earliest_cr_line</th>\n",
              "      <th>inq_last_6mths</th>\n",
              "      <th>mths_since_last_delinq</th>\n",
              "      <th>open_acc</th>\n",
              "      <th>pub_rec</th>\n",
              "      <th>revol_bal</th>\n",
              "      <th>revol_util</th>\n",
              "      <th>total_acc</th>\n",
              "      <th>initial_list_status</th>\n",
              "      <th>out_prncp</th>\n",
              "      <th>out_prncp_inv</th>\n",
              "      <th>total_pymnt</th>\n",
              "      <th>total_pymnt_inv</th>\n",
              "      <th>total_rec_prncp</th>\n",
              "      <th>total_rec_int</th>\n",
              "      <th>total_rec_late_fee</th>\n",
              "      <th>recoveries</th>\n",
              "      <th>collection_recovery_fee</th>\n",
              "      <th>last_pymnt_d</th>\n",
              "      <th>last_pymnt_amnt</th>\n",
              "      <th>last_credit_pull_d</th>\n",
              "      <th>collections_12_mths_ex_med</th>\n",
              "      <th>policy_code</th>\n",
              "      <th>acc_now_delinq</th>\n",
              "      <th>tot_coll_amt</th>\n",
              "      <th>tot_cur_bal</th>\n",
              "      <th>total_rev_hi_lim</th>\n",
              "      <th>good_bad</th>\n",
              "    </tr>\n",
              "  </thead>\n",
              "  <tbody>\n",
              "    <tr>\n",
              "      <th>0</th>\n",
              "      <td>5000</td>\n",
              "      <td>5000</td>\n",
              "      <td>4975.0</td>\n",
              "      <td>36 months</td>\n",
              "      <td>10.65</td>\n",
              "      <td>162.87</td>\n",
              "      <td>B</td>\n",
              "      <td>B2</td>\n",
              "      <td>10+ years</td>\n",
              "      <td>RENT</td>\n",
              "      <td>24000.0</td>\n",
              "      <td>Verified</td>\n",
              "      <td>Dec-11</td>\n",
              "      <td>Fully Paid</td>\n",
              "      <td>n</td>\n",
              "      <td>credit_card</td>\n",
              "      <td>AZ</td>\n",
              "      <td>27.65</td>\n",
              "      <td>0.0</td>\n",
              "      <td>Jan-85</td>\n",
              "      <td>1.0</td>\n",
              "      <td>NaN</td>\n",
              "      <td>3.0</td>\n",
              "      <td>0.0</td>\n",
              "      <td>13648</td>\n",
              "      <td>83.7</td>\n",
              "      <td>9.0</td>\n",
              "      <td>f</td>\n",
              "      <td>0.0</td>\n",
              "      <td>0.0</td>\n",
              "      <td>5861.071414</td>\n",
              "      <td>5831.78</td>\n",
              "      <td>5000.00</td>\n",
              "      <td>861.07</td>\n",
              "      <td>0.0</td>\n",
              "      <td>0.00</td>\n",
              "      <td>0.00</td>\n",
              "      <td>Jan-15</td>\n",
              "      <td>171.62</td>\n",
              "      <td>Jan-16</td>\n",
              "      <td>0.0</td>\n",
              "      <td>1</td>\n",
              "      <td>0.0</td>\n",
              "      <td>NaN</td>\n",
              "      <td>NaN</td>\n",
              "      <td>NaN</td>\n",
              "      <td>1</td>\n",
              "    </tr>\n",
              "    <tr>\n",
              "      <th>1</th>\n",
              "      <td>2500</td>\n",
              "      <td>2500</td>\n",
              "      <td>2500.0</td>\n",
              "      <td>60 months</td>\n",
              "      <td>15.27</td>\n",
              "      <td>59.83</td>\n",
              "      <td>C</td>\n",
              "      <td>C4</td>\n",
              "      <td>&lt; 1 year</td>\n",
              "      <td>RENT</td>\n",
              "      <td>30000.0</td>\n",
              "      <td>Source Verified</td>\n",
              "      <td>Dec-11</td>\n",
              "      <td>Charged Off</td>\n",
              "      <td>n</td>\n",
              "      <td>car</td>\n",
              "      <td>GA</td>\n",
              "      <td>1.00</td>\n",
              "      <td>0.0</td>\n",
              "      <td>Apr-99</td>\n",
              "      <td>5.0</td>\n",
              "      <td>NaN</td>\n",
              "      <td>3.0</td>\n",
              "      <td>0.0</td>\n",
              "      <td>1687</td>\n",
              "      <td>9.4</td>\n",
              "      <td>4.0</td>\n",
              "      <td>f</td>\n",
              "      <td>0.0</td>\n",
              "      <td>0.0</td>\n",
              "      <td>1008.710000</td>\n",
              "      <td>1008.71</td>\n",
              "      <td>456.46</td>\n",
              "      <td>435.17</td>\n",
              "      <td>0.0</td>\n",
              "      <td>117.08</td>\n",
              "      <td>1.11</td>\n",
              "      <td>Apr-13</td>\n",
              "      <td>119.66</td>\n",
              "      <td>Sep-13</td>\n",
              "      <td>0.0</td>\n",
              "      <td>1</td>\n",
              "      <td>0.0</td>\n",
              "      <td>NaN</td>\n",
              "      <td>NaN</td>\n",
              "      <td>NaN</td>\n",
              "      <td>0</td>\n",
              "    </tr>\n",
              "  </tbody>\n",
              "</table>\n",
              "</div>"
            ],
            "text/plain": [
              "   loan_amnt  funded_amnt  ...  total_rev_hi_lim good_bad\n",
              "0       5000         5000  ...               NaN        1\n",
              "1       2500         2500  ...               NaN        0\n",
              "\n",
              "[2 rows x 47 columns]"
            ]
          },
          "metadata": {
            "tags": []
          },
          "execution_count": 266
        }
      ]
    },
    {
      "cell_type": "code",
      "metadata": {
        "colab": {
          "base_uri": "https://localhost:8080/"
        },
        "id": "_1fv9fDNUVK1",
        "outputId": "72c0a9fd-f9eb-4689-b898-bd064694fd3a"
      },
      "source": [
        "df.shape"
      ],
      "execution_count": 267,
      "outputs": [
        {
          "output_type": "execute_result",
          "data": {
            "text/plain": [
              "(242059, 47)"
            ]
          },
          "metadata": {
            "tags": []
          },
          "execution_count": 267
        }
      ]
    },
    {
      "cell_type": "code",
      "metadata": {
        "id": "eRKkz3MaWkvr"
      },
      "source": [
        ""
      ],
      "execution_count": null,
      "outputs": []
    },
    {
      "cell_type": "markdown",
      "metadata": {
        "id": "jpxW82GYbZBg"
      },
      "source": [
        ""
      ]
    }
  ]
}